{
 "cells": [
  {
   "cell_type": "markdown",
   "metadata": {},
   "source": [
    "Okay, so it's not more role-playing games. It's more looking at the steem blockchain and building graphs.\n",
    "\n",
    "I can't exactly tell you why I have been fascinated by this lately, except to say that it's been a long time since I cut any significant amount of code and I don't see a lot of people approaching the issue by looking at relationships versus hard numbers. That's what I find interesting.\n",
    "\n",
    "This is another of those \"you're going to see all the code\" Jupyter Notebook deals, so if you're just here for the pretty pictures, brace yourself and prepare to hum through the code-bits.\n",
    "\n",
    "[Yesterday's analysis gave us a pretty interesting set of things to look at.](https://steemit.com/technology/@lextenebris/steem-study-yes-more-flows-out-than-in) We were just looking at literal financial transfers on the blockchain and purely the directionality of those things. Today I think we're going to look at a different kind of transaction: votes which involve the top 200 most powerful accounts by SP on the blockchain.\n",
    "\n",
    "I keep going back to that set because they represent way more than 50% of all active power by SP. As such, collectively, they have the power to redirect more than 50% of the rewards pool. Even allowing for the fact that some of these accounts are sitting around doing nothing, the amount of pooled SP is enormous. Each of those theoretical votes is enormous.\n",
    "\n"
   ]
  },
  {
   "cell_type": "markdown",
   "metadata": {},
   "source": [
    "Let's start by building a new database extraction of those top 200 accounts, and try to do so with a more efficient database query."
   ]
  },
  {
   "cell_type": "markdown",
   "metadata": {},
   "source": [
    "## Building the New Query"
   ]
  },
  {
   "cell_type": "code",
   "execution_count": 1,
   "metadata": {},
   "outputs": [],
   "source": [
    "# Setting up the imports for our basic query tools\n",
    "\n",
    "from steemdata import SteemData\n",
    "import datetime\n",
    "from datetime import datetime as dt\n",
    "\n",
    "from pprint import pprint"
   ]
  },
  {
   "cell_type": "code",
   "execution_count": 43,
   "metadata": {},
   "outputs": [],
   "source": [
    "# Init connection to database\n",
    "\n",
    "db = SteemData()"
   ]
  },
  {
   "cell_type": "code",
   "execution_count": 44,
   "metadata": {},
   "outputs": [],
   "source": [
    "# Just a list of all accounts over a value of 10,000 vests. \n",
    "#   That should neatly cut out most of the results.\n",
    "\n",
    "query = {'vesting_shares.amount': {'$gte': 10000}}"
   ]
  },
  {
   "cell_type": "code",
   "execution_count": 45,
   "metadata": {},
   "outputs": [],
   "source": [
    "# Projections define what fields we'll be returning \n",
    "#   from the query. We want the total number of vests, \n",
    "#   descending. We DON'T want the hashed ID.\n",
    "\n",
    "proj = {'name': 1,\n",
    "        'vesting_shares.amount': 1,\n",
    "        '_id': 0}"
   ]
  },
  {
   "cell_type": "code",
   "execution_count": 46,
   "metadata": {},
   "outputs": [],
   "source": [
    "# This is a different looking piece of code than before \n",
    "#   because we're integrating the sorting from highest \n",
    "#   to lowest in the query itself. Then we're limiting \n",
    "#   it straight off the bat to the accounts we want.\n",
    "\n",
    "result = db.Accounts.find(query,\n",
    "                          projection=proj,\n",
    "                          sort=[('vesting_shares.amount', -1)],\n",
    "                          limit=50)"
   ]
  },
  {
   "cell_type": "markdown",
   "metadata": {},
   "source": [
    "What's that look like, I wonder?"
   ]
  },
  {
   "cell_type": "code",
   "execution_count": 47,
   "metadata": {},
   "outputs": [],
   "source": [
    "# We need to turn the result into a list so we can work\n",
    "#   with it.\n",
    "\n",
    "resL = list(result)"
   ]
  },
  {
   "cell_type": "code",
   "execution_count": 48,
   "metadata": {},
   "outputs": [
    {
     "name": "stdout",
     "output_type": "stream",
     "text": [
      "[{'name': 'steemit', 'vesting_shares': {'amount': 90039851836.6897}},\n",
      " {'name': 'misterdelegation', 'vesting_shares': {'amount': 33854469950.665653}},\n",
      " {'name': 'steem', 'vesting_shares': {'amount': 21249773925.079193}},\n",
      " {'name': 'freedom', 'vesting_shares': {'amount': 15607962233.428}},\n",
      " {'name': 'blocktrades', 'vesting_shares': {'amount': 9497442946.221754}},\n",
      " {'name': 'ned', 'vesting_shares': {'amount': 7344140982.676874}},\n",
      " {'name': 'mottler', 'vesting_shares': {'amount': 4617011297.0}},\n",
      " {'name': 'databass', 'vesting_shares': {'amount': 3500010180.297931}},\n",
      " {'name': 'hendrikdegrote', 'vesting_shares': {'amount': 3298001762.871842}},\n",
      " {'name': 'jamesc', 'vesting_shares': {'amount': 3199868835.022211}}]\n"
     ]
    },
    {
     "data": {
      "text/plain": [
       "50"
      ]
     },
     "execution_count": 48,
     "metadata": {},
     "output_type": "execute_result"
    }
   ],
   "source": [
    "pprint(resL[:10])\n",
    "\n",
    "len(resL)"
   ]
  },
  {
   "cell_type": "markdown",
   "metadata": {},
   "source": [
    "Perfect! That is a far faster and more efficient query than we have been using, which I am sure that @furion appreciates.\n",
    "\n",
    "I appreciate it because it comes back with exactly what I want in a way that I can use it, right out of the database. No extra sorting algorithms or time invested in working them out necessary."
   ]
  },
  {
   "cell_type": "code",
   "execution_count": 49,
   "metadata": {},
   "outputs": [
    {
     "name": "stdout",
     "output_type": "stream",
     "text": [
      "['steemit',\n",
      " 'misterdelegation',\n",
      " 'steem',\n",
      " 'freedom',\n",
      " 'blocktrades',\n",
      " 'ned',\n",
      " 'mottler',\n",
      " 'databass',\n",
      " 'hendrikdegrote',\n",
      " 'jamesc']\n"
     ]
    }
   ],
   "source": [
    "intL = [e['name'] for e in resL]\n",
    "\n",
    "pprint(intL[:10])"
   ]
  },
  {
   "cell_type": "markdown",
   "metadata": {},
   "source": [
    "Now that we have our targets of interest, we need to look at the transaction Collection. That's going to be our next target."
   ]
  },
  {
   "cell_type": "markdown",
   "metadata": {},
   "source": [
    "![](https://d.pics/i/QmQ8SfukXmEDHiZZo4WrQz9D8SXKjrfmnegYkC1z3zsJd3)"
   ]
  },
  {
   "cell_type": "markdown",
   "metadata": {},
   "source": [
    "Here's the basic anatomy of a vote inside the Operations Collection in the database. It's interesting to note that we have the author, the voter, the date, the weight – but we would have to work backwards to figure out what that weight actually was in terms of vests.\n",
    "\n",
    "I suppose I can thank normalized databases for that.\n",
    "\n",
    "From my point of view, this provides a certain complication. I would really like to know how much SP that represented at the time the vote was made, but hacking that out is nontrivial.\n",
    "\n",
    "The naïve and lazy version (which is inherently superior because it is naïve and lazy) would be to look up the current number of vests held by the voter and scale appropriately. Given that we are only going to be looking at votes from the last week as a first approximation, this may suffice."
   ]
  },
  {
   "cell_type": "code",
   "execution_count": 9,
   "metadata": {},
   "outputs": [],
   "source": [
    "# We want only the vote transactions which have happened\n",
    "#   in the last week. Luckily, we worked out how to do\n",
    "#   date-range queries in an earlier bit.\n",
    "\n",
    "query = {\n",
    "    'type': 'vote',\n",
    "    'timestamp': {'$gte': dt.now() - datetime.timedelta(days=7)}}\n",
    "\n",
    "proj = {'voter': 1, 'author': 1, 'weight': 1}"
   ]
  },
  {
   "cell_type": "code",
   "execution_count": 10,
   "metadata": {},
   "outputs": [],
   "source": [
    "result = db.Operations.find(query,\n",
    "                            projection=proj)\n",
    "\n",
    "voteL = list(result)"
   ]
  },
  {
   "cell_type": "code",
   "execution_count": 11,
   "metadata": {},
   "outputs": [
    {
     "name": "stdout",
     "output_type": "stream",
     "text": [
      "[{'_id': 'd1596d456b6bcc0248ecc70ae8d07cfc1b92ad0a',\n",
      "  'author': 'hodgetwins',\n",
      "  'voter': 'nour-money31',\n",
      "  'weight': 10000},\n",
      " {'_id': 'd1fcdba491a673a8c37103359e627e50d8990bf8',\n",
      "  'author': 'marksheppard',\n",
      "  'voter': 'shahidshah',\n",
      "  'weight': 10000},\n",
      " {'_id': 'f3705f34765100827a6f7e275232b2452d64de9b',\n",
      "  'author': 'syllem',\n",
      "  'voter': 'thetiger',\n",
      "  'weight': 10000},\n",
      " {'_id': 'f2c719d070164684cc1088765b8332dadc9673ef',\n",
      "  'author': 'krguidedog',\n",
      "  'voter': 'asbear',\n",
      "  'weight': 700},\n",
      " {'_id': 'c9c7ceeb0587821b1112384fea99885067ba88a2',\n",
      "  'author': 'mazzle',\n",
      "  'voter': 'minnowsupport',\n",
      "  'weight': 50}]\n"
     ]
    },
    {
     "data": {
      "text/plain": [
       "5494637"
      ]
     },
     "execution_count": 11,
     "metadata": {},
     "output_type": "execute_result"
    }
   ],
   "source": [
    "pprint(voteL[:5])\n",
    "\n",
    "len(voteL)"
   ]
  },
  {
   "cell_type": "markdown",
   "metadata": {},
   "source": [
    "5 1/2 million votes in the last week is nothing to shake a stick at. In fact, that's a lot of data to juggle.\n",
    "\n",
    "I have some ideas about ways to cut the number of results that we have going on here; we might as well try one!\n",
    "\n",
    "We might try only looking for votes which involve one of our accounts of interest. If we are lucky, we can get the database side to do most of the filtering for us."
   ]
  },
  {
   "cell_type": "code",
   "execution_count": 50,
   "metadata": {},
   "outputs": [],
   "source": [
    "# We want only the vote transactions which have happened\n",
    "#   in the last week AND involve only our accounts of interest. \n",
    "\n",
    "query = {\n",
    "    'type' : 'vote',\n",
    "    'timestamp' : {'$gte': dt.now() - datetime.timedelta(days=7)},\n",
    "    '$or': [{'author': {'$in': intL}},\n",
    "           {'voter': {'$in': intL}}] \n",
    "    }\n",
    "\n",
    "proj = {'voter': 1, 'author': 1, 'weight': 1}"
   ]
  },
  {
   "cell_type": "code",
   "execution_count": 51,
   "metadata": {},
   "outputs": [
    {
     "name": "stdout",
     "output_type": "stream",
     "text": [
      "Wall time: 49.5 s\n"
     ]
    }
   ],
   "source": [
    "result = db.Operations.find(query,\n",
    "                            projection=proj)\n",
    "\n",
    "%time intVL = list(result)"
   ]
  },
  {
   "cell_type": "code",
   "execution_count": 52,
   "metadata": {},
   "outputs": [
    {
     "name": "stdout",
     "output_type": "stream",
     "text": [
      "[{'_id': '6f0c88326295c5c6d67f58613e128429c39236b2',\n",
      "  'author': 'steemcleaners',\n",
      "  'voter': 'adm',\n",
      "  'weight': 150},\n",
      " {'_id': '19a354e6e512608f621cbd5f11ba88233d054405',\n",
      "  'author': 'tejma',\n",
      "  'voter': 'wackou',\n",
      "  'weight': 160},\n",
      " {'_id': '2116e93daadb674fddf693743c711a7bfceb5030',\n",
      "  'author': 'goldmonhla',\n",
      "  'voter': 'pharesim',\n",
      "  'weight': 2},\n",
      " {'_id': '364c14f2bcfb029c7cdcd81f5cc8784d98a36f66',\n",
      "  'author': 'skypointstudios',\n",
      "  'voter': 'fulltimegeek',\n",
      "  'weight': 300},\n",
      " {'_id': '2749931690d884af3be8202228de2c48f907d78b',\n",
      "  'author': 'skycae',\n",
      "  'voter': 'fulltimegeek',\n",
      "  'weight': 600}]\n"
     ]
    },
    {
     "data": {
      "text/plain": [
       "42125"
      ]
     },
     "execution_count": 52,
     "metadata": {},
     "output_type": "execute_result"
    }
   ],
   "source": [
    "pprint(intVL[:5])\n",
    "\n",
    "len(intVL)"
   ]
  },
  {
   "cell_type": "markdown",
   "metadata": {},
   "source": [
    "That brings us from 5 million votes down to looking at a collection of only 188,000. Which is better, don't get me wrong – but graphing 188,000 edges is going to be ugly.\n",
    "\n",
    "Maybe we can clean this up a little bit. Since we are going to use weight, let's drop that from what we are pulling back. And once we have the weight removed, we don't need duplicates of votes. That will leave us with a network of connected accounts, completely ignoring the articles which may connect them."
   ]
  },
  {
   "cell_type": "code",
   "execution_count": 53,
   "metadata": {},
   "outputs": [],
   "source": [
    "# We want only the vote transactions which have happened\n",
    "#   in the last week AND involve only our accounts of interest,\n",
    "#   AND we want unique results if we can arrange it.\n",
    "\n",
    "query = {\n",
    "    'type' : 'vote',\n",
    "    'timestamp' : {'$gte': dt.now() - datetime.timedelta(days=7)},\n",
    "    '$or': [{'author': {'$in': intL}},\n",
    "           {'voter': {'$in': intL}}] \n",
    "    }\n",
    "\n",
    "proj = {'voter': 1, 'author': 1, '_id': 0}"
   ]
  },
  {
   "cell_type": "code",
   "execution_count": 54,
   "metadata": {},
   "outputs": [
    {
     "name": "stdout",
     "output_type": "stream",
     "text": [
      "Wall time: 13.5 s\n"
     ]
    }
   ],
   "source": [
    "result = db.Operations.find(query,\n",
    "                            projection=proj)\n",
    "\n",
    "%time intVL = list(result)"
   ]
  },
  {
   "cell_type": "code",
   "execution_count": 55,
   "metadata": {},
   "outputs": [
    {
     "name": "stdout",
     "output_type": "stream",
     "text": [
      "[{'author': 'steemcleaners', 'voter': 'adm'},\n",
      " {'author': 'fyrstikken', 'voter': 'jukian'},\n",
      " {'author': 'steemcleaners', 'voter': 'adm'},\n",
      " {'author': 'tejma', 'voter': 'wackou'},\n",
      " {'author': 'goldmonhla', 'voter': 'pharesim'}]\n"
     ]
    },
    {
     "data": {
      "text/plain": [
       "42126"
      ]
     },
     "execution_count": 55,
     "metadata": {},
     "output_type": "execute_result"
    }
   ],
   "source": [
    "pprint(intVL[:5])\n",
    "\n",
    "len(intVL)"
   ]
  },
  {
   "cell_type": "code",
   "execution_count": 57,
   "metadata": {},
   "outputs": [
    {
     "data": {
      "text/plain": [
       "[('adm', 'steemcleaners'),\n",
       " ('jukian', 'fyrstikken'),\n",
       " ('adm', 'steemcleaners'),\n",
       " ('wackou', 'tejma'),\n",
       " ('pharesim', 'goldmonhla'),\n",
       " ('fulltimegeek', 'skypointstudios'),\n",
       " ('fulltimegeek', 'skycae'),\n",
       " ('adm', 'steemcleaners'),\n",
       " ('adm', 'steemcleaners'),\n",
       " ('donkeypong', 'cryptogee')]"
      ]
     },
     "execution_count": 57,
     "metadata": {},
     "output_type": "execute_result"
    }
   ],
   "source": [
    "intVLT = []\n",
    "\n",
    "for e in intVL:\n",
    "    intVLT.append((e['voter'], e['author']))\n",
    "    \n",
    "intVLT[:10]\n"
   ]
  },
  {
   "cell_type": "code",
   "execution_count": 58,
   "metadata": {},
   "outputs": [],
   "source": [
    "from more_itertools import unique_everseen\n",
    "\n",
    "intUVL = list(unique_everseen(intVLT))"
   ]
  },
  {
   "cell_type": "code",
   "execution_count": 59,
   "metadata": {},
   "outputs": [
    {
     "name": "stdout",
     "output_type": "stream",
     "text": [
      "19471\n",
      "[('adm', 'steemcleaners'),\n",
      " ('jukian', 'fyrstikken'),\n",
      " ('wackou', 'tejma'),\n",
      " ('pharesim', 'goldmonhla'),\n",
      " ('fulltimegeek', 'skypointstudios'),\n",
      " ('fulltimegeek', 'skycae'),\n",
      " ('donkeypong', 'cryptogee'),\n",
      " ('pharesim', 'meesterboom'),\n",
      " ('fulltimegeek', 'abh12345'),\n",
      " ('adsactly', 'meesterboom')]\n"
     ]
    }
   ],
   "source": [
    "pprint(len(intUVL))\n",
    "\n",
    "pprint(intUVL[:10])"
   ]
  },
  {
   "cell_type": "markdown",
   "metadata": {},
   "source": [
    "84,000 edges is something more like reasonable for our purposes.\n",
    "\n",
    "It's still rather extreme, but it's far better than 5 million edges.\n",
    "\n",
    "Because Python sets are iterators, we'll just be able to step down the collection and build some edges.\n",
    "\n",
    "Time to break out the graphviz!"
   ]
  },
  {
   "cell_type": "code",
   "execution_count": 60,
   "metadata": {},
   "outputs": [],
   "source": [
    "from graphviz import Digraph"
   ]
  },
  {
   "cell_type": "code",
   "execution_count": 61,
   "metadata": {},
   "outputs": [],
   "source": [
    "dot = Digraph(comment=\"Steem Core Vote Relations\", \n",
    "              format=\"jpg\",\n",
    "              engine=\"sfdp\")"
   ]
  },
  {
   "cell_type": "code",
   "execution_count": 62,
   "metadata": {},
   "outputs": [],
   "source": [
    "dot.attr('graph', overlap='false')\n",
    "dot.attr('graph', ratio='auto')\n",
    "dot.attr('graph', size='10000000,10000000')\n",
    "dot.attr('graph', start='1.0')\n",
    "dot.attr('graph', K='100000')\n",
    "dot.attr('graph', margin='5')"
   ]
  },
  {
   "cell_type": "code",
   "execution_count": 63,
   "metadata": {},
   "outputs": [],
   "source": [
    "dot.attr('node', shape='square', style='filled', color='black', fillcolor='green')"
   ]
  },
  {
   "cell_type": "code",
   "execution_count": 64,
   "metadata": {},
   "outputs": [],
   "source": [
    "for a in intL:\n",
    "    dot.node(a, a)"
   ]
  },
  {
   "cell_type": "code",
   "execution_count": 65,
   "metadata": {},
   "outputs": [],
   "source": [
    "dot.attr('node', shape='oval', color='black', fillcolor='lightgrey')"
   ]
  },
  {
   "cell_type": "code",
   "execution_count": 66,
   "metadata": {},
   "outputs": [],
   "source": [
    "# Let's try just the first 10,000\n",
    "\n",
    "for e in intUVL[:10000]:\n",
    "    if e[0] in intL:\n",
    "        if e[1] in intL:\n",
    "             dot.edge(e[0], e[1], color='black')\n",
    "        else:\n",
    "             dot.edge(e[0], e[1], color='green')\n",
    "    else:\n",
    "        dot.edge(e[0], e[1], color='red')"
   ]
  },
  {
   "cell_type": "code",
   "execution_count": 67,
   "metadata": {},
   "outputs": [
    {
     "name": "stdout",
     "output_type": "stream",
     "text": [
      "Wall time: 2min 18s\n"
     ]
    },
    {
     "data": {
      "text/plain": [
       "'steemVoteRelationships.png'"
      ]
     },
     "execution_count": 67,
     "metadata": {},
     "output_type": "execute_result"
    }
   ],
   "source": [
    "%time dot.render('steemVoteRelationships', view=True)"
   ]
  },
  {
   "cell_type": "markdown",
   "metadata": {},
   "source": [
    "## The Big Reveal"
   ]
  },
  {
   "cell_type": "markdown",
   "metadata": {},
   "source": [
    "Let's start with the top 200 accounts, pull all the transactions which involve votes and and them for the last week, and then realize that we have way too many edges to graph with the systems that we have at hand (and probably too many to actually rationally make an analysis of), and just take the top 10,000.\n",
    "\n",
    "That's roughly 1/8 of the full load, or perhaps better visualized as slightly less than one day of votes involving any of the 200 accounts.\n",
    "\n",
    "Perhaps not surprisingly, this graph is super dense. It's also super large.\n",
    "\n",
    "But here's the thing – it surprised me.\n",
    "\n",
    "Pull back and look at this. Remember what we've said before about these graphs; the system tries to cluster things with more connections to one another closer to one another. Relationships roughly map to distance.\n",
    "\n",
    "As on my previous graphs, green lines are energy flowing into the 200 accounts in question and redlines are energy flowing out of those 200 accounts."
   ]
  },
  {
   "cell_type": "markdown",
   "metadata": {},
   "source": [
    "[![Imgur](https://i.imgur.com/zfaeEJb.jpg)](https://drive.google.com/file/d/1PyELRh87kUDZKKAbsla3j0Of5b-XO4Kp/view?usp=sharing)\n",
    "\n",
    "*(Click on the image to go to download the whole thing for your own pleasure.)*"
   ]
  },
  {
   "cell_type": "markdown",
   "metadata": {},
   "source": [
    "Notice the vast lack of overlap between this set of accounts in the top 200 which are involved in giving votes and the set in the top 200 which are involved in giving votes.\n",
    "\n",
    "\"Never the twain shall meet\" might be an exaggeration – but it's only a slight one.\n",
    "\n",
    "As expected at some level, there are a fairly significant number of whales which don't involve themselves in up voting or down voting at all. For the sake of these diagrams, we don't distinguish the two. None of the SP in those accounts for that time slice was being exercised to redirect any of the rewards pool. They are acting purely as value repositories.\n",
    "\n",
    "But check out the rest of that action! There are very clear, extreme loci of activity, and they are highly specialized."
   ]
  },
  {
   "cell_type": "markdown",
   "metadata": {},
   "source": [
    "There is one account with a relatively balanced degree of connection to both up votes and down votes: @onceuponatime"
   ]
  },
  {
   "cell_type": "markdown",
   "metadata": {},
   "source": [
    "You'd probably expect @curie to be in either a much more central position than it occupies or much further out into the green zone, but it hangs at a strangely indecisive position. I'm chalking that up to the fact that they frequently solicit up votes on the comments which let people know they have received a @curie boost."
   ]
  },
  {
   "cell_type": "markdown",
   "metadata": {},
   "source": [
    "Similarly surprising, @ausbitbank has a _huge_ number of green outgoing botes and almost nothing coming back in. I've passed words with him before so I'm aware that he actually exists as a thinking, speaking being and not just a bot, which makes it all the more shocking."
   ]
  },
  {
   "cell_type": "markdown",
   "metadata": {},
   "source": [
    "The area to the southeast it is of particular interest to me because these are whale accounts which are creating content to get voted on and are receiving those votes in great number. Far more than, at least at the time sampled by our system here, they are putting votes out."
   ]
  },
  {
   "cell_type": "markdown",
   "metadata": {},
   "source": [
    "But this is a really messy view. Surely we can do better!"
   ]
  },
  {
   "cell_type": "markdown",
   "metadata": {},
   "source": [
    "## Cut in Twain"
   ]
  },
  {
   "cell_type": "markdown",
   "metadata": {},
   "source": [
    "How about we cut down the number of accounts were interested in by half? Let's just look at the top 100 accounts and the votes that they engaged with over the last week?"
   ]
  },
  {
   "cell_type": "markdown",
   "metadata": {},
   "source": [
    "[![Imgur](https://i.imgur.com/g0TvO94.jpg)](https://drive.google.com/file/d/1htul3zocVKL9jrMspgcQBGVV_bOlClke/view?usp=sharing)\n",
    "\n",
    "*(Click on the image to go to download the whole thing for your own horror.)*"
   ]
  },
  {
   "cell_type": "markdown",
   "metadata": {},
   "source": [
    "We still have a bit of a problem. The number of votes going back and forth well exceeds 10,000. In fact, we are only down to 50,000 or so. Again, will just take the top 10,000 from the list, threw them on the graph, and see what we see.\n",
    "\n",
    "And what we see is largely the same as what we saw before. Whales either receive massive amounts of votes or give massive amounts of votes, and almost never do they do both. (Okay, some hang out on the periphery doing neither and nothing.)"
   ]
  },
  {
   "cell_type": "markdown",
   "metadata": {},
   "source": [
    "For me here, the most interesting thing is in the southeast where @virus707 is probably the most visible balanced whale in this network. Lots going in, lots going out. Just lots and lots, truthfully."
   ]
  },
  {
   "cell_type": "markdown",
   "metadata": {},
   "source": [
    "The more that I stare at these directed acyclic graphs of interactions, the more I get the feeling that it should be possible to describe bot-like behavior in terms of the carafe of the interactions that they have with other accounts. I can't prove it, and as for now it is just an inchoate sensation in the back of my brain, but these interaction maps are definitely interesting.\n",
    "\n",
    "But this is still too much data. The patterns are clear, but do they hold true if we go from the top 100 accounts to the top 50 accounts? Surely we will be able to look at an entire week's worth of votes between the top 50 accounts and the rest of the blockchain, right?"
   ]
  },
  {
   "cell_type": "markdown",
   "metadata": {},
   "source": [
    "## The Final Countdown"
   ]
  },
  {
   "cell_type": "markdown",
   "metadata": {},
   "source": [
    "At least we have moved to the closest yet. The number of votes involving the top 50 accounts on the blockchain over the last week is \"only\" about 20,000. That's about twice the limit that we are working with here.\n",
    "\n",
    "(I want to reiterate, this is after I go through the lists and turn them into unique transactions. Two accounts which are related by multiple votes only get one edge.)"
   ]
  },
  {
   "cell_type": "markdown",
   "metadata": {},
   "source": [
    "[![Imgur](https://i.imgur.com/ujPWIOY.jpg)](https://drive.google.com/file/d/1cq-v18Mj8vE6e6mJSkrhEwEXWDKfXjkF/view?usp=sharing)\n",
    "\n",
    "*(Click on the image to go to download the whole thing for your own self-gratification.)*"
   ]
  },
  {
   "cell_type": "markdown",
   "metadata": {},
   "source": [
    "So far – so much like we've already seen, in so many ways. The nodes which are involved in giving out votes are almost purely involved in curational activities, and the nodes which are involved in receiving votes are almost purely involved in posting activity, one must assume.\n",
    "\n",
    "We can see a few isolated islands of interaction, but for representing roughly half a week, this is pretty clear.\n",
    "\n",
    "At this level, a lot of whales are just sitting around doing very little. That's not really much of a surprise as they are just repositories of value waiting to be tapped when the time is right.\n",
    "\n",
    "For the most part, there is very little overlap between whale accounts which curate and whale accounts which create. From my perspective, that is not a great thing, though I can absolutely see where the game mechanics of the blockchain reward that as a conscious choice. It's almost impossible to \"curate\" (in the sense that the steem blockchain means) and actually spend time creating content. In fact, I wouldn't really be surprised to know that almost all of the whale curational activity that we see going on is at least 80% driven by some sort of automated bot system. There is simply too much activity over too wide spectrum to not be augmented.\n",
    "\n",
    "It's also vaguely disappointing that so much of whale activity is devoted to curation rather than creation. It might be interesting to go back and specifically look at some of the clear patterns that we see centering on people who are receiving vast numbers of votes from outside the whale network. My suspicion is that most of them write about or do videos regarding cryptocurrency.\n",
    "\n",
    "I'm not saying the steem blockchain does a lot of it's typing one-handed, but the Michael Jackson glove is a little obvious."
   ]
  },
  {
   "cell_type": "markdown",
   "metadata": {},
   "source": [
    "## But What Does It *Mean!?*"
   ]
  },
  {
   "cell_type": "markdown",
   "metadata": {},
   "source": [
    "The short answer?\n",
    "\n",
    "I don't know.\n",
    "\n",
    "We can observe for ourselves, at least for these time periods, what kind of activity is going on at the top end of the SP pool, keeping in mind my previous analysis which demonstrated that more than 50% of SP is held by the top nine accounts on the blockchain, and after eliminating Steemit corporate, more than 50% of SP is held by the top 90.\n",
    "\n",
    "Examining the traces that we have before us, which is something like looking through goose intestines for the future, we can see that most of that SP isn't actually being used to direct any portion of the rewards pool. Of the active whales on that list, activities breakdown very, very clearly between curation and creation – and as a result, knowing what we know about the relative value of both of those behaviors, the guys with all of the red lines coming in are doing quite well indeed.\n",
    "\n",
    "I've seen discussions which effectively call for all whale activity in terms of voting to stop, because they are \"unfairly advantaged\" over the rest of the blockchain. These graphs give the lie to that claim. The vast number of whale votes are not going to other whales – they are going to non-whales.\n",
    "\n",
    "If whales stopped voting, contrary to claims, the percentage of the reward pool which goes to minnows would not be increased. On the contrary, the percentage of the rewards pool which would go to already extant whales which are receiving an absolute butt load of up votes from minnows (and dolphins, and orcas, and even plankton) would make sure that even more of it went that way.\n",
    "\n",
    "I think we can reasonably put that old chestnut to bed, now."
   ]
  },
  {
   "cell_type": "markdown",
   "metadata": {},
   "source": [
    "## *Epilogue*"
   ]
  },
  {
   "cell_type": "markdown",
   "metadata": {},
   "source": [
    "I really need to stop creating massive graphical displays of activity on the steem blockchain and get back to doing what I do best, writing about role-playing games, tabletop wargames, video games, and staying way the Hell away from crypto cultism and all that goes with it.\n",
    "\n",
    "But there's something about dissecting activity in terms of relationships in social networks. Whenever there are tools to do so, I find it almost impossible to resist tinkering with visualizing that activity.\n",
    "\n",
    "Relationships are all too often overlooked. Whether those relationships be between accounts that send each other money or accounts which interact with one another through the mechanism of voting, or some other type of interaction. Visualizing those connections, those contacts, is compelling stuff.\n",
    "\n",
    "I can't resist looking at this through a game designer's eyes, thinking about where the hotspots of activity are, assessing whether how people feel about the mechanics actually accords with what the mechanics actually are.\n",
    "\n",
    "To be – that's a big deal.\n",
    "\n",
    "In the meantime, hopefully in a couple of days I'll be back to write something about actual games and not burn your eyes out with red and green lines on a white background connecting green squares and gray ovals (and purple horseshoes).\n",
    "\n",
    "We'll just have to see."
   ]
  },
  {
   "cell_type": "markdown",
   "metadata": {},
   "source": [
    "### Tools"
   ]
  },
  {
   "cell_type": "markdown",
   "metadata": {},
   "source": [
    "No real new tools leveraged this go-around. On the positive side, Imgur can be depended on to host at least a cut-down version of my larger images with Google Drive holding the straight-up files which it can't present but can download, so that's something."
   ]
  }
 ],
 "metadata": {
  "kernelspec": {
   "display_name": "Python 3",
   "language": "python",
   "name": "python3"
  },
  "language_info": {
   "codemirror_mode": {
    "name": "ipython",
    "version": 3
   },
   "file_extension": ".py",
   "mimetype": "text/x-python",
   "name": "python",
   "nbconvert_exporter": "python",
   "pygments_lexer": "ipython3",
   "version": "3.6.4"
  }
 },
 "nbformat": 4,
 "nbformat_minor": 2
}
