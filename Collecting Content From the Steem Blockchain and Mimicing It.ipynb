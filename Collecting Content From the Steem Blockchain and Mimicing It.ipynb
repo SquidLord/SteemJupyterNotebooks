{
 "cells": [
  {
   "cell_type": "markdown",
   "metadata": {},
   "source": [
    "# Collecting Content From the Steem Blockchain and Mimicing It"
   ]
  },
  {
   "cell_type": "markdown",
   "metadata": {},
   "source": [
    "![](https://d.pics/i/QmV6wfVJeVoSSTSYKUsjS6xsJybQpC5h8DMMkmPXh3hfGq)"
   ]
  },
  {
   "cell_type": "markdown",
   "metadata": {},
   "source": [
    "Sometimes you just have to put together a lot of things that you didn't expect. In this case, I was inspired by [a post by @makerhacks about generating a readability score for your posts.](https://steemit.com/python/@makerhacks/how-readable-are-your-articles-let-s-find-out-with-python)\n",
    "\n",
    "It occurred to me that I could put that together with some of my SteamData mining code and a little bit of extra love from the markovify library to create a system which could both examine posts made by a user and then proceed to mimic them in style and substance.\n",
    "\n",
    "Okay, \"substance\" might be a little ambitious. Just style, then.\n",
    "\n",
    "Let's start out by actually being able to fetch data from the blockchain regarding posts which we can make use of."
   ]
  },
  {
   "cell_type": "markdown",
   "metadata": {},
   "source": [
    "## Grab That Data"
   ]
  },
  {
   "cell_type": "markdown",
   "metadata": {},
   "source": [
    "Things start out with a certain amount of familiarity as we initialize the SteamData interface, set up our query, and pull the information that we're interested in. You guys have seen this several times by now, and it's not going to look any different this time."
   ]
  },
  {
   "cell_type": "code",
   "execution_count": 1,
   "metadata": {},
   "outputs": [],
   "source": [
    "# Setting up the imports for our basic query tools\n",
    "\n",
    "from steemdata import SteemData\n",
    "import datetime\n",
    "from datetime import datetime as dt\n",
    "\n",
    "from pprint import pprint"
   ]
  },
  {
   "cell_type": "code",
   "execution_count": 105,
   "metadata": {},
   "outputs": [],
   "source": [
    "# Init connection to database\n",
    "\n",
    "db = SteemData()"
   ]
  },
  {
   "cell_type": "code",
   "execution_count": 3,
   "metadata": {},
   "outputs": [],
   "source": [
    "# Grab posts I've written, just to be on the safe side.\n",
    "\n",
    "query = {'author': 'lextenebris'}\n",
    "\n",
    "# We only want the body field, honestly, so only gank that out.\n",
    "\n",
    "proj = {'body': 1,\n",
    "        '_id': 0}\n",
    "\n",
    "# We'll take them in reverse chronological order so we don't \n",
    "#   need to bother sorting, just to be gentle.\n",
    "# One day we need to talk about the crazily inconsistent\n",
    "#   field names in the blockchain. And how bad they are.\n",
    "\n",
    "sort = [('created', -1)]\n",
    "\n",
    "# We only want the body field, honestly, so only gank that out.\n",
    "\n",
    "proj = {'body': 1,\n",
    "        '_id': 0}"
   ]
  },
  {
   "cell_type": "code",
   "execution_count": 4,
   "metadata": {},
   "outputs": [
    {
     "name": "stdout",
     "output_type": "stream",
     "text": [
      "Wall time: 759 ms\n"
     ]
    }
   ],
   "source": [
    "# We'll just grab 50. Who knows, it might be interesting.\n",
    "#   We can always grab more later.\n",
    "\n",
    "result = db.Posts.find(query,\n",
    "                       projection=proj,\n",
    "                       sort=sort,\n",
    "                       limit=50)\n",
    "\n",
    "%time postsL = list(result)"
   ]
  },
  {
   "cell_type": "markdown",
   "metadata": {},
   "source": [
    "What do the first 500 characters of a random post taken from somewhere in the middle of that look like?"
   ]
  },
  {
   "cell_type": "code",
   "execution_count": 5,
   "metadata": {},
   "outputs": [],
   "source": [
    "# Some kind of random, and by that I mean\n",
    "#   utterly arbitrary.\n",
    "\n",
    "p = postsL[31]['body']"
   ]
  },
  {
   "cell_type": "code",
   "execution_count": 6,
   "metadata": {
    "scrolled": true
   },
   "outputs": [
    {
     "name": "stdout",
     "output_type": "stream",
     "text": [
      "*Where am I posting, and what are we doing in this handbasket?*\n",
      "\n",
      "![](https://xzor.xyz/ipfs/QmNrsddWU7kNmscD5KJ9s9nnkanyf5x5fTs7iEbojnTymA)\n",
      "\n",
      "As the number of bloggers increased from the mid 90s onwards, we saw a massive evolution in the market. At first, people stuck to a single vertical, a single platform onto which they put all of their writing output, and [RSS](http://www.whatisrss.com) existed to help readers pull all of that writing output into a single interface so that they could read it. \n"
     ]
    }
   ],
   "source": [
    "print(p[:500])"
   ]
  },
  {
   "cell_type": "markdown",
   "metadata": {},
   "source": [
    "Cool. We have fresh data all over our hands. What are we going to do with it?\n",
    "\n",
    "First up, let's create a new list of all the content filtered for HTML. We don't need all of those links and such getting in the way of our lexical analysis to come.\n",
    "\n",
    "Depending on what we can find floating around in the library, maybe we can do better than just stripping HTML."
   ]
  },
  {
   "cell_type": "code",
   "execution_count": 7,
   "metadata": {},
   "outputs": [
    {
     "data": {
      "text/plain": [
       "'_Where am I posting, and what are we doing in this handbasket?_\\r\\n\\r\\n[]\\r\\n\\r\\nAs the number of bloggers increased from the mid 90s onwards, we saw a\\r\\nmassive evolution in the market. At first, people stuck to a single\\r\\nvertical, a single platform onto which they put all of their writing\\r\\noutput, and RSS existed to help readers pull all of that writing output\\r\\ninto a single interface so that they could read it.\\r\\n'"
      ]
     },
     "execution_count": 7,
     "metadata": {},
     "output_type": "execute_result"
    }
   ],
   "source": [
    "# We can cheat a bit and use pypandoc to strip out all the Markdown\n",
    "#   from posts, leaving them much cleaner.\n",
    "\n",
    "import pypandoc\n",
    "\n",
    "pypandoc.convert_text(p[:500], to='plain', format='md')"
   ]
  },
  {
   "cell_type": "markdown",
   "metadata": {},
   "source": [
    "That should really get rid of most of the HTML that I'm likely to ever have used, but just to be safe, and just for the sake of proper hygiene, let's finish the scrubbing."
   ]
  },
  {
   "cell_type": "code",
   "execution_count": 8,
   "metadata": {},
   "outputs": [],
   "source": [
    "import html2text\n",
    "import requests\n",
    "\n",
    "# An instance of the HTML parser will help out here\n",
    "h = html2text.HTML2Text()\n",
    "\n",
    "# Remove links, sure.\n",
    "h.ignore_links = True\n",
    "\n",
    "# Now, just hand in some text and we'll see what falls out.\n",
    "def removeHtml(txt):\n",
    "    return h.handle(txt)"
   ]
  },
  {
   "cell_type": "code",
   "execution_count": 9,
   "metadata": {
    "scrolled": true
   },
   "outputs": [
    {
     "data": {
      "text/plain": [
       "\"irety of my theory of _point of presence,_ the idea\\r\\nthat you don't really have one. You have tools which allow you to reach\\r\\nout to a community and be part of it, but there is no one central place\\r\\nthat represents you and what you do.\\r\\n\\r\\nPlatforms change. Systems crash. Data is lost.\\r\\n\\r\\nYour presence is wherever your attention is. That is its singular point.\\r\\nEverything else is about being part of a community.\\r\\n\\r\\nNow get out there and do your thing, Thing Ring!\\r\\n\\r\\nhttps://youtu.be/64Jv8zbUsf4\\r\\n\""
      ]
     },
     "execution_count": 9,
     "metadata": {},
     "output_type": "execute_result"
    }
   ],
   "source": [
    "pypandoc.convert_text(p, to='plain', format='md')[-500:]"
   ]
  },
  {
   "cell_type": "markdown",
   "metadata": {},
   "source": [
    "To me, the interesting thing here is that the HTML to text module didn't seem to do much at all. In fact, it left a perfectly readable HTML entry right there at the end.\n",
    "\n",
    "My suspicion is that it's because things end with \\\\n, which points to a larger problem – that we really need to sanitize this stuff for line endings.\n",
    "\n",
    "Easy enough, just annoying."
   ]
  },
  {
   "cell_type": "code",
   "execution_count": 10,
   "metadata": {},
   "outputs": [
    {
     "data": {
      "text/plain": [
       "\"at's\\nit, the entirety of my theory of _point of presence,_ the idea that you don't\\nreally have one. You have tools which allow you to reach out to a community\\nand be part of it, but there is no one central place that represents you and\\nwhat you do. Platforms change. Systems crash. Data is lost. Your presence is\\nwherever your attention is. That is its singular point. Everything else is\\nabout being part of a community. Now get out there and do your thing, Thing\\nRing! https://youtu.be/64Jv8zbUsf4\\n\\n\""
      ]
     },
     "execution_count": 10,
     "metadata": {},
     "output_type": "execute_result"
    }
   ],
   "source": [
    "removeHtml(' '.join(pypandoc.convert_text(p, to='plain', format='md').split('\\r\\n')))[-500:]"
   ]
  },
  {
   "cell_type": "markdown",
   "metadata": {},
   "source": [
    "Nope. In fact, that module seems to actually insert character turns in places that they have no reason to be there. Not only that, the documentation doesn't even mention that it tinkers with the content of the text stream like that.\n",
    "\n",
    "Have I mentioned that such things are really bad coding practice, and should probably end up with people punched right in the ding? Because they should.\n",
    "\n",
    "Let's try reversing the order up of application and see if we can't get things out which don't explode in our face."
   ]
  },
  {
   "cell_type": "code",
   "execution_count": 11,
   "metadata": {},
   "outputs": [
    {
     "data": {
      "text/plain": [
       "\"hat's it, the entirety of my theory of _point of presence,_ the idea that you don't really have one. You have tools which allow you to reach out to a community and be part of it, but there is no one central place that represents you and what you do. Platforms change. Systems crash. Data is lost. Your presence is wherever your attention is. That is its singular point. Everything else is about being part of a community. Now get out there and do your thing, Thing Ring! https://youtu.be/64Jv8zbUsf4 \""
      ]
     },
     "execution_count": 11,
     "metadata": {},
     "output_type": "execute_result"
    }
   ],
   "source": [
    "' '.join(pypandoc.convert_text(removeHtml(p),\n",
    "                               to='plain', \n",
    "                               format='md').split('\\r\\n'))[-500:]"
   ]
  },
  {
   "cell_type": "markdown",
   "metadata": {},
   "source": [
    "All right, I've come to the conclusion that the HTML to text module is pretty crap. It's either not parsing content properly for URLs, has a broken bit when a URL occurs at the very end of a string, or is somehow otherwise junk. The fact that it uses a class-variable to store whether or not links are desired rather than take it as a passed argument to a function is just extra garbage, in my opinion.\n",
    "\n",
    "I like OOP is much as the next guy, possibly more, but this is no way to do it. Worse, it's not even good OOP. For that you'd really want a setter call on the object.\n",
    "\n",
    "Let's just stop wrestling with that."
   ]
  },
  {
   "cell_type": "code",
   "execution_count": 12,
   "metadata": {},
   "outputs": [],
   "source": [
    "def procPost(e):\n",
    "    return ' '.join(pypandoc.convert_text(e, \n",
    "                                        to='plain', \n",
    "                                        format='md').split('\\r\\n'))"
   ]
  },
  {
   "cell_type": "code",
   "execution_count": 13,
   "metadata": {
    "scrolled": false
   },
   "outputs": [
    {
     "data": {
      "text/plain": [
       "\"s it, the entirety of my theory of _point of presence,_ the idea that you don't really have one. You have tools which allow you to reach out to a community and be part of it, but there is no one central place that represents you and what you do.  Platforms change. Systems crash. Data is lost.  Your presence is wherever your attention is. That is its singular point. Everything else is about being part of a community.  Now get out there and do your thing, Thing Ring!  https://youtu.be/64Jv8zbUsf4 \""
      ]
     },
     "execution_count": 13,
     "metadata": {},
     "output_type": "execute_result"
    }
   ],
   "source": [
    "procPost(p)[-500:]"
   ]
  },
  {
   "cell_type": "markdown",
   "metadata": {},
   "source": [
    "We'll just go with this for now. There may be some residual HTML hanging out in the system, but that's fine. We'll just roll with it.\n",
    "\n",
    "Out of curiosity, let's find out what the reading level of the post we've been tinkering with actually is according to these ratings."
   ]
  },
  {
   "cell_type": "code",
   "execution_count": 14,
   "metadata": {
    "scrolled": true
   },
   "outputs": [
    {
     "name": "stdout",
     "output_type": "stream",
     "text": [
      "58.82 / 100\n",
      "\n"
     ]
    }
   ],
   "source": [
    "from textstat.textstat import textstat\n",
    "\n",
    "print( \"{} / 100\\n\".format(textstat.flesch_reading_ease(procPost(p))))"
   ]
  },
  {
   "cell_type": "markdown",
   "metadata": {},
   "source": [
    "Seems legit. I never promised to write at a particularly introductory level.\n",
    "\n",
    "Now that we can do all this, what do we want to do with it?, That's where the fun comes in."
   ]
  },
  {
   "cell_type": "markdown",
   "metadata": {},
   "source": [
    "## Heat Up the Emulator!"
   ]
  },
  {
   "cell_type": "markdown",
   "metadata": {},
   "source": [
    "Let's recap the important code here so we don't have to keep scrolling to the top in order to reset our environment."
   ]
  },
  {
   "cell_type": "code",
   "execution_count": 63,
   "metadata": {},
   "outputs": [],
   "source": [
    "# Setting up the imports for our basic query tools\n",
    "\n",
    "from steemdata import SteemData\n",
    "import datetime\n",
    "from datetime import datetime as dt\n",
    "\n",
    "from pprint import pprint\n",
    "\n",
    "# Init connection to database\n",
    "\n",
    "db = SteemData()\n",
    "\n",
    "# Grab posts I've written, just to be on the safe side.\n",
    "\n",
    "query = {'author': 'lextenebris'}\n",
    "\n",
    "# We only want the body field, honestly, so only gank that out.\n",
    "\n",
    "proj = {'body': 1,\n",
    "        '_id': 0}\n",
    "\n",
    "# We'll take them in reverse chronological order so we don't \n",
    "#   need to bother sorting, just to be gentle.\n",
    "# One day we need to talk about the crazily inconsistent\n",
    "#   field names in the blockchain. And how bad they are.\n",
    "\n",
    "sort = [('created', -1)]\n",
    "\n",
    "# We only want the body field, honestly, so only gank that out.\n",
    "\n",
    "proj = {'body': 1,\n",
    "        '_id': 0}"
   ]
  },
  {
   "cell_type": "code",
   "execution_count": 64,
   "metadata": {},
   "outputs": [
    {
     "name": "stdout",
     "output_type": "stream",
     "text": [
      "Wall time: 748 ms\n"
     ]
    }
   ],
   "source": [
    "# We'll just grab 50. Who knows, it might be interesting.\n",
    "#   We can always grab more later.\n",
    "\n",
    "result = db.Posts.find(query,\n",
    "                       projection=proj,\n",
    "                       sort=sort,\n",
    "                       limit=50)\n",
    "\n",
    "%time postsL = list(result)"
   ]
  },
  {
   "cell_type": "code",
   "execution_count": 65,
   "metadata": {},
   "outputs": [],
   "source": [
    "def procPost(e):\n",
    "    return ' '.join(pypandoc.convert_text(e, \n",
    "                                        to='plain', \n",
    "                                        format='md').split('\\r\\n'))"
   ]
  },
  {
   "cell_type": "code",
   "execution_count": 66,
   "metadata": {},
   "outputs": [
    {
     "data": {
      "text/plain": [
       "\"'s it, the entirety of my theory of *point of presence,* the idea that you don't really have one. You have tools which allow you to reach out to a community and be part of it, but there is no one central place that represents you and what you do.\\n\\nPlatforms change. Systems crash. Data is lost.\\n\\nYour presence is wherever your attention is. That is its singular point. Everything else is about being part of a community.\\n\\nNow get out there and do your thing, Thing Ring!\\n\\nhttps://youtu.be/64Jv8zbUsf4\""
      ]
     },
     "execution_count": 66,
     "metadata": {},
     "output_type": "execute_result"
    }
   ],
   "source": [
    "# Some kind of random, and by that I mean\n",
    "#   utterly arbitrary.\n",
    "\n",
    "p = postsL[31]['body']\n",
    "\n",
    "p[-500:]"
   ]
  },
  {
   "cell_type": "markdown",
   "metadata": {},
   "source": [
    "Now let's kill all the markdown in all of those fetched documents. Very easy."
   ]
  },
  {
   "cell_type": "code",
   "execution_count": 67,
   "metadata": {},
   "outputs": [
    {
     "name": "stdout",
     "output_type": "stream",
     "text": [
      "Wall time: 5.67 s\n"
     ]
    }
   ],
   "source": [
    "%time postsN = [procPost(e['body']) for e in postsL]"
   ]
  },
  {
   "cell_type": "code",
   "execution_count": 68,
   "metadata": {
    "scrolled": true
   },
   "outputs": [
    {
     "data": {
      "text/plain": [
       "\"s it, the entirety of my theory of _point of presence,_ the idea that you don't really have one. You have tools which allow you to reach out to a community and be part of it, but there is no one central place that represents you and what you do.  Platforms change. Systems crash. Data is lost.  Your presence is wherever your attention is. That is its singular point. Everything else is about being part of a community.  Now get out there and do your thing, Thing Ring!  https://youtu.be/64Jv8zbUsf4 \""
      ]
     },
     "execution_count": 68,
     "metadata": {},
     "output_type": "execute_result"
    }
   ],
   "source": [
    "postsN[31][-500:]"
   ]
  },
  {
   "cell_type": "markdown",
   "metadata": {},
   "source": [
    "Awesome!\n",
    "\n",
    "Now let's bring in the big guns. [**Markovify**](https://github.com/jsvine/markovify) is a library which is designed to build Markov chains, that is to take a corpus of content, break it down statistically, and find things that start \"a sentence\", select one at random, and then randomly pick something reasonable that would follow the opening of that sentence.\n",
    "\n",
    "I'm going to use that to generate potentially random possible posts that could have come from me. Or anybody else. Or a hybrid of the two, as you will soon see.\n",
    "\n",
    "First, let's get things set up."
   ]
  },
  {
   "cell_type": "code",
   "execution_count": 69,
   "metadata": {
    "scrolled": false
   },
   "outputs": [],
   "source": [
    "import markovify\n",
    "import re\n",
    "\n",
    "# We're going to use spaCy to do some basic part-of-speech \n",
    "#   analysis to make things even more believable. Maybe.\n",
    "\n",
    "import spacy\n",
    "\n",
    "nlp = spacy.load('en')\n",
    "\n",
    "class POSifiedText(markovify.Text):\n",
    "    def word_split(self, sentence):\n",
    "        return [\"::\".join((word.orth_, word.pos_)) for word in nlp(sentence)]\n",
    "\n",
    "    def word_join(self, words):\n",
    "        sentence = \" \".join(word.split(\"::\")[0] for word in words)\n",
    "        return sentence"
   ]
  },
  {
   "cell_type": "markdown",
   "metadata": {},
   "source": [
    "(If you do this yourself on a Windows machine, make sure that you install spaCy from PIP with administrator access for the shell. Otherwise it just won't create the right directories for the language model.)"
   ]
  },
  {
   "cell_type": "markdown",
   "metadata": {},
   "source": [
    "Let's make one giant string out of all of our documents to feed into the Markov generator! This should be a no-brainer."
   ]
  },
  {
   "cell_type": "code",
   "execution_count": 70,
   "metadata": {},
   "outputs": [
    {
     "name": "stdout",
     "output_type": "stream",
     "text": [
      "Wall time: 325 ms\n"
     ]
    }
   ],
   "source": [
    "%time model = markovify.Text(' '.join(postsN))"
   ]
  },
  {
   "cell_type": "code",
   "execution_count": 76,
   "metadata": {
    "scrolled": false
   },
   "outputs": [
    {
     "name": "stdout",
     "output_type": "stream",
     "text": [
      "('Special Instructions - There may be better than having someone on the '\n",
      " \"leftmost group of Hishen armor in a dungeon, so I'm going to have any excuse \"\n",
      " 'not to put in links, bolding, and italics?')\n",
      "'Especially eaten with the figure breathe a little.'\n",
      "(\"How many more accounts that don't really have the author, the voter, the \"\n",
      " \"date, the weight removed, we don't need to make an nice, thick token which \"\n",
      " 'can be on the figure.')\n",
      "('So much chrome and glass that you should be put off until tomorrow, at least '\n",
      " 'seems to be able to step down the account blockchain that this line is '\n",
      " 'really small, is going to select _Attributes_, which are right there, '\n",
      " 'waiting to be able to add a meta tag into the game, a _player_ is never in '\n",
      " 'short order.')\n",
      "'Though the Emperor knows how you get to vote on outcomes.'\n",
      "\n",
      "\n",
      "'The only thing that you get a feel for how an individual texture.'\n",
      "'Really the demons that we can build some edges.'\n",
      "'The latter has more than enough to move in an earlier bit.'\n"
     ]
    }
   ],
   "source": [
    "# Print five randomly-generated sentences\n",
    "for i in range(5):\n",
    "    pprint(model.make_sentence())\n",
    "    \n",
    "print('\\n')\n",
    "\n",
    "# Print three randomly-generated sentences of no more than 140 characters\n",
    "for i in range(3):\n",
    "    pprint(model.make_short_sentence(140))"
   ]
  },
  {
   "cell_type": "markdown",
   "metadata": {},
   "source": [
    "Oh. Oh dear. That is _great._ I'm killing myself here. Insert much mad laughter.\n",
    "\n",
    "But maybe only 50 posts is too small. We have the data. Why don't we go big or go home? How about my last _500 posts?_"
   ]
  },
  {
   "cell_type": "code",
   "execution_count": 77,
   "metadata": {},
   "outputs": [
    {
     "name": "stdout",
     "output_type": "stream",
     "text": [
      "Wall time: 9.68 s\n"
     ]
    }
   ],
   "source": [
    "# 100 posts!\n",
    "\n",
    "result = db.Posts.find(query,\n",
    "                       projection=proj,\n",
    "                       sort=sort,\n",
    "                       limit=100)\n",
    "\n",
    "# Just crunch all of the reification at once. Why wait?\n",
    "\n",
    "%time postsN = [procPost(e['body']) for e in list(result)]"
   ]
  },
  {
   "cell_type": "code",
   "execution_count": 78,
   "metadata": {},
   "outputs": [
    {
     "data": {
      "text/plain": [
       "79"
      ]
     },
     "execution_count": 78,
     "metadata": {},
     "output_type": "execute_result"
    }
   ],
   "source": [
    "len(postsN)"
   ]
  },
  {
   "cell_type": "markdown",
   "metadata": {},
   "source": [
    "Interesting. It looks like I only have 79 posts in total. It's clearly not picking up comments on other people's posts as well.\n",
    "\n",
    "No matter, because this is going to suffice. If I want to emulate myself creating comments on other people's posts – that's easy enough with a slightly more complicated query. Overall, it just wouldn't change that much.\n",
    "\n",
    "Okay, let's throw all of this into the Markov generator!"
   ]
  },
  {
   "cell_type": "code",
   "execution_count": 79,
   "metadata": {},
   "outputs": [
    {
     "name": "stdout",
     "output_type": "stream",
     "text": [
      "Wall time: 451 ms\n"
     ]
    }
   ],
   "source": [
    "%time model = markovify.Text(' '.join(postsN))"
   ]
  },
  {
   "cell_type": "code",
   "execution_count": 81,
   "metadata": {
    "scrolled": true
   },
   "outputs": [
    {
     "name": "stdout",
     "output_type": "stream",
     "text": [
      "('You must justify the use of the world Challenges - Build the tech - Push an '\n",
      " 'ICO - Promote the platform was implemented as a result of that was likely to '\n",
      " 'go to those gears.')\n",
      "('CENTRAL TRAIT First, you choose to transition into some sort of thing for '\n",
      " 'final judgment.')\n",
      "('That gives us a single source which could have been fascinated by the GM, '\n",
      " 'just as their characters would.')\n",
      "\"If you've never been, you owe it to return as platoon leader.\"\n",
      "(\"Just because you're a _combat accountant._ TRAITS Each character has and \"\n",
      " 'have them executed as a result.')\n",
      "\n",
      "\n",
      "('People who trust me, because of the printed object just to get this on the '\n",
      " \"assumption that what they're going to get greater exposure for.\")\n",
      "('This is one place than half the value of that vehicle remains to be able to '\n",
      " 'run a railroad.')\n",
      "(\"Things are looking a whole case for everything that he's selling Steem and a \"\n",
      " 'larger group than just a little bit.')\n"
     ]
    }
   ],
   "source": [
    "# Print five randomly-generated sentences\n",
    "for i in range(5):\n",
    "    pprint(model.make_sentence())\n",
    "    \n",
    "print('\\n')\n",
    "\n",
    "# Print three randomly-generated sentences of no more than 140 characters\n",
    "for i in range(3):\n",
    "    pprint(model.make_short_sentence(140))"
   ]
  },
  {
   "cell_type": "markdown",
   "metadata": {},
   "source": [
    "That is truly seven shades of awesome.\n",
    "\n",
    "But is it _enough?_ No! Never enough!\n",
    "\n",
    "What would the Markov-generated joy from a very different writer look like?"
   ]
  },
  {
   "cell_type": "markdown",
   "metadata": {},
   "source": [
    "I have a sick curiosity. What if we wanted to emulate @jerrybanfield? Surely we can point the system over at him?"
   ]
  },
  {
   "cell_type": "code",
   "execution_count": 90,
   "metadata": {},
   "outputs": [
    {
     "name": "stdout",
     "output_type": "stream",
     "text": [
      "Wall time: 13.6 s\n"
     ]
    }
   ],
   "source": [
    "query = {'author': 'jerrybanfield'}\n",
    "\n",
    "result = db.Posts.find(query,\n",
    "                       projection=proj,\n",
    "                       sort=sort,\n",
    "                       limit=100)\n",
    "\n",
    "%time postsB = [procPost(e['body']) for e in list(result)]"
   ]
  },
  {
   "cell_type": "code",
   "execution_count": 91,
   "metadata": {
    "scrolled": true
   },
   "outputs": [
    {
     "data": {
      "text/plain": [
       "\"[Jerry Banfield]  How does owning our story of why we feel bad and what's going on with us, and sharing those feelings that we want to keep inside actually help us to feel happy more often?  Thank you for reading about day 185 of _Happier People Podcast_ and I hope you enjoy it!   New episodes of #happierpeople podcast are published first at https://dsound.audio/#!/@jerrybanfield  Listen to this on @dsound at https://dsound.audio/#/@jerrybanfield/how-we-feel-better-by-owning-our-shadow-without-p\""
      ]
     },
     "execution_count": 91,
     "metadata": {},
     "output_type": "execute_result"
    }
   ],
   "source": [
    "postsB[0][:500]"
   ]
  },
  {
   "cell_type": "markdown",
   "metadata": {},
   "source": [
    "Yep, that's Jerry."
   ]
  },
  {
   "cell_type": "code",
   "execution_count": 96,
   "metadata": {},
   "outputs": [
    {
     "name": "stdout",
     "output_type": "stream",
     "text": [
      "Wall time: 679 ms\n",
      "('The public, especially in Orlando, but hey, we have somewhere to start '\n",
      " 'before you are a huge sample pack I bought into Steem.')\n",
      "('Then, that starts feeling like a miracle for musicians being able to give '\n",
      " 'this a try for the people we love the most good with my divinity when my '\n",
      " 'soul feels lost in fear and future.')\n",
      "'We want that intro post and not even looking at being censored.'\n",
      "'Given that these two keyboards.'\n",
      "'What might be able to hire for this body to do it again sometime!'\n",
      "\n",
      "\n",
      "'Every single human being on Steem.'\n",
      "('If we switch the days and more time in the community and share automatically '\n",
      " \"on to my account's voting bot.\")\n",
      "'At an equivalent of 60% APR, this is amazing on Steemit.'\n"
     ]
    }
   ],
   "source": [
    "%time modelB = markovify.Text(' '.join(postsB))\n",
    "\n",
    "# Print five randomly-generated sentences\n",
    "for i in range(5):\n",
    "    pprint(modelB.make_sentence())\n",
    "    \n",
    "print('\\n')\n",
    "\n",
    "# Print three randomly-generated sentences of no more than 140 characters\n",
    "for i in range(3):\n",
    "    pprint(modelB.make_short_sentence(140))"
   ]
  },
  {
   "cell_type": "markdown",
   "metadata": {},
   "source": [
    "Honestly, it's hard to tell them apart.\n",
    "\n",
    "But you know what comes next. If you were to fuse Jerry and I into _one being,_ what would the resulting writing look like?"
   ]
  },
  {
   "cell_type": "code",
   "execution_count": 102,
   "metadata": {},
   "outputs": [],
   "source": [
    "hybridModel = markovify.combine([model,  modelB])"
   ]
  },
  {
   "cell_type": "code",
   "execution_count": 103,
   "metadata": {
    "scrolled": true
   },
   "outputs": [
    {
     "name": "stdout",
     "output_type": "stream",
     "text": [
      "(\"I'm saying this is something that was just feeling annoyed with my friend \"\n",
      " 'Tomas George with digital music masters at digitalmusicmasters.com helped me '\n",
      " \"a way that I do, I've got this.\")\n",
      "('The funny thing is, when I started this whole row are set up our password on '\n",
      " 'Steemit. '\n",
      " 'https://steemitimages.com/DQmamXduj5Jwvir7m9qwB9bgx8tFoXKUqStpGodPKsCHX3P/S107-02.jpg '\n",
      " 'We will see that some bid bots to help decide who gets to roll 5 on the '\n",
      " 'Steem blockchain as a post on her right away when you get to know everything '\n",
      " \"yet, but I am one with 500 views and I've moved it into the account set up \"\n",
      " 'the dialogue for creating it with both steemads and jerrybanfield to help '\n",
      " 'Steem continue to be terribly useful – except that you keep putting content '\n",
      " 'that you wonder how I reacted.')\n",
      "'That comes to our much lighter vehicles.'\n",
      "'I was looking at this time with one another.'\n",
      "'I could be a big deal in countries like China where it rained acid all day?'\n",
      "\n",
      "\n",
      "('But, yes, if you get to know that just makes me look good for one developer '\n",
      " 'to code it for a good shot of securing it with you!')\n",
      "('Let me open by saying that it gives me time to implement and demonstrate, '\n",
      " 'which is primary.')\n",
      "('He looked over at Block City have put in and that it will take place and a '\n",
      " '95% reduction in the C major, I mean the Internet.')\n"
     ]
    }
   ],
   "source": [
    "for i in range(5):\n",
    "    pprint(hybridModel.make_sentence())\n",
    "    \n",
    "print('\\n')\n",
    "\n",
    "# Print three randomly-generated sentences of no more than 140 characters\n",
    "for i in range(3):\n",
    "    pprint(hybridModel.make_short_sentence(140))"
   ]
  },
  {
   "cell_type": "markdown",
   "metadata": {},
   "source": [
    "There is no end to it. No end at all. The mind burns at it.\n",
    "\n",
    "Okay, one more ... @haejin. Let's do Haejin. My mind is already quailing at it."
   ]
  },
  {
   "cell_type": "code",
   "execution_count": 106,
   "metadata": {},
   "outputs": [
    {
     "name": "stdout",
     "output_type": "stream",
     "text": [
      "Wall time: 12.8 s\n"
     ]
    },
    {
     "data": {
      "text/plain": [
       "\"[] --  SUMMARY  This Inverted Bullish Head & Shoulders pattern is quite uncanny. What's exciting is that the pattern is complete and confirmed! Price has breached the Neck LIne! I've used the minimum price run to show a potential for $59.87  []  Beautiful textbook impulse wave showing a near completion of what could be the first of many leg ups. IF the abc red waves mark the correction completion, then we could expect a minor abc retracement.  []  That retracement usually goes to prior wave 4 an\""
      ]
     },
     "execution_count": 106,
     "metadata": {},
     "output_type": "execute_result"
    }
   ],
   "source": [
    "query = {'author': 'haejin'}\n",
    "\n",
    "result = db.Posts.find(query,\n",
    "                       projection=proj,\n",
    "                       sort=sort,\n",
    "                       limit=100)\n",
    "\n",
    "%time postsH = [procPost(e['body']) for e in list(result)]\n",
    "\n",
    "postsH[0][:500]"
   ]
  },
  {
   "cell_type": "markdown",
   "metadata": {},
   "source": [
    "This might just be unfair, but we're going to do it anyway."
   ]
  },
  {
   "cell_type": "code",
   "execution_count": 109,
   "metadata": {
    "scrolled": true
   },
   "outputs": [
    {
     "name": "stdout",
     "output_type": "stream",
     "text": [
      "Wall time: 86 ms\n",
      "('There are other alternate counts and they will be in progress towards the '\n",
      " 'upper blue line as support.')\n",
      "'The rise to C. Overall, bulish on the upcoming minor wave 2?'\n",
      "('The information provided in this blog post and any accompanying material is '\n",
      " 'for informational purposes only.')\n",
      "('I believe hitting the $9,451 level would be ideal is a higher high is '\n",
      " 'recognized.')\n",
      "'It is imperative that price can be more proximal to the lower triangle line?'\n",
      "\n",
      "\n",
      "('The information provided in this blog post and any accompanying material is '\n",
      " 'for informational purposes only.')\n",
      "('What would be probable IF the abc was carved out abc of the breakout is '\n",
      " 'needed yet again but at a higher high.')\n",
      "('The breakout currently looks very three wavish, the broader ABC could still '\n",
      " 'be in progress.')\n"
     ]
    }
   ],
   "source": [
    "%time modelH = markovify.Text(' '.join(postsH))\n",
    "\n",
    "# Print five randomly-generated sentences\n",
    "for i in range(5):\n",
    "    pprint(modelH.make_sentence())\n",
    "    \n",
    "print('\\n')\n",
    "\n",
    "# Print three randomly-generated sentences of no more than 140 characters\n",
    "for i in range(3):\n",
    "    pprint(modelH.make_short_sentence(140))"
   ]
  },
  {
   "cell_type": "markdown",
   "metadata": {},
   "source": [
    "I – can't really tell the difference.\n",
    "\n",
    "Maybe we've found the real source of this sort of thing?\n",
    "\n",
    "Though only one thing remains to us. The three-headed Cerberus of steem posts!"
   ]
  },
  {
   "cell_type": "code",
   "execution_count": 112,
   "metadata": {},
   "outputs": [],
   "source": [
    "hybridModel = markovify.combine([model,  modelB, modelH])"
   ]
  },
  {
   "cell_type": "code",
   "execution_count": 115,
   "metadata": {},
   "outputs": [
    {
     "name": "stdout",
     "output_type": "stream",
     "text": [
      "('It works in the hand; it needed just a few thousand, we actually could have '\n",
      " 'first bought it.')\n",
      "'If you speak multiple languages, both languages there.'\n",
      "('Bittrex.com Cryptocurrency Exchange Trading Tutorial with Bitcoin I had, and '\n",
      " \"I don't lose everything or almost everything.\")\n",
      "'Out of Key Again in Ableton Live 9 Suite, I used in modeling things for free.'\n",
      "('Readers will have many USD/fiat to Steem according to your printer going 60 '\n",
      " 'to 80 mm/s at the list of voting bots produces a harvest faster!')\n",
      "\n",
      "\n",
      "\"It's _that good._ Mechanically, it's pretty obvious that there is separation.\"\n",
      "'What do you have to put it into TS and see that.'\n",
      "'The price today is over 250,000 lines long.'\n"
     ]
    }
   ],
   "source": [
    "for i in range(5):\n",
    "    pprint(hybridModel.make_sentence())\n",
    "    \n",
    "print('\\n')\n",
    "\n",
    "# Print three randomly-generated sentences of no more than 140 characters\n",
    "for i in range(3):\n",
    "    pprint(hybridModel.make_short_sentence(140))"
   ]
  },
  {
   "cell_type": "markdown",
   "metadata": {},
   "source": [
    "My mind. My everlovin' mind."
   ]
  },
  {
   "cell_type": "markdown",
   "metadata": {},
   "source": [
    "## *Epilogue*"
   ]
  },
  {
   "cell_type": "markdown",
   "metadata": {},
   "source": [
    "Markovify is amazing.\n",
    "\n",
    "Combining it with the ability to pull content from the steem blockchain to remix it into new content is even more fun. I'm really quite surprised and impressed that the things that we're working with here are so lightweight when it comes to how much CPU time it takes.\n",
    "\n",
    "Also it's been great to continue coding but get away from doing statistical graph analysis for a little bit. Good times, good times.\n",
    "\n",
    "Who would you like to see turned into a living Markov chain?\n",
    "\n",
    "While we are doing things, let's get extreme. 100 posts is cool – but what if we make a hybrid out of 1000 posts from two of our most prolific posters? Would we be able to tell the difference?"
   ]
  },
  {
   "cell_type": "markdown",
   "metadata": {},
   "source": [
    "### Ultimate Form!"
   ]
  },
  {
   "cell_type": "code",
   "execution_count": 117,
   "metadata": {},
   "outputs": [],
   "source": [
    "db = SteemData()"
   ]
  },
  {
   "cell_type": "code",
   "execution_count": 118,
   "metadata": {},
   "outputs": [
    {
     "name": "stdout",
     "output_type": "stream",
     "text": [
      "Wall time: 5min 55s\n"
     ]
    }
   ],
   "source": [
    "query = {'author': 'jerrybanfield'}\n",
    "\n",
    "result = db.Posts.find(query,\n",
    "                       projection=proj,\n",
    "                       sort=sort,\n",
    "                       limit=1000)\n",
    "\n",
    "%time postsB = [procPost(e['body']) for e in list(result)]"
   ]
  },
  {
   "cell_type": "code",
   "execution_count": 124,
   "metadata": {},
   "outputs": [
    {
     "name": "stdout",
     "output_type": "stream",
     "text": [
      "Wall time: 3.11 s\n"
     ]
    }
   ],
   "source": [
    "%time modelB = markovify.Text(' '.join(postsB))"
   ]
  },
  {
   "cell_type": "code",
   "execution_count": 125,
   "metadata": {},
   "outputs": [
    {
     "name": "stdout",
     "output_type": "stream",
     "text": [
      "('I am planning in my office, those would be worth a million Steem Power A DAY '\n",
      " 'in Steem power.')\n",
      "'I learned how to buy in.'\n",
      "'This RSA key to complete this next URL look?'\n",
      "('Bitcoin may actually be able to see the value is anywhere from 5% to the '\n",
      " 'manual upvotes coming later, the rewards are preferred because we feel in '\n",
      " \"control of our openness in what he's talking about.\")\n",
      "(\"If I just couldn't wait to place witness votes through setting me as a \"\n",
      " 'witness at steemit.com/~witnesses because this prevents duplicate voting.')\n",
      "\n",
      "\n",
      "('This is the first few thousand more I am on the craps table.I had my whole '\n",
      " 'life and to feel better afterwards.')\n",
      "(\"I'm not spending any more cryptocurrency stuff, but I've always had an \"\n",
      " 'application on Poloniex, just a few of mine.')\n",
      "('Then, this worked on writing this with the other stuff I was in a trip to '\n",
      " 'Magic Kingdom Theme Park in the afternoon before.')\n"
     ]
    }
   ],
   "source": [
    "# Print five randomly-generated sentences\n",
    "for i in range(5):\n",
    "    pprint(modelB.make_sentence())\n",
    "    \n",
    "print('\\n')\n",
    "\n",
    "# Print three randomly-generated sentences of no more than 140 characters\n",
    "for i in range(3):\n",
    "    pprint(modelB.make_short_sentence(140))"
   ]
  },
  {
   "cell_type": "code",
   "execution_count": 120,
   "metadata": {},
   "outputs": [
    {
     "name": "stdout",
     "output_type": "stream",
     "text": [
      "Wall time: 3min 52s\n"
     ]
    }
   ],
   "source": [
    "query = {'author': 'haejin'}\n",
    "\n",
    "result = db.Posts.find(query,\n",
    "                       projection=proj,\n",
    "                       sort=sort,\n",
    "                       limit=1000)\n",
    "\n",
    "%time postsH = [procPost(e['body']) for e in list(result)]"
   ]
  },
  {
   "cell_type": "code",
   "execution_count": 126,
   "metadata": {},
   "outputs": [
    {
     "name": "stdout",
     "output_type": "stream",
     "text": [
      "Wall time: 915 ms\n"
     ]
    }
   ],
   "source": [
    "%time modelH = markovify.Text(' '.join(postsH))"
   ]
  },
  {
   "cell_type": "code",
   "execution_count": 127,
   "metadata": {},
   "outputs": [
    {
     "name": "stdout",
     "output_type": "stream",
     "text": [
      "(\"However, Cryptos have their own personalities as we've seen this with a \"\n",
      " 'financil or investment advice of any kind.')\n",
      "'The handle would coincide with the Popcorn Sympohony of Altcoins!'\n",
      "('Once wave 2 of the larger triangle is quite close to being done with the '\n",
      " \"buyer's and seller's remorse events.\")\n",
      "'The Video has more details!'\n",
      "'This pair too is expected to resume towards hitting $0.0285 or higher.'\n",
      "\n",
      "\n",
      "'Since the handle formation is complete, Elliott Waves point to try again!'\n",
      "('Last night, I shared the below shows STX/BTC with a financil or investment '\n",
      " 'advice of any kind.')\n",
      "\"Let's see how the white impulse waves 1,2,3,4,5.\"\n"
     ]
    }
   ],
   "source": [
    "# Print five randomly-generated sentences\n",
    "for i in range(5):\n",
    "    pprint(modelH.make_sentence())\n",
    "    \n",
    "print('\\n')\n",
    "\n",
    "# Print three randomly-generated sentences of no more than 140 characters\n",
    "for i in range(3):\n",
    "    pprint(modelH.make_short_sentence(140))"
   ]
  },
  {
   "cell_type": "code",
   "execution_count": 133,
   "metadata": {},
   "outputs": [],
   "source": [
    "hybridModel = markovify.combine([modelB, modelH])"
   ]
  },
  {
   "cell_type": "code",
   "execution_count": 134,
   "metadata": {},
   "outputs": [
    {
     "name": "stdout",
     "output_type": "stream",
     "text": [
      "('I am going to have a hard time trying to struggle, we want to tell a story '\n",
      " 'about it, or you simply run a Steem Python library, “a high quality naming, '\n",
      " 'just copy and paste hacking attempts from tutorials online combined with an '\n",
      " 'aim towards mastery and MASSIVE profits can be used during the first person '\n",
      " 'shooters, Duke Nukem and Quake, and playing with Ableton Live with C Major, '\n",
      " 'velocity, and note how I ended up stopping doing as far as you can just '\n",
      " 'customize this deeper and show how my main servers located in the '\n",
      " 'whitepaper.')\n",
      "('Then, I would be the most important votes we make our votes, we feel in '\n",
      " 'control of our community!')\n",
      "('With a scenario as shown in the 10 tips are helpful and should be able to '\n",
      " \"track bot upvotes, the majority of the biggest problem I've struggled with \"\n",
      " 'alcohol and drugs were a starter.')\n",
      "('They show things that could allow all of us just work all day, and I am very '\n",
      " 'excited about how my life being a father!')\n",
      "('The correction took the camera and on a bunch of work is more important that '\n",
      " 'I want to do it.')\n",
      "\n",
      "\n",
      "('I felt resentful, I had this latent love or when certain exchanges like '\n",
      " 'Poloniex or Bit t-rex.')\n",
      "('Please consider reviewing these Tutorials on: Elliott Wave counts of the '\n",
      " 'sellers are dwindling and once d and e still remain incomplete.')\n",
      "'I am noticing is the same things.'\n"
     ]
    }
   ],
   "source": [
    "for i in range(5):\n",
    "    pprint(hybridModel.make_sentence())\n",
    "    \n",
    "print('\\n')\n",
    "\n",
    "# Print three randomly-generated sentences of no more than 140 characters\n",
    "for i in range(3):\n",
    "    pprint(hybridModel.make_short_sentence(140))"
   ]
  },
  {
   "cell_type": "markdown",
   "metadata": {},
   "source": [
    "### Tools\n",
    "\n",
    "* [**Markovify**](https://github.com/jsvine/markovify)\n",
    "\n",
    "* [**spaCy**](https://spacy.io/) - Though if you install *spaCy* through pip, make sure to install the english language network as admin.\n",
    "  `python -m spacy download en`\n",
    " \n",
    "* [**SteemData**](https://steemdata.com/) -- Thanks to @furion, as ever."
   ]
  }
 ],
 "metadata": {
  "kernelspec": {
   "display_name": "Python 3",
   "language": "python",
   "name": "python3"
  },
  "language_info": {
   "codemirror_mode": {
    "name": "ipython",
    "version": 3
   },
   "file_extension": ".py",
   "mimetype": "text/x-python",
   "name": "python",
   "nbconvert_exporter": "python",
   "pygments_lexer": "ipython3",
   "version": "3.6.4"
  }
 },
 "nbformat": 4,
 "nbformat_minor": 2
}
