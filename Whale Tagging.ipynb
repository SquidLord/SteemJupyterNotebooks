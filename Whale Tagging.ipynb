{
 "cells": [
  {
   "cell_type": "markdown",
   "metadata": {},
   "source": [
    "# [Steem Analysis] Whale Tagging: What Are the Whale-est Tags?"
   ]
  },
  {
   "cell_type": "markdown",
   "metadata": {},
   "source": [
    "Sometimes you just get the inspiration to find something out, and sometimes it's given to you.\n",
    "\n",
    "Whale chasing is a full-time hobby on Steemit for some; tracking the motion and activity of the elusive high-SP accounts in order to try and court their interest by catering to a very specific crowd. It's not really what I want to do with my time, but there are certain aspects that I find interesting.\n",
    "\n",
    "In other posts I have worked to determine what the most influential accounts on the site really are, how many of them it takes in one place to outvote everybody else (the answer is roughly 92, in case you were curious), and what the pattern of transfers of funds between them actually looks like.\n",
    "\n",
    "@kipswolfe set what I originally thought was going to be a trivial challenge: find out what tax the whales on the platform prefer to vote for.\n",
    "\n",
    "This sounds as if it should be trivial.\n",
    "\n",
    "It turns out that it's a lot harder than it looks, mainly because of the way that votes record their targets on the blockchain. But we'll get to that."
   ]
  },
  {
   "cell_type": "markdown",
   "metadata": {},
   "source": [
    "## Whaling Lists"
   ]
  },
  {
   "cell_type": "markdown",
   "metadata": {},
   "source": [
    "I wanted to do something a little bit different with this particular instance. In the past, I haven't been taking delegated SP into account when building my lists of important accounts. In a real sense, that doesn't make a big difference, if we're being honest.\n",
    "\n",
    "Because of the ridiculous orders of magnitude between high-SP accounts at the top end, it really doesn't matter much if one of the big players has delegated a million vests here and there. It's lower than noise in the signal. As a personal challenge, however, I wanted to figure out how to take that into account.\n",
    "\n",
    "Let's do some basic set up first. It's the usual toolchain."
   ]
  },
  {
   "cell_type": "code",
   "execution_count": 276,
   "metadata": {},
   "outputs": [],
   "source": [
    "from steemdata import SteemData\n",
    "import datetime\n",
    "from datetime import datetime as dt\n",
    "import collections\n",
    "\n",
    "import pandas as pd"
   ]
  },
  {
   "cell_type": "markdown",
   "metadata": {},
   "source": [
    "Rather than keep isolating these particular settings, I've decided to move them into actual standalone variables. It doesn't matter a lot for this particular problem, but since I tend to go heavy on code reuse, this will come in very handy in a future article."
   ]
  },
  {
   "cell_type": "code",
   "execution_count": 277,
   "metadata": {},
   "outputs": [],
   "source": [
    "DAYS, WHALES = 7, 100"
   ]
  },
  {
   "cell_type": "markdown",
   "metadata": {},
   "source": [
    "There is no easy way to get a list of bots. In fact, creating that list in an automated fashion is probably worth two or three PhD theses for someone else. I'm going to cheat a little bit and manually transcribe a list of bots from https://steembottracker.com/ .\n",
    "\n",
    "Manually.\n",
    "\n",
    "This is not my favorite way to do things, and I wish that Steem Bot Tracker had some sort of API in order to query it for its known list of bots, but this will do for now.\n",
    "\n",
    "I've also added a few apps that I know are pretty aggressive about voting up things and which I would really rather drop off. They don't really add to the answer to the question as posed."
   ]
  },
  {
   "cell_type": "code",
   "execution_count": 278,
   "metadata": {},
   "outputs": [],
   "source": [
    "SteemBots = ['booster', 'upme', 'appreciator', 'sneaky-ninja', 'rocky1', 'smartsteem',\n",
    "             'therising', 'jerrybanfield', 'upmyvote', 'mercurybot', 'promobot', 'postpromoter', \n",
    "             'buildawhale', 'boomerang', 'minnowbooster', 'randowhale', 'smartmarket',\n",
    "             'lays', 'speedvoter', 'upvotewhale', 'bumper', 'ebargains', 'treeplanter', 'tipu', \n",
    "             'postdoctor', 'morwhale', 'drotto', 'minnowpond', 'moonbot', 'danzy', 'echowhale',\n",
    "             'originalworks', 'siditech', 'byresteem', 'withsmn', 'alphaprime', 'steemvote',\n",
    "             'hugwhale', 'blockgators', 'steemvoter', 'hottopic', 'thundercurator', \n",
    "             'earthnation-bot', 'resteemable', 'photocontests', 'friends-bot', 'frontrunner',\n",
    "             'resteembot', 'astrobot', 'steemlike', 'earnmoresteem', 'followforupvotes',\n",
    "             'microbot', 'coolbot', 'mercurator', 'thehumanbot', 'gangvote', 'steemthat',\n",
    "             'refresh', 'cabbage-dealer',\n",
    "             'dlive', 'dtube', 'busy'\n",
    "            ]"
   ]
  },
  {
   "cell_type": "markdown",
   "metadata": {},
   "source": [
    "And here we go.\n",
    "\n",
    "I originally attempted to solve this problem in a very smart way, by trying to get the MongoDB interface to calculate the current vested shares modified by delegated and received shares – and that completely stymied me for over a day.\n",
    "\n",
    "And then I realized that it is always better to have a stupid solution that works than a smart solution that fails. Rather than push off the calculations to the database and trying to optimize how much data I get back from it, I decided to just grab every single account on the platform with the number of vested shares, delegated shares, and received shares, and do all the calculations myself locally before filtering.\n",
    "\n",
    "This is absolutely the wrong way to do things. But it works."
   ]
  },
  {
   "cell_type": "code",
   "execution_count": 279,
   "metadata": {},
   "outputs": [],
   "source": [
    "db = SteemData()"
   ]
  },
  {
   "cell_type": "code",
   "execution_count": 280,
   "metadata": {},
   "outputs": [],
   "source": [
    "query = {}\n",
    "\n",
    "proj = {'name': 1,\n",
    "        'vesting_shares.amount': 1,\n",
    "        'delegated_vesting_shares.amount': 1,\n",
    "        'received_vesting_shares.amount': 1,\n",
    "        '_id': 0}\n",
    "\n",
    "# sort = [('vesting_shares.amount', -1)]\n",
    "sort = []"
   ]
  },
  {
   "cell_type": "code",
   "execution_count": 281,
   "metadata": {},
   "outputs": [],
   "source": [
    "Result = db.Accounts.find(query,\n",
    "                          projection=proj,\n",
    "                          sort=sort,\n",
    "                         )"
   ]
  },
  {
   "cell_type": "code",
   "execution_count": 282,
   "metadata": {},
   "outputs": [
    {
     "name": "stdout",
     "output_type": "stream",
     "text": [
      "Wall time: 51.6 s\n"
     ]
    }
   ],
   "source": [
    "%%time \n",
    "\n",
    "ResL = list(Result)"
   ]
  },
  {
   "cell_type": "code",
   "execution_count": 283,
   "metadata": {},
   "outputs": [],
   "source": [
    "ResT = pd.DataFrame(ResL)"
   ]
  },
  {
   "cell_type": "markdown",
   "metadata": {},
   "source": [
    "Thankfully, pandas makes it easy to deal with filtering large quantities of data very quickly.\n",
    "\n",
    "Here we just drop every entry in SteemBots from the main list before we do anything else. It's a tiny, minuscule, almost entirely wasted effort, but here it is."
   ]
  },
  {
   "cell_type": "code",
   "execution_count": 284,
   "metadata": {},
   "outputs": [],
   "source": [
    "ResT = ResT[~ResT['name'].isin(SteemBots)]"
   ]
  },
  {
   "cell_type": "markdown",
   "metadata": {},
   "source": [
    "This is where the magic starts happening in earnest.\n",
    "\n",
    "Because SteamData returns a complex dictionary where the amounts are actually stored as a dictionary within the main dictionary that's returned, it's a real pain in the butt to work with. Again, I could've come up with a clever solution which left all of the nesting in place – but why? Instead, I go ahead and rip everything out and drop it at the top level.\n",
    "\n",
    "There is one real bit of magic in here. I know from previous efforts that some of the vest values are stored as strings rather than proper floats, so this gives me an opportunity to turn all of those strings into floats when they go into the pandas data frame that I'm going to be using as a reference. This makes doing calculations with the information much, much easier a little bit down the pipe."
   ]
  },
  {
   "cell_type": "code",
   "execution_count": 285,
   "metadata": {},
   "outputs": [],
   "source": [
    "ResT['vest_shares'] = [float(e['amount']) for e in ResT['vesting_shares']]\n",
    "ResT['dele_shares'] = [float(e['amount']) for e in ResT['delegated_vesting_shares']]\n",
    "ResT['rece_shares'] = [float(e['amount']) for e in ResT['received_vesting_shares']]\n",
    "\n",
    "ResT = ResT.drop('vesting_shares', axis=1)\n",
    "ResT = ResT.drop('delegated_vesting_shares', axis=1)\n",
    "ResT = ResT.drop('received_vesting_shares', axis=1)"
   ]
  },
  {
   "cell_type": "code",
   "execution_count": 286,
   "metadata": {},
   "outputs": [
    {
     "data": {
      "text/html": [
       "<div>\n",
       "<style scoped>\n",
       "    .dataframe tbody tr th:only-of-type {\n",
       "        vertical-align: middle;\n",
       "    }\n",
       "\n",
       "    .dataframe tbody tr th {\n",
       "        vertical-align: top;\n",
       "    }\n",
       "\n",
       "    .dataframe thead th {\n",
       "        text-align: right;\n",
       "    }\n",
       "</style>\n",
       "<table border=\"1\" class=\"dataframe\">\n",
       "  <thead>\n",
       "    <tr style=\"text-align: right;\">\n",
       "      <th></th>\n",
       "      <th>name</th>\n",
       "      <th>vest_shares</th>\n",
       "      <th>dele_shares</th>\n",
       "      <th>rece_shares</th>\n",
       "    </tr>\n",
       "  </thead>\n",
       "  <tbody>\n",
       "    <tr>\n",
       "      <th>0</th>\n",
       "      <td>a-0</td>\n",
       "      <td>13873.020360</td>\n",
       "      <td>0.0</td>\n",
       "      <td>0.0</td>\n",
       "    </tr>\n",
       "    <tr>\n",
       "      <th>1</th>\n",
       "      <td>a-00</td>\n",
       "      <td>12422.163690</td>\n",
       "      <td>0.0</td>\n",
       "      <td>0.0</td>\n",
       "    </tr>\n",
       "    <tr>\n",
       "      <th>2</th>\n",
       "      <td>a-1</td>\n",
       "      <td>92666.095503</td>\n",
       "      <td>0.0</td>\n",
       "      <td>0.0</td>\n",
       "    </tr>\n",
       "  </tbody>\n",
       "</table>\n",
       "</div>"
      ],
      "text/plain": [
       "   name   vest_shares  dele_shares  rece_shares\n",
       "0   a-0  13873.020360          0.0          0.0\n",
       "1  a-00  12422.163690          0.0          0.0\n",
       "2   a-1  92666.095503          0.0          0.0"
      ]
     },
     "execution_count": 286,
     "metadata": {},
     "output_type": "execute_result"
    }
   ],
   "source": [
    "ResT.head(3)"
   ]
  },
  {
   "cell_type": "markdown",
   "metadata": {},
   "source": [
    "Now the calculations.\n",
    "\n",
    "Again, this is made a lot easier by the fact that pandas allows you to use vectors of data returned by queries in matrix operations, effectively letting you add, subtract, multiply, etc., entire lists of numeric information.\n",
    "\n",
    "We just add a brand-new column for the calculated value and let it go."
   ]
  },
  {
   "cell_type": "code",
   "execution_count": 287,
   "metadata": {},
   "outputs": [],
   "source": [
    "ResT['vests'] = ResT['vest_shares'] - ResT['dele_shares'] + ResT['rece_shares']"
   ]
  },
  {
   "cell_type": "markdown",
   "metadata": {},
   "source": [
    "How many accounts are we talking about?\n",
    "\n",
    "We are closing in on 900,000 accounts at this point. That is a lot of data – but as has been said before, we don't know how many of those accounts will actually remain active, or are just interface points for automated systems. @paulag has run some numbers which seem plausible and suggest that retention is somewhere south of 7% of accounts in the last couple of months.\n",
    "\n",
    "That seems reasonable."
   ]
  },
  {
   "cell_type": "code",
   "execution_count": 288,
   "metadata": {},
   "outputs": [
    {
     "data": {
      "text/plain": [
       "868809"
      ]
     },
     "execution_count": 288,
     "metadata": {},
     "output_type": "execute_result"
    }
   ],
   "source": [
    "len(ResT)"
   ]
  },
  {
   "cell_type": "markdown",
   "metadata": {},
   "source": [
    "The rest is just some gyration. We want to sort all of the accounts by the calculated number of vests, and then just for good measure I dropped all of the accounts which have zero vests because they have no real meaning. I could've picked an almost arbitrary cutoff point up to 1,000,000 with absolutely no ill effects, as you will see."
   ]
  },
  {
   "cell_type": "code",
   "execution_count": 289,
   "metadata": {},
   "outputs": [],
   "source": [
    "ResT = ResT.sort_values('vests', ascending=False)"
   ]
  },
  {
   "cell_type": "code",
   "execution_count": 290,
   "metadata": {},
   "outputs": [],
   "source": [
    "ResT = ResT[ResT['vests'] > 0]"
   ]
  },
  {
   "cell_type": "code",
   "execution_count": 291,
   "metadata": {},
   "outputs": [],
   "source": [
    "ResT = ResT.head(WHALES)"
   ]
  },
  {
   "cell_type": "code",
   "execution_count": 292,
   "metadata": {},
   "outputs": [
    {
     "data": {
      "text/plain": [
       "100"
      ]
     },
     "execution_count": 292,
     "metadata": {},
     "output_type": "execute_result"
    }
   ],
   "source": [
    "len(ResT)"
   ]
  },
  {
   "cell_type": "code",
   "execution_count": 293,
   "metadata": {},
   "outputs": [
    {
     "data": {
      "text/html": [
       "<div>\n",
       "<style scoped>\n",
       "    .dataframe tbody tr th:only-of-type {\n",
       "        vertical-align: middle;\n",
       "    }\n",
       "\n",
       "    .dataframe tbody tr th {\n",
       "        vertical-align: top;\n",
       "    }\n",
       "\n",
       "    .dataframe thead th {\n",
       "        text-align: right;\n",
       "    }\n",
       "</style>\n",
       "<table border=\"1\" class=\"dataframe\">\n",
       "  <thead>\n",
       "    <tr style=\"text-align: right;\">\n",
       "      <th></th>\n",
       "      <th>name</th>\n",
       "      <th>vest_shares</th>\n",
       "      <th>dele_shares</th>\n",
       "      <th>rece_shares</th>\n",
       "      <th>vests</th>\n",
       "    </tr>\n",
       "  </thead>\n",
       "  <tbody>\n",
       "    <tr>\n",
       "      <th>512095</th>\n",
       "      <td>steemit</td>\n",
       "      <td>9.003985e+10</td>\n",
       "      <td>0.000000e+00</td>\n",
       "      <td>0.000000e+00</td>\n",
       "      <td>9.003985e+10</td>\n",
       "    </tr>\n",
       "    <tr>\n",
       "      <th>358983</th>\n",
       "      <td>misterdelegation</td>\n",
       "      <td>3.385447e+10</td>\n",
       "      <td>2.232969e+10</td>\n",
       "      <td>0.000000e+00</td>\n",
       "      <td>1.152478e+10</td>\n",
       "    </tr>\n",
       "    <tr>\n",
       "      <th>566544</th>\n",
       "      <td>utopian-io</td>\n",
       "      <td>1.589033e+08</td>\n",
       "      <td>6.825846e+07</td>\n",
       "      <td>7.807850e+09</td>\n",
       "      <td>7.898494e+09</td>\n",
       "    </tr>\n",
       "  </tbody>\n",
       "</table>\n",
       "</div>"
      ],
      "text/plain": [
       "                    name   vest_shares   dele_shares   rece_shares  \\\n",
       "512095           steemit  9.003985e+10  0.000000e+00  0.000000e+00   \n",
       "358983  misterdelegation  3.385447e+10  2.232969e+10  0.000000e+00   \n",
       "566544        utopian-io  1.589033e+08  6.825846e+07  7.807850e+09   \n",
       "\n",
       "               vests  \n",
       "512095  9.003985e+10  \n",
       "358983  1.152478e+10  \n",
       "566544  7.898494e+09  "
      ]
     },
     "execution_count": 293,
     "metadata": {},
     "output_type": "execute_result"
    }
   ],
   "source": [
    "ResT.head(3)"
   ]
  },
  {
   "cell_type": "code",
   "execution_count": 294,
   "metadata": {},
   "outputs": [
    {
     "data": {
      "text/html": [
       "<div>\n",
       "<style scoped>\n",
       "    .dataframe tbody tr th:only-of-type {\n",
       "        vertical-align: middle;\n",
       "    }\n",
       "\n",
       "    .dataframe tbody tr th {\n",
       "        vertical-align: top;\n",
       "    }\n",
       "\n",
       "    .dataframe thead th {\n",
       "        text-align: right;\n",
       "    }\n",
       "</style>\n",
       "<table border=\"1\" class=\"dataframe\">\n",
       "  <thead>\n",
       "    <tr style=\"text-align: right;\">\n",
       "      <th></th>\n",
       "      <th>name</th>\n",
       "      <th>vest_shares</th>\n",
       "      <th>dele_shares</th>\n",
       "      <th>rece_shares</th>\n",
       "      <th>vests</th>\n",
       "    </tr>\n",
       "  </thead>\n",
       "  <tbody>\n",
       "    <tr>\n",
       "      <th>18370</th>\n",
       "      <td>alexis555</td>\n",
       "      <td>3.587134e+08</td>\n",
       "      <td>0.0</td>\n",
       "      <td>0.0</td>\n",
       "      <td>3.587134e+08</td>\n",
       "    </tr>\n",
       "    <tr>\n",
       "      <th>288405</th>\n",
       "      <td>kidrock</td>\n",
       "      <td>3.538000e+08</td>\n",
       "      <td>0.0</td>\n",
       "      <td>0.0</td>\n",
       "      <td>3.538000e+08</td>\n",
       "    </tr>\n",
       "    <tr>\n",
       "      <th>477895</th>\n",
       "      <td>sean-king</td>\n",
       "      <td>3.460691e+08</td>\n",
       "      <td>0.0</td>\n",
       "      <td>0.0</td>\n",
       "      <td>3.460691e+08</td>\n",
       "    </tr>\n",
       "  </tbody>\n",
       "</table>\n",
       "</div>"
      ],
      "text/plain": [
       "             name   vest_shares  dele_shares  rece_shares         vests\n",
       "18370   alexis555  3.587134e+08          0.0          0.0  3.587134e+08\n",
       "288405    kidrock  3.538000e+08          0.0          0.0  3.538000e+08\n",
       "477895  sean-king  3.460691e+08          0.0          0.0  3.460691e+08"
      ]
     },
     "execution_count": 294,
     "metadata": {},
     "output_type": "execute_result"
    }
   ],
   "source": [
    "ResT.tail(3)"
   ]
  },
  {
   "cell_type": "markdown",
   "metadata": {},
   "source": [
    "As you can see above, 100th place is down in the 10e8 territory.\n",
    "\n",
    "That builds our whale list, filtered for bots, and created via arbitrary stupidity."
   ]
  },
  {
   "cell_type": "markdown",
   "metadata": {},
   "source": [
    "## Voting in the Deeps"
   ]
  },
  {
   "cell_type": "markdown",
   "metadata": {},
   "source": [
    "We have a list of the top 100 whales now. We need a list of all of their votes for the last DAYS.\n",
    "\n",
    "I eventually settled on a week as the timeframe for the votes that I needed, but originally I wanted a solid month for real data. Unfortunately – that is a lot of data the throw around, and while my system had no problem dealing with it, SteamData actually had a real issue coming back with that much information.\n",
    "\n",
    "The sheer volume of information getting funneled into the steem blockchain on a regular basis is often sold as a great thing, as representative of how popular and important steem blockchain really is. I'm here to tell you that if you are trying to do something with historical data, archival data, or analysis – dealing with this stuff is a real bear, and the structure of the blockchain as only extensible, only saving differences in an ongoing way, and being aggressively denormalized is a nightmare.\n",
    "\n",
    "It's only going to get worse.\n",
    "\n",
    "Anyway, this is a pretty straightforward query for votes where we just grab everything for the last week.\n",
    "\n",
    "There is a catch which we will get to shortly."
   ]
  },
  {
   "cell_type": "code",
   "execution_count": 296,
   "metadata": {},
   "outputs": [],
   "source": [
    "query = {'voter': {'$in': list(ResT['name'])},\n",
    "         'timestamp' : {'$gte': dt.now() - datetime.timedelta(days=DAYS)},\n",
    "         'type': 'vote'\n",
    "        }\n",
    "\n",
    "proj = {'author': 1,\n",
    "        'permlink': 1,\n",
    "        '_id': 0}\n",
    "\n",
    "sort = []\n",
    "\n",
    "limit = 0"
   ]
  },
  {
   "cell_type": "code",
   "execution_count": 297,
   "metadata": {},
   "outputs": [],
   "source": [
    "Result = db.Operations.find(query,\n",
    "                            projection=proj,\n",
    "                            sort=sort,\n",
    "                            limit=limit\n",
    "                           )"
   ]
  },
  {
   "cell_type": "code",
   "execution_count": 298,
   "metadata": {},
   "outputs": [
    {
     "name": "stdout",
     "output_type": "stream",
     "text": [
      "Wall time: 1min 14s\n"
     ]
    }
   ],
   "source": [
    "%%time \n",
    "\n",
    "VotT = pd.DataFrame(list(Result))"
   ]
  },
  {
   "cell_type": "code",
   "execution_count": 299,
   "metadata": {},
   "outputs": [],
   "source": [
    "VotPT = VotT.set_index(['permlink'])"
   ]
  },
  {
   "cell_type": "code",
   "execution_count": 300,
   "metadata": {},
   "outputs": [
    {
     "data": {
      "text/html": [
       "<div>\n",
       "<style scoped>\n",
       "    .dataframe tbody tr th:only-of-type {\n",
       "        vertical-align: middle;\n",
       "    }\n",
       "\n",
       "    .dataframe tbody tr th {\n",
       "        vertical-align: top;\n",
       "    }\n",
       "\n",
       "    .dataframe thead th {\n",
       "        text-align: right;\n",
       "    }\n",
       "</style>\n",
       "<table border=\"1\" class=\"dataframe\">\n",
       "  <thead>\n",
       "    <tr style=\"text-align: right;\">\n",
       "      <th></th>\n",
       "      <th>author</th>\n",
       "    </tr>\n",
       "    <tr>\n",
       "      <th>permlink</th>\n",
       "      <th></th>\n",
       "    </tr>\n",
       "  </thead>\n",
       "  <tbody>\n",
       "    <tr>\n",
       "      <th>looking-at-the-peaks-of-mountain-kilimanjaro</th>\n",
       "      <td>wanasoloben</td>\n",
       "    </tr>\n",
       "    <tr>\n",
       "      <th>mpjdg</th>\n",
       "      <td>imagediet</td>\n",
       "    </tr>\n",
       "    <tr>\n",
       "      <th>re-horlaryhiwhorlar-logic-20180321t012725746z</th>\n",
       "      <td>steemcleaners</td>\n",
       "    </tr>\n",
       "    <tr>\n",
       "      <th>3ruvb4</th>\n",
       "      <td>clayop</td>\n",
       "    </tr>\n",
       "    <tr>\n",
       "      <th>first-official-steemit-meetup-in-honduras-all-invited</th>\n",
       "      <td>impatientoptim</td>\n",
       "    </tr>\n",
       "  </tbody>\n",
       "</table>\n",
       "</div>"
      ],
      "text/plain": [
       "                                                            author\n",
       "permlink                                                          \n",
       "looking-at-the-peaks-of-mountain-kilimanjaro           wanasoloben\n",
       "mpjdg                                                    imagediet\n",
       "re-horlaryhiwhorlar-logic-20180321t012725746z        steemcleaners\n",
       "3ruvb4                                                      clayop\n",
       "first-official-steemit-meetup-in-honduras-all-i...  impatientoptim"
      ]
     },
     "execution_count": 300,
     "metadata": {},
     "output_type": "execute_result"
    }
   ],
   "source": [
    "VotPT.head()"
   ]
  },
  {
   "cell_type": "markdown",
   "metadata": {},
   "source": [
    "If you have been following along or you have tinkered with information from the blockchain yourself, you know where we're going. If not, let me let you in on a little secret.\n",
    "\n",
    "Every vote encodes a permlink, the author, the voter, how large the vote in percentage is and a couple of other things.\n",
    "\n",
    "What it doesn't tell you is whether the vote is for an actual post or for a comment on a post. And there is no way to determine if the target is a post or a comment on a post without actually resolving it as a unique entity.\n",
    "\n",
    "To resolve it is a unique entity, you need to be able to resolve it as a unique entity.\n",
    "\n",
    "Comments and posts are in separate Collections in SteamData. Don't try to query the wrong one for content that lives in the other, because the query will never return. Nothing will ever be found.\n",
    "\n",
    "I needed a quick and dirty (and stupid) way to determine whether a permlink went to a post or comment. I settled on checking the first three characters of the permlink to see if they are 're-.' \n",
    "\n",
    "Yes, I know that is clumsy, messy, and completely ridiculous. On the other hand, it seems to have worked.\n",
    "\n",
    "Nothing about this entire process has encouraged me to do things in a smart and sensible matter. Only the most stupid and brute force methodologies have actually worked.\n",
    "\n",
    "If there is nothing else you take away…\n",
    "\n",
    "Regardless, let's split these votes for the last week into two sets and see where they stand."
   ]
  },
  {
   "cell_type": "code",
   "execution_count": 301,
   "metadata": {},
   "outputs": [],
   "source": [
    "VotPS, VotCS = set(), set()\n",
    "\n",
    "for e in set(VotPT.index):\n",
    "    if e[:3] == 're-':\n",
    "        VotCS.add(e)\n",
    "    else:\n",
    "        VotPS.add(e)   "
   ]
  },
  {
   "cell_type": "code",
   "execution_count": 302,
   "metadata": {},
   "outputs": [
    {
     "data": {
      "text/plain": [
       "(6582, 43806)"
      ]
     },
     "execution_count": 302,
     "metadata": {},
     "output_type": "execute_result"
    }
   ],
   "source": [
    "len(VotCS), len(VotPS)"
   ]
  },
  {
   "cell_type": "markdown",
   "metadata": {},
   "source": [
    "With our rough metric, we have somewhere around 6600 votes going to comments and 44,000 votes going to posts.\n",
    "\n",
    "These numbers seem strange to me. Part of that that is having an expectation which is not really built on anything rational to begin with, but a little consideration makes me wonder if the whales really do avoid getting involved in comments.\n",
    "\n",
    "Or there are a lot more vote bots living in my list of top 100 whales, even after the filtering.\n",
    "\n",
    "To be honest, I expect the latter."
   ]
  },
  {
   "cell_type": "markdown",
   "metadata": {},
   "source": [
    "## Living A Posted Life"
   ]
  },
  {
   "cell_type": "markdown",
   "metadata": {},
   "source": [
    "Have you ever been so stuck that the only thing that you could do is walk away from the problem for an entire day?\n",
    "\n",
    "That's where we're at with this. This bit of code gave me hideous and horrible nightmares. It just would not work. The database would not return information, the query simply wouldn't return it all, sometimes it would just spin into infinity, and essentially it was Hell.\n",
    "\n",
    "Again, I was trying to be clever instead of being stupid and brute force.\n",
    "\n",
    "It's still not perfect, and we'll talk about that in a minute.\n",
    "\n",
    "Look at what we are actually doing here:\n",
    "\n",
    "I end up making a query to the database which looks for three things in articles. Created in the last DAYS+7, because any votes on an article outside of that wouldn't affect their rewards, anyway. A permlink in the list of hosts that we created earlier. An author in the list of vote authors that we created earlier.\n",
    "\n",
    "Posts and comments are the only place where the time of creation is listed as \"created\" and not as \"timestamp\". What's a little consistency, right? After all, no one would be their head against the wall for hours because of that. You would have to be an idiot.\n",
    "\n",
    "Yeah.\n",
    "\n",
    "I did try doing this query without the \"created\" portion of the query, and once again it spun in circles without doing anything for very long periods of time. You would think that because the permlink and author are together a unique key, that wouldn't be an issue. You would be wrong.\n",
    "\n",
    "You would also think that rather than depend on a split key, the vote would refer to a post or comment ID which would be unique and could be directly searched for to turn up a single target. You would be wrong. That would be far too easy.\n",
    "\n",
    "I'm hoping that [Beem](https://github.com/holgern/beem) either currently has or will soon develop the ability to take an author in permlink and directly return an article/comment and its attributes, but until I figure out how that can be done, this is the ugly mess we're stuck with."
   ]
  },
  {
   "cell_type": "code",
   "execution_count": 305,
   "metadata": {},
   "outputs": [],
   "source": [
    "query = {\n",
    "         'created' : {'$gte': dt.now() - datetime.timedelta(days=DAYS+7)},\n",
    "         'permlink': {'$in': list(VotPS)},\n",
    "         'author'  : {'$in': list(VotPT['author'])}\n",
    "        }\n",
    "\n",
    "proj = {'tags': 1,\n",
    "        'permlink': 1,\n",
    "        '_id': 0}\n",
    "\n",
    "sort = [('created', -1)]\n",
    "\n",
    "limit = 0"
   ]
  },
  {
   "cell_type": "code",
   "execution_count": 306,
   "metadata": {},
   "outputs": [],
   "source": [
    "Result = db.Posts.find(query,\n",
    "                       projection=proj,\n",
    "                       sort=sort,\n",
    "                       limit=limit\n",
    "                      )"
   ]
  },
  {
   "cell_type": "code",
   "execution_count": 307,
   "metadata": {},
   "outputs": [
    {
     "name": "stdout",
     "output_type": "stream",
     "text": [
      "Wall time: 27.7 s\n"
     ]
    }
   ],
   "source": [
    "%%time\n",
    "\n",
    "PosT = pd.DataFrame(list(Result))"
   ]
  },
  {
   "cell_type": "code",
   "execution_count": 308,
   "metadata": {},
   "outputs": [
    {
     "data": {
      "text/plain": [
       "47225"
      ]
     },
     "execution_count": 308,
     "metadata": {},
     "output_type": "execute_result"
    }
   ],
   "source": [
    "len(PosT)"
   ]
  },
  {
   "cell_type": "markdown",
   "metadata": {},
   "source": [
    "Our original list of posts from the vote query was almost 44,000. This query returns 47,000 and change, and I honestly can't tell you why.\n",
    "\n",
    "No, that's untrue. It's because there is no unique ID linking the vote to the post, and permlinks are not forced to be unique. I haven't tested it, but I suspect that author and permlinks are not even forced to be unique taken as a key together.\n",
    "\n",
    "This may be untrue.\n",
    "\n",
    "Every vote does include a trx_id, which may or may not be useful. Good luck finding some documentation on that. It doesn't seem to match the IDs on actual posts, so who can say?\n",
    "\n",
    "(It has often been said that the surest way to learn something is to state, with unshakable faith, something you know to be untrue on the Internet. Someone will come along in short order and correct you every time. Maybe we'll get lucky.)\n",
    "\n",
    "Having generated at least a reasonable set of posts, let's strip off the tags and take a look at them. Oh yes, the tags. As stored on the post itself, the list is the category followed by the tags. But since the category is, by definition, the first tag, all you end up with is the first tag doubled in every case. I don't know who made that decision, but it was a bad one.\n",
    "\n",
    "We'll just go through, strip off that first tag, reattach the tag list to the table, do some cleanup, and turn up something simple, straightforward, and ultimately the answer to the question we set out to deal with in the first place."
   ]
  },
  {
   "cell_type": "code",
   "execution_count": 309,
   "metadata": {},
   "outputs": [],
   "source": [
    "PosT['tagL'] = [e[1:] for e in PosT['tags']]\n",
    "\n",
    "PosT = PosT.drop(['tags'], axis=1)"
   ]
  },
  {
   "cell_type": "code",
   "execution_count": 310,
   "metadata": {},
   "outputs": [
    {
     "data": {
      "text/html": [
       "<div>\n",
       "<style scoped>\n",
       "    .dataframe tbody tr th:only-of-type {\n",
       "        vertical-align: middle;\n",
       "    }\n",
       "\n",
       "    .dataframe tbody tr th {\n",
       "        vertical-align: top;\n",
       "    }\n",
       "\n",
       "    .dataframe thead th {\n",
       "        text-align: right;\n",
       "    }\n",
       "</style>\n",
       "<table border=\"1\" class=\"dataframe\">\n",
       "  <thead>\n",
       "    <tr style=\"text-align: right;\">\n",
       "      <th></th>\n",
       "      <th>permlink</th>\n",
       "      <th>tagL</th>\n",
       "    </tr>\n",
       "  </thead>\n",
       "  <tbody>\n",
       "    <tr>\n",
       "      <th>0</th>\n",
       "      <td>lego</td>\n",
       "      <td>[lego, florida, parenting, disney, thealliance]</td>\n",
       "    </tr>\n",
       "    <tr>\n",
       "      <th>1</th>\n",
       "      <td>18-03-21</td>\n",
       "      <td>[jiwon35, cyan1, jjangjjangman, howsmate, kr-pet]</td>\n",
       "    </tr>\n",
       "    <tr>\n",
       "      <th>2</th>\n",
       "      <td>beastly-tales-be-kind-to-animals</td>\n",
       "      <td>[art, writing, drawing, poetry, humor]</td>\n",
       "    </tr>\n",
       "    <tr>\n",
       "      <th>3</th>\n",
       "      <td>good-night</td>\n",
       "      <td>[goodnight, steemit, steembees, nigeria, onequ...</td>\n",
       "    </tr>\n",
       "    <tr>\n",
       "      <th>4</th>\n",
       "      <td>18</td>\n",
       "      <td>[photokorea, busy, jjangjjangman, kr, photopra...</td>\n",
       "    </tr>\n",
       "  </tbody>\n",
       "</table>\n",
       "</div>"
      ],
      "text/plain": [
       "                           permlink  \\\n",
       "0                              lego   \n",
       "1                          18-03-21   \n",
       "2  beastly-tales-be-kind-to-animals   \n",
       "3                        good-night   \n",
       "4                                18   \n",
       "\n",
       "                                                tagL  \n",
       "0    [lego, florida, parenting, disney, thealliance]  \n",
       "1  [jiwon35, cyan1, jjangjjangman, howsmate, kr-pet]  \n",
       "2             [art, writing, drawing, poetry, humor]  \n",
       "3  [goodnight, steemit, steembees, nigeria, onequ...  \n",
       "4  [photokorea, busy, jjangjjangman, kr, photopra...  "
      ]
     },
     "execution_count": 310,
     "metadata": {},
     "output_type": "execute_result"
    }
   ],
   "source": [
    "PosT.head()"
   ]
  },
  {
   "cell_type": "code",
   "execution_count": 311,
   "metadata": {},
   "outputs": [],
   "source": [
    "TagD = collections.defaultdict(int)\n",
    "\n",
    "for e in list(PosT['tagL']):\n",
    "    for t in e:\n",
    "        if not isinstance(t, dict):\n",
    "            TagD[t] += 1"
   ]
  },
  {
   "cell_type": "code",
   "execution_count": 312,
   "metadata": {},
   "outputs": [],
   "source": [
    "TagT = pd.DataFrame.from_dict(TagD, orient='index')"
   ]
  },
  {
   "cell_type": "code",
   "execution_count": 313,
   "metadata": {},
   "outputs": [],
   "source": [
    "TagT.columns = ['count']"
   ]
  },
  {
   "cell_type": "code",
   "execution_count": 314,
   "metadata": {},
   "outputs": [],
   "source": [
    "TagST = TagT.sort_values('count', ascending=False)"
   ]
  },
  {
   "cell_type": "markdown",
   "metadata": {},
   "source": [
    "## Tagging In"
   ]
  },
  {
   "cell_type": "markdown",
   "metadata": {},
   "source": [
    "This is what we set out to learn the first place, what are the most touched tags by the most significant whales on the Steemit platform.\n",
    "\n",
    "I wish it had turned out more interestingly."
   ]
  },
  {
   "cell_type": "code",
   "execution_count": 315,
   "metadata": {},
   "outputs": [
    {
     "data": {
      "text/html": [
       "<div>\n",
       "<style scoped>\n",
       "    .dataframe tbody tr th:only-of-type {\n",
       "        vertical-align: middle;\n",
       "    }\n",
       "\n",
       "    .dataframe tbody tr th {\n",
       "        vertical-align: top;\n",
       "    }\n",
       "\n",
       "    .dataframe thead th {\n",
       "        text-align: right;\n",
       "    }\n",
       "</style>\n",
       "<table border=\"1\" class=\"dataframe\">\n",
       "  <thead>\n",
       "    <tr style=\"text-align: right;\">\n",
       "      <th></th>\n",
       "      <th>count</th>\n",
       "    </tr>\n",
       "  </thead>\n",
       "  <tbody>\n",
       "    <tr>\n",
       "      <th>busy</th>\n",
       "      <td>13523</td>\n",
       "    </tr>\n",
       "    <tr>\n",
       "      <th>life</th>\n",
       "      <td>10245</td>\n",
       "    </tr>\n",
       "    <tr>\n",
       "      <th>esteem</th>\n",
       "      <td>7942</td>\n",
       "    </tr>\n",
       "    <tr>\n",
       "      <th>photography</th>\n",
       "      <td>7345</td>\n",
       "    </tr>\n",
       "    <tr>\n",
       "      <th>steemit</th>\n",
       "      <td>5320</td>\n",
       "    </tr>\n",
       "    <tr>\n",
       "      <th>kr</th>\n",
       "      <td>5056</td>\n",
       "    </tr>\n",
       "    <tr>\n",
       "      <th>blog</th>\n",
       "      <td>4242</td>\n",
       "    </tr>\n",
       "    <tr>\n",
       "      <th>jjangjjangman</th>\n",
       "      <td>4151</td>\n",
       "    </tr>\n",
       "    <tr>\n",
       "      <th>art</th>\n",
       "      <td>2633</td>\n",
       "    </tr>\n",
       "    <tr>\n",
       "      <th>travel</th>\n",
       "      <td>2593</td>\n",
       "    </tr>\n",
       "  </tbody>\n",
       "</table>\n",
       "</div>"
      ],
      "text/plain": [
       "               count\n",
       "busy           13523\n",
       "life           10245\n",
       "esteem          7942\n",
       "photography     7345\n",
       "steemit         5320\n",
       "kr              5056\n",
       "blog            4242\n",
       "jjangjjangman   4151\n",
       "art             2633\n",
       "travel          2593"
      ]
     },
     "execution_count": 315,
     "metadata": {},
     "output_type": "execute_result"
    }
   ],
   "source": [
    "TagST.head(10)"
   ]
  },
  {
   "cell_type": "markdown",
   "metadata": {},
   "source": [
    "It turns out that the most voted thing by the big whales in the last week is busy. Note that is after explicitly removing busy from the potential list of whales, so the bot itself isn't in this list. Which of the whales is kicking up the support for busy?\n",
    "\n",
    "That's another question.\n",
    "\n",
    "It's also disappointing to see \"life\" ranking so high, because if ever there was a tag which really said nothing about the content under it, it's \"life\". It's effectively meaningless, like \"blog\".\n",
    "\n",
    "Oh, right, there \"blog\" is right there in the top 10.\n",
    "\n",
    "If anything is interesting in this list, it's that \"kr\" ranks as high as it does. The Korean contingent on the platform is massive, or at least they are perfectly willing to sacrifice one of their tags as an identifier of content as specifically noting that it's Korean. That's good for them from a language perspective, but maybe not the best solution for a social network. (If it were up to being, language preference of the creator would be an attribute which is saved elsewhere along with the content, making it easier to filter presentation.)\n",
    "\n",
    "And what the crap is \"jjangjjangman\"? There are piles of accounts posting content in Korean under that tag. They don't seem to have anything in common other than being written in Korean; not content, not format, nothing. But apparently it is the focus of some serious whale voting activity.\n",
    "\n",
    "I think we need some pretty pictures. (And also what I came here to do in the first place, make a pie chart of the most touched whale voted tags.)"
   ]
  },
  {
   "cell_type": "code",
   "execution_count": 316,
   "metadata": {},
   "outputs": [
    {
     "data": {
      "text/plain": [
       "<matplotlib.axes._subplots.AxesSubplot at 0x2058e5894e0>"
      ]
     },
     "execution_count": 316,
     "metadata": {},
     "output_type": "execute_result"
    },
    {
     "data": {
      "image/png": "[encoded data removed]",
      "text/plain": [
       "<Figure size 1440x1440 with 1 Axes>"
      ]
     },
     "metadata": {},
     "output_type": "display_data"
    }
   ],
   "source": [
    "TagST.head(20).plot.pie(y='count',\n",
    "                        figsize=(20, 20), \n",
    "                        colormap='bone_r')                        "
   ]
  },
  {
   "cell_type": "markdown",
   "metadata": {},
   "source": [
    "I decided to push a little deeper into the tag list for this. Specific numbers are less important once you get down there, so it seemed reasonable.\n",
    "\n",
    "We see more Korean start showing up, we see the really large Indonesian and Filipino contingent in the tag list, and even \"spanish\" showing up as another language tag.\n",
    "\n",
    "I just couldn't live with myself if I didn't put this in a bar or line graph, because we already know what were going to see. Every single thing on Steemit, graphed as a line or bar, has the same shape. We just know.\n",
    "\n",
    "So let's take a look."
   ]
  },
  {
   "cell_type": "code",
   "execution_count": 318,
   "metadata": {},
   "outputs": [
    {
     "data": {
      "text/plain": [
       "<matplotlib.axes._subplots.AxesSubplot at 0x2058ea70470>"
      ]
     },
     "execution_count": 318,
     "metadata": {},
     "output_type": "execute_result"
    },
    {
     "data": {
      "image/png": "[encoded data removed]",
      "text/plain": [
       "<Figure size 1440x576 with 1 Axes>"
      ]
     },
     "metadata": {},
     "output_type": "display_data"
    }
   ],
   "source": [
    "TagST.head(30).plot.bar(y='count',figsize=(20, 8), \n",
    "                         grid=True, legend=False)"
   ]
  },
  {
   "cell_type": "markdown",
   "metadata": {},
   "source": [
    "On the positive side, this is nowhere near as aggressive and exponential decay curve as we've seen elsewhere. In fact, this is positively gentle. It looks more like presentations which talk about content and how the \"long tail\" is where the bulk of that content resides, being largely undifferentiated by whatever measure is in question.\n",
    "\n",
    "It's kind of reassuring to see that same thing going on here, in a clear and consistent way."
   ]
  },
  {
   "cell_type": "markdown",
   "metadata": {},
   "source": [
    "## *Epilogue*"
   ]
  },
  {
   "cell_type": "markdown",
   "metadata": {},
   "source": [
    "I'm not going to lie, I am a little bit disappointed. Not just in how hard it was to actually get to this point, but in what I actually turned up.\n",
    "\n",
    "It turns out that the biggest whales in the platform don't really have any kind of interesting voting pattern when it comes to tags, at least in the last week.\n",
    "\n",
    "At least not when it comes to topics.\n",
    "\n",
    "If you have the option, and you want to get in front of them, you might want to start writing in Korean. And posting through [busy.org](http://busy.org). And, for reasons which I cannot determine, writing about \"life\". Do those three things and you are probably maximizing your ability to get in front of the big whales.\n",
    "\n",
    "Otherwise? Your best bet is not to chase whales. Outside of the top 10 to 12 tags, you get into the long tail where there is very little differentiation between that content. Write what you want. Look for an audience of people who are interested in it. Post it through [busy.org](http://busy.org) if you're really looking for those up votes from whales."
   ]
  },
  {
   "cell_type": "markdown",
   "metadata": {},
   "source": [
    "### Tools"
   ]
  },
  {
   "cell_type": "markdown",
   "metadata": {},
   "source": [
    "* [Python 3.6](https://www.python.org/)\n",
    "* [Jupyter Lab](https://github.com/jupyterlab/jupyterlab)\n",
    "* [SteemData](https://steemdata.com/) created by @furion\n",
    "* [MongoDB](https://www.mongodb.com/)\n",
    "* [Pandas](https://pandas.pydata.org/)\n",
    "\n",
    "**And the number 42.**"
   ]
  }
 ],
 "metadata": {
  "kernelspec": {
   "display_name": "Python 3",
   "language": "python",
   "name": "python3"
  },
  "language_info": {
   "codemirror_mode": {
    "name": "ipython",
    "version": 3
   },
   "file_extension": ".py",
   "mimetype": "text/x-python",
   "name": "python",
   "nbconvert_exporter": "python",
   "pygments_lexer": "ipython3",
   "version": "3.6.4"
  }
 },
 "nbformat": 4,
 "nbformat_minor": 2
}
