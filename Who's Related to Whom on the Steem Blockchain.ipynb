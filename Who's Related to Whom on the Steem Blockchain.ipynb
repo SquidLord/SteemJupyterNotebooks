{
 "cells": [
  {
   "cell_type": "markdown",
   "metadata": {},
   "source": [
    "*Who's your daddy?*\n",
    "\n",
    "![Imgur](https://i.imgur.com/eDXjXbw.png)"
   ]
  },
  {
   "cell_type": "markdown",
   "metadata": {},
   "source": [
    "What I really wanted to do today was to start stepping into the dungeon with Two Hour Dungeon Crawl.\n",
    "\n",
    "What I'm going to do today is to see if we can build some directed acyclic graphs built off of information which is available from [**SteamData**](https://steemdata.com/) once again. I should have enough of the underlying graphics-generating systems installed to make this happen, so maybe we actually turn up something interesting.\n",
    "\n",
    "I'm definitely going to focus on the first 78 accounts, which we have determined control far more than 50% of the total SP in the system. I think those might be a nexus of connections that we are all interested in."
   ]
  },
  {
   "cell_type": "markdown",
   "metadata": {},
   "source": [
    "## The First 78"
   ]
  },
  {
   "cell_type": "markdown",
   "metadata": {},
   "source": [
    "What _were_ the top 78 accounts according to the analysis that I ran a couple days ago? Let's regenerate that data and store it somewhere convenient."
   ]
  },
  {
   "cell_type": "code",
   "execution_count": 298,
   "metadata": {},
   "outputs": [],
   "source": [
    "from steemdata import SteemData\n",
    "import datetime\n",
    "from datetime import datetime as dt\n",
    "\n",
    "from pprint import pprint"
   ]
  },
  {
   "cell_type": "code",
   "execution_count": 299,
   "metadata": {},
   "outputs": [],
   "source": [
    "db = SteemData()\n",
    "\n",
    "breakTime = dt(2000, 1, 1)"
   ]
  },
  {
   "cell_type": "code",
   "execution_count": 300,
   "metadata": {},
   "outputs": [],
   "source": [
    "query = db.Accounts.find({'last_account_update':\n",
    "                          {'$gte': breakTime}},\n",
    "                         projection={'name': 1,\n",
    "                                     'vesting_shares.amount': 1,\n",
    "\n",
    "                                     '_id': 0}\n",
    "                         )"
   ]
  },
  {
   "cell_type": "code",
   "execution_count": 301,
   "metadata": {},
   "outputs": [],
   "source": [
    "def vestingAmount(queryEntry):\n",
    "    return queryEntry['vesting_shares']['amount']\n",
    "\n",
    "\n",
    "def sortQuery(queryList):\n",
    "    return sorted(queryList, key=vestingAmount, reverse=1)"
   ]
  },
  {
   "cell_type": "code",
   "execution_count": 302,
   "metadata": {},
   "outputs": [],
   "source": [
    "# We'll just go ahead and pull the list and sort it sumultaneously.\n",
    "queryList = sortQuery(list(query))"
   ]
  },
  {
   "cell_type": "code",
   "execution_count": 303,
   "metadata": {
    "scrolled": true
   },
   "outputs": [
    {
     "name": "stdout",
     "output_type": "stream",
     "text": [
      "Accounts: 291496\n",
      "\n",
      "[{'name': 'steemit', 'vesting_shares': {'amount': 90039851836.6897}},\n",
      " {'name': 'misterdelegation', 'vesting_shares': {'amount': 33854469950.665653}},\n",
      " {'name': 'steem', 'vesting_shares': {'amount': 21249773925.079193}},\n",
      " {'name': 'freedom', 'vesting_shares': {'amount': 15607962233.428}},\n",
      " {'name': 'blocktrades', 'vesting_shares': {'amount': 9496005213.584002}},\n",
      " {'name': 'ned', 'vesting_shares': {'amount': 7344140982.676874}},\n",
      " {'name': 'databass', 'vesting_shares': {'amount': 3500010180.297931}},\n",
      " {'name': 'hendrikdegrote', 'vesting_shares': {'amount': 3298001762.871842}},\n",
      " {'name': 'jamesc', 'vesting_shares': {'amount': 3199868835.022211}},\n",
      " {'name': 'michael-b', 'vesting_shares': {'amount': 3084198458.874888}},\n",
      " {'name': 'val-b', 'vesting_shares': {'amount': 3058661749.06894}},\n",
      " {'name': 'proskynneo', 'vesting_shares': {'amount': 3021109391.032705}},\n",
      " {'name': 'val-a', 'vesting_shares': {'amount': 2895251778.87689}},\n",
      " {'name': 'thejohalfiles', 'vesting_shares': {'amount': 2633775823.387832}},\n",
      " {'name': 'minority-report', 'vesting_shares': {'amount': 2169258956.047093}},\n",
      " {'name': 'xeldal', 'vesting_shares': {'amount': 2046642953.741535}},\n",
      " {'name': 'roadscape', 'vesting_shares': {'amount': 1959600356.285733}},\n",
      " {'name': 'jamesc1', 'vesting_shares': {'amount': 1644781210.539062}},\n",
      " {'name': 'arhag', 'vesting_shares': {'amount': 1605237829.023531}},\n",
      " {'name': 'fyrstikken', 'vesting_shares': {'amount': 1548949904.44616}},\n",
      " {'name': 'adm', 'vesting_shares': {'amount': 1524486923.142378}},\n",
      " {'name': 'safari', 'vesting_shares': {'amount': 1500015009.426551}},\n",
      " {'name': 'riverhead', 'vesting_shares': {'amount': 1494178696.187778}},\n",
      " {'name': 'adsactly', 'vesting_shares': {'amount': 1334951123.54692}},\n",
      " {'name': 'trafalgar', 'vesting_shares': {'amount': 1330038590.82164}},\n",
      " {'name': 'created', 'vesting_shares': {'amount': 1247305568.029396}},\n",
      " {'name': 'tombstone', 'vesting_shares': {'amount': 1210362781.831355}},\n",
      " {'name': 'wackou', 'vesting_shares': {'amount': 1114084454.364379}},\n",
      " {'name': 'glitterfart', 'vesting_shares': {'amount': 1062363158.72496}},\n",
      " {'name': 'steemed', 'vesting_shares': {'amount': 1051657094.72923}},\n",
      " {'name': 'jaewoocho', 'vesting_shares': {'amount': 999807983.157001}},\n",
      " {'name': 'engagement', 'vesting_shares': {'amount': 936760723.508883}},\n",
      " {'name': 'livingfree', 'vesting_shares': {'amount': 892682798.947933}},\n",
      " {'name': 'recursive', 'vesting_shares': {'amount': 881978388.39816}},\n",
      " {'name': 'smooth', 'vesting_shares': {'amount': 872944505.994046}},\n",
      " {'name': 'bitcube', 'vesting_shares': {'amount': 857132923.66697}},\n",
      " {'name': 'goku1', 'vesting_shares': {'amount': 855564782.349634}},\n",
      " {'name': 'slowwalker', 'vesting_shares': {'amount': 814870862.346184}},\n",
      " {'name': 'ben', 'vesting_shares': {'amount': 785673736.674163}},\n",
      " {'name': 'pharesim', 'vesting_shares': {'amount': 772191908.833058}},\n",
      " {'name': 'fulltimegeek', 'vesting_shares': {'amount': 751540385.975086}},\n",
      " {'name': 'witness.svk', 'vesting_shares': {'amount': 742537008.031217}},\n",
      " {'name': 'donkeypong', 'vesting_shares': {'amount': 725952873.24769}},\n",
      " {'name': 'gavvet', 'vesting_shares': {'amount': 722929613.896795}},\n",
      " {'name': 'xaero1', 'vesting_shares': {'amount': 684089439.968211}},\n",
      " {'name': 'grumpycat', 'vesting_shares': {'amount': 671119464.205808}},\n",
      " {'name': 'eeqj', 'vesting_shares': {'amount': 649020354.62877}},\n",
      " {'name': 'transisto', 'vesting_shares': {'amount': 637944561.30265}},\n",
      " {'name': 'michael-a', 'vesting_shares': {'amount': 626817548.506146}},\n",
      " {'name': 'fuzzyvest', 'vesting_shares': {'amount': 626266681.537907}},\n",
      " {'name': 'eeks', 'vesting_shares': {'amount': 616185095.729982}},\n",
      " {'name': 'systema', 'vesting_shares': {'amount': 615917285.895589}},\n",
      " {'name': 'honeybeee', 'vesting_shares': {'amount': 610435961.566472}},\n",
      " {'name': 'bramd', 'vesting_shares': {'amount': 594999767.618339}},\n",
      " {'name': 'dan', 'vesting_shares': {'amount': 570531111.463385}},\n",
      " {'name': 'lafona-miner', 'vesting_shares': {'amount': 529070879.841906}},\n",
      " {'name': 'arsahk', 'vesting_shares': {'amount': 527728440.803427}},\n",
      " {'name': 'newsflash', 'vesting_shares': {'amount': 502243245.82727}},\n",
      " {'name': 'fminerten', 'vesting_shares': {'amount': 501308314.127823}},\n",
      " {'name': 'neoxian', 'vesting_shares': {'amount': 500858160.187364}},\n",
      " {'name': 'bhuz', 'vesting_shares': {'amount': 496874738.499231}},\n",
      " {'name': 'thecyclist', 'vesting_shares': {'amount': 495196258.229233}},\n",
      " {'name': 'trevonjb', 'vesting_shares': {'amount': 490004354.77295}},\n",
      " {'name': 'creator', 'vesting_shares': {'amount': 476774626.926905}},\n",
      " {'name': 'czechglobalhosts', 'vesting_shares': {'amount': 453542876.700221}},\n",
      " {'name': 'ramta', 'vesting_shares': {'amount': 451840961.095189}},\n",
      " {'name': 'imadev', 'vesting_shares': {'amount': 445256469.401562}},\n",
      " {'name': 'roelandp', 'vesting_shares': {'amount': 433678303.134573}},\n",
      " {'name': 'damarth', 'vesting_shares': {'amount': 432226951.036988}},\n",
      " {'name': 'hr1', 'vesting_shares': {'amount': 422355147.85433}},\n",
      " {'name': 'davidding', 'vesting_shares': {'amount': 414003605.758246}},\n",
      " {'name': 'virus707', 'vesting_shares': {'amount': 412335662.700278}},\n",
      " {'name': 'newhope', 'vesting_shares': {'amount': 412160978.663641}},\n",
      " {'name': 'gtg', 'vesting_shares': {'amount': 411489506.732878}},\n",
      " {'name': 'skan', 'vesting_shares': {'amount': 388810507.997702}},\n",
      " {'name': 'abdullar', 'vesting_shares': {'amount': 386384818.506917}},\n",
      " {'name': 'kevinwong', 'vesting_shares': {'amount': 382619111.48287}},\n",
      " {'name': 'snowflake', 'vesting_shares': {'amount': 372422187.161081}}]\n"
     ]
    }
   ],
   "source": [
    "print('Accounts: {}\\n'.format(len(queryList)))\n",
    "\n",
    "pprint(queryList[:78])"
   ]
  },
  {
   "cell_type": "markdown",
   "metadata": {},
   "source": [
    "There, _that's_ convenient. All the accounts we expected to find, right there ...\n",
    "\n",
    "Of course, I had to screw it up a few times, first. You can't do a sort on the data _until_ you have all the data, not just the first 78 accounts to come off the pile. Kind of a big deal that. All pretty now, so far as it goes.\n",
    "\n",
    "Dare we go balls out and see if anything looks different if we _don't_ filter for our date key?"
   ]
  },
  {
   "cell_type": "code",
   "execution_count": 304,
   "metadata": {
    "scrolled": true
   },
   "outputs": [
    {
     "name": "stdout",
     "output_type": "stream",
     "text": [
      "Accounts: 765383\n",
      "\n",
      "[{'name': 'steemit', 'vesting_shares': {'amount': 90039851836.6897}},\n",
      " {'name': 'misterdelegation', 'vesting_shares': {'amount': 33854469950.665653}},\n",
      " {'name': 'steem', 'vesting_shares': {'amount': 21249773925.079193}},\n",
      " {'name': 'freedom', 'vesting_shares': {'amount': 15607962233.428}},\n",
      " {'name': 'blocktrades', 'vesting_shares': {'amount': 9496005213.584002}},\n",
      " {'name': 'ned', 'vesting_shares': {'amount': 7344140982.676874}},\n",
      " {'name': 'mottler', 'vesting_shares': {'amount': 4617011297.0}},\n",
      " {'name': 'databass', 'vesting_shares': {'amount': 3500010180.297931}},\n",
      " {'name': 'hendrikdegrote', 'vesting_shares': {'amount': 3298001762.871842}},\n",
      " {'name': 'jamesc', 'vesting_shares': {'amount': 3199868835.022211}},\n",
      " {'name': 'michael-b', 'vesting_shares': {'amount': 3084198458.874888}},\n",
      " {'name': 'val-b', 'vesting_shares': {'amount': 3058661749.06894}},\n",
      " {'name': 'proskynneo', 'vesting_shares': {'amount': 3021109391.032705}},\n",
      " {'name': 'val-a', 'vesting_shares': {'amount': 2895251778.87689}},\n",
      " {'name': 'ranchorelaxo', 'vesting_shares': {'amount': 2673733493.513266}},\n",
      " {'name': 'thejohalfiles', 'vesting_shares': {'amount': 2633775823.387832}},\n",
      " {'name': 'minority-report', 'vesting_shares': {'amount': 2169258956.047093}},\n",
      " {'name': 'xeldal', 'vesting_shares': {'amount': 2046644131.328833}},\n",
      " {'name': 'roadscape', 'vesting_shares': {'amount': 1959600356.285733}},\n",
      " {'name': 'jamesc1', 'vesting_shares': {'amount': 1644781210.539062}},\n",
      " {'name': 'arhag', 'vesting_shares': {'amount': 1605237829.023531}},\n",
      " {'name': 'fyrstikken', 'vesting_shares': {'amount': 1548949904.44616}},\n",
      " {'name': 'adm', 'vesting_shares': {'amount': 1524486923.142378}},\n",
      " {'name': 'safari', 'vesting_shares': {'amount': 1500015009.426551}},\n",
      " {'name': 'riverhead', 'vesting_shares': {'amount': 1494178696.187778}},\n",
      " {'name': 'adsactly', 'vesting_shares': {'amount': 1334951123.54692}},\n",
      " {'name': 'trafalgar', 'vesting_shares': {'amount': 1330038590.82164}},\n",
      " {'name': 'batel', 'vesting_shares': {'amount': 1310388186.0}},\n",
      " {'name': 'created', 'vesting_shares': {'amount': 1247305568.029396}},\n",
      " {'name': 'tombstone', 'vesting_shares': {'amount': 1210362781.831355}},\n",
      " {'name': 'smooth-a', 'vesting_shares': {'amount': 1205013219.592872}},\n",
      " {'name': 'wackou', 'vesting_shares': {'amount': 1114086419.056089}},\n",
      " {'name': 'bob', 'vesting_shares': {'amount': 1077657897.0}},\n",
      " {'name': 'glitterfart', 'vesting_shares': {'amount': 1062363158.72496}},\n",
      " {'name': 'steemed', 'vesting_shares': {'amount': 1051657094.72923}},\n",
      " {'name': 'jaewoocho', 'vesting_shares': {'amount': 999807983.157001}},\n",
      " {'name': 'alice', 'vesting_shares': {'amount': 954075907.197174}},\n",
      " {'name': 'engagement', 'vesting_shares': {'amount': 936760723.508883}},\n",
      " {'name': 'livingfree', 'vesting_shares': {'amount': 892682798.947933}},\n",
      " {'name': 'recursive', 'vesting_shares': {'amount': 881978388.39816}},\n",
      " {'name': 'smooth', 'vesting_shares': {'amount': 872944505.994046}},\n",
      " {'name': 'bitcube', 'vesting_shares': {'amount': 857132923.66697}},\n",
      " {'name': 'goku1', 'vesting_shares': {'amount': 855564782.349634}},\n",
      " {'name': 'yoo1900', 'vesting_shares': {'amount': 820024777.397777}},\n",
      " {'name': 'slowwalker', 'vesting_shares': {'amount': 814870862.346184}},\n",
      " {'name': 'ben', 'vesting_shares': {'amount': 785673736.674163}},\n",
      " {'name': 'pharesim', 'vesting_shares': {'amount': 772191908.833058}},\n",
      " {'name': 'fulltimegeek', 'vesting_shares': {'amount': 751540385.975086}},\n",
      " {'name': 'witness.svk', 'vesting_shares': {'amount': 742537008.031217}},\n",
      " {'name': 'donkeypong', 'vesting_shares': {'amount': 725952873.24769}},\n",
      " {'name': 'gavvet', 'vesting_shares': {'amount': 722929613.896795}},\n",
      " {'name': 'alvaro', 'vesting_shares': {'amount': 696470304.0}},\n",
      " {'name': 'xaero1', 'vesting_shares': {'amount': 684089439.968211}},\n",
      " {'name': 'grumpycat', 'vesting_shares': {'amount': 671119464.205808}},\n",
      " {'name': 'eeqj', 'vesting_shares': {'amount': 649020354.62877}},\n",
      " {'name': 'transisto', 'vesting_shares': {'amount': 637944561.30265}},\n",
      " {'name': 'michael-a', 'vesting_shares': {'amount': 626817548.506146}},\n",
      " {'name': 'fuzzyvest', 'vesting_shares': {'amount': 626266681.537907}},\n",
      " {'name': 'eeks', 'vesting_shares': {'amount': 616185095.729982}},\n",
      " {'name': 'systema', 'vesting_shares': {'amount': 615917285.895589}},\n",
      " {'name': 'honeybeee', 'vesting_shares': {'amount': 610435961.566472}},\n",
      " {'name': 'bramd', 'vesting_shares': {'amount': 594999767.618339}},\n",
      " {'name': 'dan', 'vesting_shares': {'amount': 570531111.463385}},\n",
      " {'name': 'lafona-miner', 'vesting_shares': {'amount': 529070879.841906}},\n",
      " {'name': 'arsahk', 'vesting_shares': {'amount': 527728440.803427}},\n",
      " {'name': 'newsflash', 'vesting_shares': {'amount': 502243245.82727}},\n",
      " {'name': 'fminerten', 'vesting_shares': {'amount': 501308314.127823}},\n",
      " {'name': 'neoxian', 'vesting_shares': {'amount': 500858160.187364}},\n",
      " {'name': 'bhuz', 'vesting_shares': {'amount': 496874738.499231}},\n",
      " {'name': 'thecyclist', 'vesting_shares': {'amount': 495196258.229233}},\n",
      " {'name': 'trevonjb', 'vesting_shares': {'amount': 490004354.77295}},\n",
      " {'name': 'creator', 'vesting_shares': {'amount': 476774626.926905}},\n",
      " {'name': 'czechglobalhosts', 'vesting_shares': {'amount': 453542876.700221}},\n",
      " {'name': 'ramta', 'vesting_shares': {'amount': 451840961.095189}},\n",
      " {'name': 'imadev', 'vesting_shares': {'amount': 445256469.401562}},\n",
      " {'name': 'roelandp', 'vesting_shares': {'amount': 433678303.134573}},\n",
      " {'name': 'damarth', 'vesting_shares': {'amount': 432226951.036988}},\n",
      " {'name': 'hr1', 'vesting_shares': {'amount': 422355147.85433}}]\n"
     ]
    }
   ],
   "source": [
    "db = SteemData()\n",
    "\n",
    "queryBig = db.Accounts.find({},\n",
    "                         projection={'name': 1,\n",
    "                                     'vesting_shares.amount': 1,\n",
    "                                     '_id': 0}\n",
    "                         )\n",
    "\n",
    "\n",
    "def vestingAmount(queryEntry):\n",
    "    return queryEntry['vesting_shares']['amount']\n",
    "\n",
    "\n",
    "def sortQuery(queryList):\n",
    "    return sorted(queryList, key=vestingAmount, reverse=1)\n",
    "\n",
    "\n",
    "# We'll just go ahead and pull the list and sort it sumultaneously.\n",
    "queryBigList = sortQuery(list(queryBig))\n",
    "\n",
    "print('Accounts: {}\\n'.format(len(queryBigList)))\n",
    "\n",
    "pprint(queryBigList[:78])"
   ]
  },
  {
   "cell_type": "markdown",
   "metadata": {},
   "source": [
    "But are they _different?_\n"
   ]
  },
  {
   "cell_type": "code",
   "execution_count": 305,
   "metadata": {},
   "outputs": [
    {
     "data": {
      "text/plain": [
       "['davidding',\n",
       " 'virus707',\n",
       " 'newhope',\n",
       " 'gtg',\n",
       " 'skan',\n",
       " 'abdullar',\n",
       " 'kevinwong',\n",
       " 'snowflake',\n",
       " 'mottler',\n",
       " 'ranchorelaxo',\n",
       " 'batel',\n",
       " 'smooth-a',\n",
       " 'bob',\n",
       " 'alice',\n",
       " 'yoo1900',\n",
       " 'alvaro']"
      ]
     },
     "execution_count": 305,
     "metadata": {},
     "output_type": "execute_result"
    }
   ],
   "source": [
    "# Let's explicitly _only_ compare on the names in either list. The \n",
    "#    actual numbers might change between subsequent runs.\n",
    "\n",
    "def makeNameList(qList):\n",
    "    initList=[]\n",
    "    \n",
    "    for e in qList:\n",
    "        initList.append(e['name'])\n",
    "    return initList\n",
    "\n",
    "\n",
    "queryNames = makeNameList(queryList)\n",
    "\n",
    "queryBigNames = makeNameList(queryBigList)\n",
    "\n",
    "def Diff(li1, li2):\n",
    "    li_dif = [i for i in li1 + li2 if i not in li1 or i not in li2]\n",
    "    return li_dif\n",
    "\n",
    "Diff(queryNames[:78], queryBigNames[:78])"
   ]
  },
  {
   "cell_type": "markdown",
   "metadata": {},
   "source": [
    "Apparently they are!\n",
    "\n",
    "It's kind of interesting that @ranchorelaxo is in the differentiated list. That makes me wonder if my original analysis was simply _too optimistic._\n",
    "\n",
    "Easy enough to rerun that setup, though. Let's grab some additional code and see what happens.\n",
    "\n",
    "First, we'll just grab all the helper functions."
   ]
  },
  {
   "cell_type": "code",
   "execution_count": 306,
   "metadata": {},
   "outputs": [],
   "source": [
    "def query2tup(idx, queryEntry):\n",
    "    return (idx, queryEntry['name'], vestingAmount(queryEntry))\n",
    "\n",
    "\n",
    "def queryList2queryTupList(queryList):\n",
    "    idx = 0\n",
    "    outList = []\n",
    "    for e in queryList:\n",
    "        outList.append(query2tup(idx, e))\n",
    "        idx += 1\n",
    "    return outList\n",
    "\n",
    "\n",
    "def query2csl(queryEntry):\n",
    "    return \"{}, {}\".format(queryEntry['name'],\n",
    "                           queryEntry['vesting_shares']['amount'])\n",
    "\n",
    "\n",
    "def outputCSL(qryList):\n",
    "    cnt = 0\n",
    "    with open('accountRanked.CSV', 'w') as outFile:\n",
    "        outFile.write(\"Index, Name, Vests\\n\")\n",
    "        for lne in qryList:\n",
    "            outFile.write(\"{}, {}\\n\".format(cnt,\n",
    "                                            query2csl(lne)))\n",
    "            cnt += 1\n",
    "    print('Total lines written: {}\\n'.format(cnt))\n",
    "\n",
    "\n",
    "def computeMidbreak(tupQueryList):\n",
    "    totVests = sum([e[2] for e in tupQueryList])\n",
    "    halfVests = totVests / 2\n",
    "    print('Total vests: {}, half vests: {}\\n'.format(totVests,\n",
    "                                                     halfVests))\n",
    "\n",
    "    accumVests = 0\n",
    "\n",
    "    for e in tupQueryList:\n",
    "        accumVests += e[2]\n",
    "        if accumVests > halfVests:\n",
    "            print('Rank {} - {} reaches {} of {}!\\n'.format(e[0],\n",
    "                                                            e[1],\n",
    "                                                            accumVests,\n",
    "                                                            halfVests))\n",
    "            break\n",
    "        else:\n",
    "            if (e[0] % 5000) == 0:\n",
    "                print('Accum rank {} - {}, {} of {}\\n'.format(e[0],\n",
    "                                                              e[1],\n",
    "                                                              accumVests,\n",
    "                                                              halfVests))\n"
   ]
  },
  {
   "cell_type": "markdown",
   "metadata": {},
   "source": [
    "Then we just reconstruct the tuple map to speed up things on the big map and write it out to disk."
   ]
  },
  {
   "cell_type": "code",
   "execution_count": 307,
   "metadata": {},
   "outputs": [
    {
     "name": "stdout",
     "output_type": "stream",
     "text": [
      "[(0, 'steemit', 90039851836.6897),\n",
      " (1, 'misterdelegation', 33854469950.665653),\n",
      " (2, 'steem', 21249773925.079193),\n",
      " (3, 'freedom', 15607962233.428),\n",
      " (4, 'blocktrades', 9496005213.584002),\n",
      " (5, 'ned', 7344140982.676874),\n",
      " (6, 'mottler', 4617011297.0),\n",
      " (7, 'databass', 3500010180.297931),\n",
      " (8, 'hendrikdegrote', 3298001762.871842),\n",
      " (9, 'jamesc', 3199868835.022211),\n",
      " (10, 'michael-b', 3084198458.874888),\n",
      " (11, 'val-b', 3058661749.06894),\n",
      " (12, 'proskynneo', 3021109391.032705),\n",
      " (13, 'val-a', 2895251778.87689),\n",
      " (14, 'ranchorelaxo', 2673733493.513266),\n",
      " (15, 'thejohalfiles', 2633775823.387832),\n",
      " (16, 'minority-report', 2169258956.047093),\n",
      " (17, 'xeldal', 2046644131.328833),\n",
      " (18, 'roadscape', 1959600356.285733),\n",
      " (19, 'jamesc1', 1644781210.539062),\n",
      " (20, 'arhag', 1605237829.023531),\n",
      " (21, 'fyrstikken', 1548949904.44616),\n",
      " (22, 'adm', 1524486923.142378),\n",
      " (23, 'safari', 1500015009.426551),\n",
      " (24, 'riverhead', 1494178696.187778),\n",
      " (25, 'adsactly', 1334951123.54692),\n",
      " (26, 'trafalgar', 1330038590.82164),\n",
      " (27, 'batel', 1310388186.0),\n",
      " (28, 'created', 1247305568.029396),\n",
      " (29, 'tombstone', 1210362781.831355)]\n"
     ]
    }
   ],
   "source": [
    "qBigTup = queryList2queryTupList(queryBigList)\n",
    "\n",
    "pprint(qBigTup[:30])"
   ]
  },
  {
   "cell_type": "markdown",
   "metadata": {},
   "source": [
    "Looks good! Out to disk."
   ]
  },
  {
   "cell_type": "code",
   "execution_count": 308,
   "metadata": {},
   "outputs": [
    {
     "name": "stdout",
     "output_type": "stream",
     "text": [
      "Total lines written: 765383\n",
      "\n"
     ]
    }
   ],
   "source": [
    "outputCSL(queryBigList)"
   ]
  },
  {
   "cell_type": "markdown",
   "metadata": {},
   "source": [
    "Now, we could just run our naked analysis to double-check that things are as we suspected."
   ]
  },
  {
   "cell_type": "code",
   "execution_count": 309,
   "metadata": {},
   "outputs": [
    {
     "name": "stdout",
     "output_type": "stream",
     "text": [
      "Total vests: 379032157821.6713, half vests: 189516078910.83566\n",
      "\n",
      "Accum rank 0 - steemit, 90039851836.6897 of 189516078910.83566\n",
      "\n",
      "Rank 9 - jamesc reaches 192207096217.31546 of 189516078910.83566!\n",
      "\n"
     ]
    }
   ],
   "source": [
    "computeMidbreak(qBigTup)"
   ]
  },
  {
   "cell_type": "markdown",
   "metadata": {},
   "source": [
    "That is actually significantly different than expected! Completely untrimmed, with the big corporate accounts still sitting in the pile, without any kind of filtering for account activity, the number of accounts at the top with equal amounts of SP for those at the bottom moves down to rank nine.\n",
    "\n",
    "Let's see what happens when we do a basic decapitation."
   ]
  },
  {
   "cell_type": "code",
   "execution_count": 310,
   "metadata": {},
   "outputs": [
    {
     "name": "stdout",
     "output_type": "stream",
     "text": [
      "Total vests: 218280099875.7508, half vests: 109140049937.8754\n",
      "\n",
      "Rank 89 - freeyourmind reaches 109146400926.60837 of 109140049937.8754!\n",
      "\n"
     ]
    }
   ],
   "source": [
    "computeMidbreak(qBigTup[4:])"
   ]
  },
  {
   "cell_type": "markdown",
   "metadata": {},
   "source": [
    "Without filtering looking for accounts which have been relatively recently active and just haven't been SP pools from the early days which haven't been touched, the 50% mark moves down to rank 90 from rank 73.\n",
    "\n",
    "That's not really a huge improvement, truth be told. Instead, what we have is a pretty massive amount of SP which is just sitting around, not doing anything, in accounts which haven't been active for a very, very long time.\n",
    "\n",
    "Remember my reference to @ranchorelaxo? [You do remember what fun he's been involved in most recently, right?](https://steemit.com/steemit/@themarkymark/the-future-of-steemit)\n",
    "\n",
    "> At the time, the site the image was screenshotted had a bug that showed @haejin receiving 6.7% of the reward pool. It was later found this was a bug, and the owner of the site patched it. As you can see it reports over 2,700% of the reward pool which is not even possible.\n",
    ">\n",
    "> I provided an updated screenshot and some charts showing one user @ranchorelaxo voting for the majority of the post value.\n",
    "\n",
    "That wasn't the opening salvo of the Whale Wars, but it was one of the flareups and the ongoing skirmishes. Fallout continues to be widespread.\n",
    "\n",
    "Note that this is one of the accounts which is different between my filter versions."
   ]
  },
  {
   "cell_type": "markdown",
   "metadata": {},
   "source": [
    "Time to rerun the graphs?"
   ]
  },
  {
   "cell_type": "code",
   "execution_count": 11,
   "metadata": {},
   "outputs": [],
   "source": [
    "import plotly\n",
    "\n",
    "import plotly.plotly as py\n",
    "import plotly.graph_objs as go"
   ]
  },
  {
   "cell_type": "code",
   "execution_count": 12,
   "metadata": {},
   "outputs": [],
   "source": [
    "trace0 = go.Scattergl(\n",
    "                    name = 'Raw',\n",
    "                    x = [e[0] for e in qBigTup],\n",
    "                    y = [e[2] for e in qBigTup],\n",
    "                    hoverinfo = \"x+y+text\",\n",
    "                    text = [e[1] for e in qBigTup] )"
   ]
  },
  {
   "cell_type": "code",
   "execution_count": 13,
   "metadata": {},
   "outputs": [],
   "source": [
    "layout = go.Layout(\n",
    "    showlegend=True,\n",
    "    legend = {'x': 'Rank', 'y': 'Vests'},\n",
    "    title = \"Steemit Power Distribution (full, linear)\",\n",
    "    xaxis = {'showgrid': True,\n",
    "             'title': \"Rank\"},\n",
    "    yaxis = {'showgrid': True,\n",
    "             'title': \"Vests\"})\n",
    "\n",
    "layoutLog = go.Layout(\n",
    "    showlegend=True,\n",
    "    legend = {'x': 'Rank', 'y': 'Vests'},\n",
    "    title = \"Steemit Power Distribution (full, log)\",\n",
    "    xaxis = {'showgrid': True,\n",
    "             'title': \"Rank\"},\n",
    "    yaxis = {'showgrid': True,\n",
    "             'title': \"Vests\",\n",
    "             'type': 'log'})"
   ]
  },
  {
   "cell_type": "code",
   "execution_count": 14,
   "metadata": {},
   "outputs": [
    {
     "data": {
      "text/plain": [
       "{'legend': {'x': 'Rank', 'y': 'Vests'},\n",
       " 'showlegend': True,\n",
       " 'title': 'Steemit Power Distribution (full, linear)',\n",
       " 'xaxis': {'showgrid': True, 'title': 'Rank'},\n",
       " 'yaxis': {'showgrid': True, 'title': 'Vests'}}"
      ]
     },
     "execution_count": 14,
     "metadata": {},
     "output_type": "execute_result"
    }
   ],
   "source": [
    "layout"
   ]
  },
  {
   "cell_type": "code",
   "execution_count": 15,
   "metadata": {},
   "outputs": [
    {
     "data": {
      "text/plain": [
       "{'legend': {'x': 'Rank', 'y': 'Vests'},\n",
       " 'showlegend': True,\n",
       " 'title': 'Steemit Power Distribution (full, log)',\n",
       " 'xaxis': {'showgrid': True, 'title': 'Rank'},\n",
       " 'yaxis': {'showgrid': True, 'title': 'Vests', 'type': 'log'}}"
      ]
     },
     "execution_count": 15,
     "metadata": {},
     "output_type": "execute_result"
    }
   ],
   "source": [
    "layoutLog"
   ]
  },
  {
   "cell_type": "code",
   "execution_count": 16,
   "metadata": {},
   "outputs": [
    {
     "data": {
      "text/plain": [
       "'https://plot.ly/~AlexanderWilliams/4'"
      ]
     },
     "execution_count": 16,
     "metadata": {},
     "output_type": "execute_result"
    }
   ],
   "source": [
    "data = go.Data([trace0])\n",
    "\n",
    "py.plot({'data': data, \n",
    "         'layout': layout},\n",
    "        filename = 'Extended Steemit Power Curve (linear)')"
   ]
  },
  {
   "cell_type": "code",
   "execution_count": 17,
   "metadata": {},
   "outputs": [
    {
     "data": {
      "text/plain": [
       "'https://plot.ly/~AlexanderWilliams/6'"
      ]
     },
     "execution_count": 17,
     "metadata": {},
     "output_type": "execute_result"
    }
   ],
   "source": [
    "py.plot({'data': data, \n",
    "         'layout': layoutLog},\n",
    "        filename = 'Extended Steemit Power Curve (log)')"
   ]
  },
  {
   "cell_type": "markdown",
   "metadata": {},
   "source": [
    "That doesn't look different at all. (Except that with this version you can actually go and drill down into the system by dragging a box – and all you will see is that the knee is very small.)\n",
    "\n",
    "At least until we come to the logarithmically plotted version. In the unfiltered graph, you can see a strange little plateau happening between rank 65,000 and 165,000 where the rate of decline is slightly less.\n",
    "\n",
    "Figuring out what those accounts have in common that others do not might be particularly interesting.\n",
    "\n",
    "You can tell from mousing over the curve in the generated plots that there is a fair amount of differentiation between parts of the slope. A closer examination shows subtle but visible breakpoints at round numbers. For instance, a small plateau is visible between 10,000 vests and 15,000 vests, with another visible between 18,000 vests and roughly 19,000 vests.\n",
    "\n",
    "These are extremely small bands, and represent incredibly small portions of the curve at this point.\n",
    "\n",
    "If we look down at the other end, you can see stairstep effects down at roughly 1000 vests down to 500 (which is about the one steem level), another plateau at 200, another plateau at 100, and another plateau at 20. These are pretty obviously breakpoints related to various fractions of a single steem in SP."
   ]
  },
  {
   "cell_type": "markdown",
   "metadata": {},
   "source": [
    "Cool is that is, that's not what we came for! Now that we have the data, we should probably work out relationships between high-ranking accounts, if we can.\n",
    "\n",
    "(You really don't want to know how many hours I just got distracted down the rabbit hole of rerunning these numbers and getting good interactive charts. Or maybe you do! Four. Four hours.)"
   ]
  },
  {
   "cell_type": "markdown",
   "metadata": {},
   "source": [
    "Time to change toolchains!\n",
    "\n",
    "Let's start generating a list of interesting accounts. Let's say -- the top 100 accounts? That sound good?"
   ]
  },
  {
   "cell_type": "code",
   "execution_count": 314,
   "metadata": {},
   "outputs": [],
   "source": [
    "acctsInterest = [n[1] for n in qBigTup[:100]]"
   ]
  },
  {
   "cell_type": "code",
   "execution_count": 316,
   "metadata": {},
   "outputs": [],
   "source": [
    "acctsInterest.remove('blocktrades')"
   ]
  },
  {
   "cell_type": "code",
   "execution_count": 318,
   "metadata": {
    "scrolled": true
   },
   "outputs": [
    {
     "data": {
      "text/plain": [
       "['steemit',\n",
       " 'misterdelegation',\n",
       " 'steem',\n",
       " 'freedom',\n",
       " 'ned',\n",
       " 'mottler',\n",
       " 'databass',\n",
       " 'hendrikdegrote',\n",
       " 'jamesc',\n",
       " 'michael-b']"
      ]
     },
     "execution_count": 318,
     "metadata": {},
     "output_type": "execute_result"
    }
   ],
   "source": [
    "acctsInterest[:10]"
   ]
  },
  {
   "cell_type": "markdown",
   "metadata": {},
   "source": [
    "We are initialized, we have a list of interesting targets, now let's look at the data we can get about them and consider what kind of database query we want to put together."
   ]
  },
  {
   "cell_type": "markdown",
   "metadata": {},
   "source": [
    "![Imgur](https://i.imgur.com/nvz3faD.png)"
   ]
  },
  {
   "cell_type": "markdown",
   "metadata": {},
   "source": [
    "The truth is – not bloody much. It looks like we're going to have to actually query operations on the blockchain to see what kind of interactions we can figure out. Messy, but doable.\n",
    "\n",
    "Let's take a look at what those things look like. How about specifically transfers which have occurred in the last 30 days between any of the accounts in this list?"
   ]
  },
  {
   "cell_type": "code",
   "execution_count": 319,
   "metadata": {},
   "outputs": [
    {
     "data": {
      "text/plain": [
       "{'timestamp': {'$gte': datetime.datetime(2018, 1, 17, 0, 12, 6, 275328)},\n",
       " 'type': 'transfer'}"
      ]
     },
     "execution_count": 319,
     "metadata": {},
     "output_type": "execute_result"
    }
   ],
   "source": [
    "constraints = {\n",
    "    'type': 'transfer',\n",
    "    'timestamp': {'$gte': dt.now() - datetime.timedelta(days=30)},\n",
    "}\n",
    "\n",
    "constraints"
   ]
  },
  {
   "cell_type": "code",
   "execution_count": 320,
   "metadata": {},
   "outputs": [],
   "source": [
    "transDB = db.Operations.find(constraints,\n",
    "                             projection = {'from': 1, 'to': 1})\n",
    "\n",
    "transList = list(transDB)"
   ]
  },
  {
   "cell_type": "code",
   "execution_count": 321,
   "metadata": {},
   "outputs": [
    {
     "data": {
      "text/plain": [
       "1650408"
      ]
     },
     "execution_count": 321,
     "metadata": {},
     "output_type": "execute_result"
    }
   ],
   "source": [
    "len(transList)"
   ]
  },
  {
   "cell_type": "code",
   "execution_count": 322,
   "metadata": {},
   "outputs": [
    {
     "data": {
      "text/plain": [
       "[{'_id': 'abb8c8a8c58b81a261b9005748b456da30cc57e2',\n",
       "  'from': 'sajumiah',\n",
       "  'to': 'alimuddin'},\n",
       " {'_id': '1c4fc345665baf57b8517aa3adf0edd3ac8f0f4c',\n",
       "  'from': 'ksolymosi',\n",
       "  'to': 'rocky1'},\n",
       " {'_id': 'e48dfe538de184bbe2464d0384b3be09d22bbff1',\n",
       "  'from': 'rball8970',\n",
       "  'to': 'mitsuko'},\n",
       " {'_id': '05a584b548004c52f624da1dfd516fd3950c7e25',\n",
       "  'from': 'minnowbooster',\n",
       "  'to': 'hanitasteemer'},\n",
       " {'_id': '663c9b11f9359c81be5b34ba7cbf5593d9bacd59',\n",
       "  'from': 'juwel',\n",
       "  'to': 'blocktrades'},\n",
       " {'_id': 'c2f001a58f8b551b0bc95782eaad4769483e6044',\n",
       "  'from': 'alirajput',\n",
       "  'to': 'resteembot'},\n",
       " {'_id': '498c3739ced0990b4778d26220a9ad2a939d4bf3',\n",
       "  'from': 'krguidedog',\n",
       "  'to': 'hyunlee1999'},\n",
       " {'_id': '1f515588b8bc003d969c426ffd43e18b7cc1ccf0',\n",
       "  'from': 'jwbonnie',\n",
       "  'to': 'rusia'},\n",
       " {'_id': 'e5972ec87747529cabea6901d6d82b1bd9829402',\n",
       "  'from': 'kennybll',\n",
       "  'to': 'blocktrades'},\n",
       " {'_id': '23a0c85e2cf796d1fcd4a80d13dfa4b965c0e5a5',\n",
       "  'from': 'akumar',\n",
       "  'to': 'freedom'}]"
      ]
     },
     "execution_count": 322,
     "metadata": {},
     "output_type": "execute_result"
    }
   ],
   "source": [
    "transList[:10]"
   ]
  },
  {
   "cell_type": "markdown",
   "metadata": {},
   "source": [
    "1.6 million transactions is nothing to sneeze at. Though we can definitely filter these down with a little judicious data management."
   ]
  },
  {
   "cell_type": "code",
   "execution_count": 323,
   "metadata": {},
   "outputs": [],
   "source": [
    "def filtTransList(TL):\n",
    "    outTL = []\n",
    "    for e in TL:\n",
    "        if e['from'] in acctsInterest or e['to'] in acctsInterest:\n",
    "            outTL.append(e)\n",
    "    return outTL"
   ]
  },
  {
   "cell_type": "code",
   "execution_count": 324,
   "metadata": {},
   "outputs": [],
   "source": [
    "filtTL = filtTransList(transList)"
   ]
  },
  {
   "cell_type": "code",
   "execution_count": 325,
   "metadata": {},
   "outputs": [
    {
     "data": {
      "text/plain": [
       "6413"
      ]
     },
     "execution_count": 325,
     "metadata": {},
     "output_type": "execute_result"
    }
   ],
   "source": [
    "len(filtTL)"
   ]
  },
  {
   "cell_type": "markdown",
   "metadata": {},
   "source": [
    "We've cut it down by 1/3! That still ends up with 63 thousand edges, which is going to be uncomfortably large for dealing with any kind of graph.\n",
    "\n",
    "Maybe the approach here is to only take unique pairings.\n",
    "\n",
    "(PS: After removing blocktrades, it's dropped to 6400. Kee-rist.)"
   ]
  },
  {
   "cell_type": "code",
   "execution_count": 326,
   "metadata": {},
   "outputs": [],
   "source": [
    "filtTL = [ (e['from'], e['to']) for e in filtTL]"
   ]
  },
  {
   "cell_type": "code",
   "execution_count": 327,
   "metadata": {},
   "outputs": [
    {
     "data": {
      "text/plain": [
       "[('akumar', 'freedom'),\n",
       " ('akumar', 'freedom'),\n",
       " ('nayya24', 'ramta'),\n",
       " ('nayya24', 'ramta'),\n",
       " ('ghiyats', 'ramta'),\n",
       " ('minnowbooster', 'smooth-b'),\n",
       " ('julybrave', 'hr1'),\n",
       " ('miftahuddin', 'ramta'),\n",
       " ('eeqj', 'blocktrades'),\n",
       " ('boomerang', 'spmarkets')]"
      ]
     },
     "execution_count": 327,
     "metadata": {},
     "output_type": "execute_result"
    }
   ],
   "source": [
    "filtTL[:10]"
   ]
  },
  {
   "cell_type": "code",
   "execution_count": 328,
   "metadata": {},
   "outputs": [],
   "source": [
    "from more_itertools import unique_everseen"
   ]
  },
  {
   "cell_type": "code",
   "execution_count": 329,
   "metadata": {},
   "outputs": [],
   "source": [
    "uFiltTL = list(unique_everseen(filtTL))"
   ]
  },
  {
   "cell_type": "code",
   "execution_count": 330,
   "metadata": {},
   "outputs": [
    {
     "data": {
      "text/plain": [
       "2200"
      ]
     },
     "execution_count": 330,
     "metadata": {},
     "output_type": "execute_result"
    }
   ],
   "source": [
    "len(uFiltTL)"
   ]
  },
  {
   "cell_type": "markdown",
   "metadata": {},
   "source": [
    "That certainly cut down the number of elements that were dealing with. Only 20,000 edges.\n",
    "\n",
    "This might be acceptable. Or it might not. It's really hard to tell. If it turns out that we need to cut down the amount a bit, at this point it just might be utterly arbitrary.\n",
    "\n",
    "So we have a list of all the transactions that involve the accounts we're interested in. Necessarily we also have a list of all the accounts who have interacted with the ones we're interested in.\n",
    "\n",
    "Now we just need to create a list of nodes that aren't in our interest list, make nodes for all of the accounts we're interested in, and start drawing some edges.\n",
    "\n",
    "(PS: And another order of magnitude drop after removing @blocktrades. Sensible, since it's an exchange, but really ... These PS will only make sense on your second read-through. It's like time-folded narrative!)"
   ]
  },
  {
   "cell_type": "code",
   "execution_count": 331,
   "metadata": {},
   "outputs": [],
   "source": [
    "assocAccts = set()\n",
    "\n",
    "for e in uFiltTL:\n",
    "    a1, a2 = e[0], e[1]\n",
    "    if not a1 in acctsInterest:\n",
    "        assocAccts.add(a1)\n",
    "    if not a2 in acctsInterest:\n",
    "        assocAccts.add(a2)"
   ]
  },
  {
   "cell_type": "code",
   "execution_count": 332,
   "metadata": {},
   "outputs": [
    {
     "data": {
      "text/plain": [
       "1218"
      ]
     },
     "execution_count": 332,
     "metadata": {},
     "output_type": "execute_result"
    }
   ],
   "source": [
    "len(assocAccts)"
   ]
  },
  {
   "cell_type": "markdown",
   "metadata": {},
   "source": [
    "Not bad. We have 100 accounts of interest and 15k associated accounts. For operations which have involved transfers for the last 30 days.\n",
    "\n",
    "That's probably well more than enough to work with.\n",
    "\n",
    "(PS: Another order of magnitude cut. I might be able to increase the timeframe back to 90 days at this rate.)"
   ]
  },
  {
   "cell_type": "markdown",
   "metadata": {},
   "source": [
    "Let's load up the `graphviz` module and then tinker."
   ]
  },
  {
   "cell_type": "code",
   "execution_count": 333,
   "metadata": {},
   "outputs": [],
   "source": [
    "from graphviz import Digraph"
   ]
  },
  {
   "cell_type": "code",
   "execution_count": 383,
   "metadata": {},
   "outputs": [],
   "source": [
    "dot = Digraph(comment=\"Steem Relations\", \n",
    "              format=\"jpg\",\n",
    "              engine=\"sfdp\")"
   ]
  },
  {
   "cell_type": "code",
   "execution_count": 384,
   "metadata": {},
   "outputs": [],
   "source": [
    "dot.attr('graph', ratio='auto')"
   ]
  },
  {
   "cell_type": "code",
   "execution_count": 385,
   "metadata": {},
   "outputs": [],
   "source": [
    "dot.attr('graph', scale='100000,100000')"
   ]
  },
  {
   "cell_type": "code",
   "execution_count": 386,
   "metadata": {},
   "outputs": [],
   "source": [
    "dot.attr('graph', nodesep='50')"
   ]
  },
  {
   "cell_type": "code",
   "execution_count": 387,
   "metadata": {},
   "outputs": [],
   "source": [
    "dot.attr('graph', sep='+250,250')"
   ]
  },
  {
   "cell_type": "code",
   "execution_count": 388,
   "metadata": {},
   "outputs": [],
   "source": [
    "dot.attr('node', shape='square', style='filled', color='green', fillcolor='green')"
   ]
  },
  {
   "cell_type": "code",
   "execution_count": 389,
   "metadata": {},
   "outputs": [],
   "source": [
    "for a in acctsInterest:\n",
    "    dot.node(a, a)"
   ]
  },
  {
   "cell_type": "code",
   "execution_count": 390,
   "metadata": {},
   "outputs": [],
   "source": [
    "dot.attr('node', shape='oval', color='black', fillcolor='white')"
   ]
  },
  {
   "cell_type": "code",
   "execution_count": 391,
   "metadata": {},
   "outputs": [],
   "source": [
    "for a in assocAccts:\n",
    "    dot.node(a, a)"
   ]
  },
  {
   "cell_type": "code",
   "execution_count": 392,
   "metadata": {},
   "outputs": [],
   "source": [
    "for e in uFiltTL:\n",
    "    dot.edge(e[0], e[1])"
   ]
  },
  {
   "cell_type": "markdown",
   "metadata": {},
   "source": [
    "![Imgur](https://i.imgur.com/jC8XgFX.jpg)"
   ]
  },
  {
   "cell_type": "markdown",
   "metadata": {},
   "source": [
    "That may just be a little bit extreme. Considering that it is only localizing the top 100 accounts and the activity of the last 30 days, it's quite nuts.\n",
    "\n",
    "Of course, the problem is @blocktrades. Of course it's at the center of a crazy nest of activity.\n",
    "\n",
    "Let me go back and remove it, specifically, from our list of interesting targets."
   ]
  },
  {
   "cell_type": "code",
   "execution_count": 393,
   "metadata": {
    "scrolled": false
   },
   "outputs": [
    {
     "data": {
      "text/plain": [
       "'steemTransferRelationships.jpg'"
      ]
     },
     "execution_count": 393,
     "metadata": {},
     "output_type": "execute_result"
    }
   ],
   "source": [
    "dot.render('steemTransferRelationships')"
   ]
  },
  {
   "cell_type": "markdown",
   "metadata": {},
   "source": [
    "![Imgur](https://i.imgur.com/zfZ2UQT.jpg)"
   ]
  },
  {
   "cell_type": "markdown",
   "metadata": {},
   "source": [
    "https://goo.gl/7uaT68"
   ]
  },
  {
   "cell_type": "markdown",
   "metadata": {},
   "source": [
    "You're probably going to want to download that image to fully take in what you're seeing.\n",
    "\n",
    "Once blocktrades was removed, and if you color touchups were done, things became a little bit clearer. It's actually interesting to note where there are isolated nexi of transfers largely isolated from the rest of the network that was involved with the top 99.\n",
    "\n",
    "There is a very tight cluster involved with @hr1 in the southwest which is extremely dense and which has relatively little crossover, surprisingly. Where they do it appears to involve @arama and @newhope on the south side.\n",
    "\n",
    "@ramta is a big deal in the southeast, with a lot of accounts involved with transferring funds within and between each other. I'm not sure what's going on there, but it's interesting. There's a lot of give-and-take.\n",
    "\n",
    "Up in the far north, @bramd has his own little thing going on. @gtg likewise. Unlike some of the outer clusters elsewhere, they just shoot off to the side and those they interact with by trading appear to take their further exchanges somewhere farther from the top.\n",
    "\n",
    "The core areas are pretty dense with intra-group trade, which tells us pretty clearly that – at least for the last month – a lot of the activity at the top is largely incestuous. Transfers are going through a fairly tight network of accounts around and around.\n",
    "\n",
    "This is pretty interesting stuff.\n",
    "\n",
    "Hopefully someone with more talent for financial analysis will find this sort of relationship analysis and visualization interesting enough to pursue. It's not really my forte, sad to say. Thus I'm making my code and research available for anyone who'd like to come along and take their turn.\n",
    "\n",
    "Juicy incest!"
   ]
  }
 ],
 "metadata": {
  "kernelspec": {
   "display_name": "Python 3",
   "language": "python",
   "name": "python3"
  },
  "language_info": {
   "codemirror_mode": {
    "name": "ipython",
    "version": 3
   },
   "file_extension": ".py",
   "mimetype": "text/x-python",
   "name": "python",
   "nbconvert_exporter": "python",
   "pygments_lexer": "ipython3",
   "version": "3.6.4"
  }
 },
 "nbformat": 4,
 "nbformat_minor": 2
}
