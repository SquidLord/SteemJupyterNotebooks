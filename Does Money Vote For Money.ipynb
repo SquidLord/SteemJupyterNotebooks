{
 "cells": [
  {
   "cell_type": "markdown",
   "metadata": {},
   "source": [
    "# [Analysis] Does Money Vote For Money?\n",
    "\n",
    "*A billion here, a billion there; pretty soon you're talking about real money.*\n",
    "\n",
    "During one of the discussions about the architecture and distribution of Reputation on the platform, @abh12345 said:\n",
    "\n",
    "> [However, I would be keen on a Vested Steem Power analysis of voting - does money vote for money?](— https://steemit.com/utopian-io/@abh12345/steemit-steem-reputation-voting-analysis#@abh12345/re-lextenebris-re-abh12345-steemit-steem-reputation-voting-analysis-20180306t185234133z)\n",
    "\n",
    "— https://steemit.com/utopian-io/@abh12345/steemit-steem-reputation-voting-analysis#@abh12345/re-lextenebris-re-abh12345-steemit-steem-reputation-voting-analysis-20180306t185234133z"
   ]
  },
  {
   "cell_type": "markdown",
   "metadata": {},
   "source": [
    "... Which _is_ a really good question, as far as it goes, and I'm thinking its one that deserves a little poking at."
   ]
  },
  {
   "cell_type": "markdown",
   "metadata": {},
   "source": [
    "## Terms and Conditions\n",
    "\n",
    "We have to start looking into this by defining more of what we're talking about. Is it just the general issue of do accounts with extremely high SP tended to restrict their votes to other accounts of extremely high SP? [I've already done the analysis for something like that,](https://steemit.com/steem/@lextenebris/steem-visualizing-vote-histories-on-the-blockchain) and the answer was, surprisingly, most of the votes occurring from the top 200 were going out of the network, and not into it.\n",
    "\n",
    "But that says nothing about Reputation, which is an entirely orthogonal measure of account value. Accounts with high Reputation must have, for a considerable amount of time and at considerable effort, been outvoted by accounts with even higher Reputation.\n",
    "\n",
    "I don't really understand what Reputation even looks like on the platform, so that's the place to start."
   ]
  },
  {
   "cell_type": "markdown",
   "metadata": {},
   "source": [
    "## Building Your Rep"
   ]
  },
  {
   "cell_type": "code",
   "execution_count": 87,
   "metadata": {},
   "outputs": [],
   "source": [
    "# Setting up the imports for our basic query tools\n",
    "\n",
    "from pprint import pprint\n",
    "\n",
    "from steemdata import SteemData\n",
    "import datetime\n",
    "from datetime import datetime as dt\n",
    "\n",
    "import math\n",
    "\n",
    "import pandas as pd\n",
    "\n",
    "import bokeh\n",
    "import bokeh.plotting as bplt"
   ]
  },
  {
   "cell_type": "code",
   "execution_count": 88,
   "metadata": {},
   "outputs": [],
   "source": [
    "# Init connection to database\n",
    "\n",
    "db = SteemData()"
   ]
  },
  {
   "cell_type": "code",
   "execution_count": 89,
   "metadata": {},
   "outputs": [],
   "source": [
    "# Just a list of all accounts with Rep over 30\n",
    "\n",
    "query = {'reputation': {'$gte': 30}}\n",
    "\n",
    "proj = {'name': 1,\n",
    "        'reputation': 1,\n",
    "        '_id': 0}"
   ]
  },
  {
   "cell_type": "code",
   "execution_count": 90,
   "metadata": {},
   "outputs": [
    {
     "name": "stdout",
     "output_type": "stream",
     "text": [
      "Wall time: 103 ms\n"
     ]
    }
   ],
   "source": [
    "%%time\n",
    "\n",
    "result = list(db.Accounts.find(query,\n",
    "                               projection=proj,\n",
    "                               sort=[],\n",
    "                               limit=10))"
   ]
  },
  {
   "cell_type": "code",
   "execution_count": 91,
   "metadata": {},
   "outputs": [
    {
     "data": {
      "text/plain": [
       "10"
      ]
     },
     "execution_count": 91,
     "metadata": {},
     "output_type": "execute_result"
    }
   ],
   "source": [
    "len(result)\n"
   ]
  },
  {
   "cell_type": "markdown",
   "metadata": {},
   "source": [
    "That seems a legitimate kind of number. Let's look inside."
   ]
  },
  {
   "cell_type": "code",
   "execution_count": 92,
   "metadata": {},
   "outputs": [
    {
     "data": {
      "text/plain": [
       "[{'name': 'a-acehsteem', 'reputation': 1567944952},\n",
       " {'name': 'a-aka-assassin', 'reputation': 1174954542},\n",
       " {'name': 'a-ayman', 'reputation': 114463809},\n",
       " {'name': 'a-b', 'reputation': 1998284910},\n",
       " {'name': 'a-dars', 'reputation': 17769912}]"
      ]
     },
     "execution_count": 92,
     "metadata": {},
     "output_type": "execute_result"
    }
   ],
   "source": [
    "result[:5]"
   ]
  },
  {
   "cell_type": "markdown",
   "metadata": {},
   "source": [
    "Reputation is stored as a big, big number. Which may not be what we're looking for. Let's dig around and see if someone else is calculated how to derive the displayed Reputation number rather than the raw value."
   ]
  },
  {
   "cell_type": "markdown",
   "metadata": {},
   "source": [
    "[*How reputation scores are calculated - the details explained with simple math*](https://steemit.com/steemit/@digitalnotvir/how-reputation-scores-are-calculated-the-details-explained-with-simple-math)"
   ]
  },
  {
   "cell_type": "markdown",
   "metadata": {},
   "source": [
    "Lucky for us it's simple, I suppose. Effectively you throw it on a log 10 curve, fiddle around so that the bottom end is squashed a bit and moved up to 25, and generally mischief managed.\n",
    "\n",
    "Let's write a function to do that, because that's the sensible thing."
   ]
  },
  {
   "cell_type": "code",
   "execution_count": 93,
   "metadata": {},
   "outputs": [],
   "source": [
    "# Complete rewrite of the func because, well, you'll read down below.\n",
    "#   See https://github.com/steemit/condenser/blob/ff705f7a413c64e513ecb7f1f6f66fee793a28c7/src/app/utils/ParsersAndFormatters.js\n",
    "\n",
    "def steemBullshitLog10(Str):\n",
    "    \n",
    "    # Not in the original code, just better.\n",
    "    if Str == '0':\n",
    "        return 0\n",
    "    \n",
    "    leadingDigits = int(Str[:4])\n",
    "    pad = len(Str) - 1\n",
    "    \n",
    "    # This is not a perfect replication; the JS library has a constant for log[10]\n",
    "    \n",
    "    strLog = math.log(leadingDigits) / math.log(10)\n",
    "    \n",
    "    return pad + (strLog - int(strLog))\n",
    "\n",
    "\n",
    "def steemBullshitRep2Rep(RawI):\n",
    "    RepS = str(RawI)\n",
    "    \n",
    "    IsRepNeg = RawI < 0\n",
    "    \n",
    "    if IsRepNeg:\n",
    "        RepS = RepS[1:]\n",
    "        \n",
    "    RepI = steemBullshitLog10(RepS)\n",
    "        \n",
    "    RepI = max(RepI - 9, 0)\n",
    "    \n",
    "    if IsRepNeg:\n",
    "        RepI *= -1\n",
    "    \n",
    "    RepI = (RepI * 9) + 25\n",
    "    \n",
    "    return RepI"
   ]
  },
  {
   "cell_type": "code",
   "execution_count": 94,
   "metadata": {},
   "outputs": [],
   "source": [
    "# And now, let's write it the way it _should_ be written\n",
    "#   given stated intent in the comments\n",
    "\n",
    "def rep2Rep(RawI):\n",
    "    if RawI:\n",
    "        if RawI > 0:\n",
    "            return  int(max((math.log( RawI, 10) - 9), 0) * 9) + 25\n",
    "        else:\n",
    "            return -int(max((math.log(-RawI, 10) - 9), 0) * 9) + 25\n",
    "    else:\n",
    "        # Because we arbitrarily center at 25\n",
    "        return 25"
   ]
  },
  {
   "cell_type": "code",
   "execution_count": 95,
   "metadata": {},
   "outputs": [
    {
     "data": {
      "text/plain": [
       "26"
      ]
     },
     "execution_count": 95,
     "metadata": {},
     "output_type": "execute_result"
    }
   ],
   "source": [
    "rep2Rep(result[0]['reputation'])"
   ]
  },
  {
   "cell_type": "markdown",
   "metadata": {},
   "source": [
    "This appears to work well enough for us. It does mean that we can't really query accounts for which ones have a minimum Reputation, not without doing some reverse engineering to find out what number would actually map to 30.\n",
    "\n",
    "Maybe that would be worth doing."
   ]
  },
  {
   "cell_type": "markdown",
   "metadata": {},
   "source": [
    "[![Imgur](https://i.imgur.com/AfVsNrq.png?1)](https://goo.gl/JfM6vr)"
   ]
  },
  {
   "cell_type": "markdown",
   "metadata": {},
   "source": [
    "Sometimes you go with what will get you the fastest answer, and when I need to do some sort of weird salt for a missing variable problem – I go to Wolfram Alpha.\n",
    "\n",
    "(I know, I know – there are plenty of tools that I could've used straight in Python but they would've all taken more time to set up than simply going to webpage. (I know, I know – there are plenty of tools that I could've used straight in Python but they would've all taken more time to set up than simply going to webpage. Also, this function as given to Wolfram Alpha isn't strictly correct. There is a weird bit regarding the absolute value of the Reputation as stored when it is a negative number that I didn't put in – but which has retroactively been worked into `rep2Rep`. See all the advantages you get when you read these things when they're done and not while I'm writing them?))\n",
    "\n",
    "Still, this tells us the amount of in-database Reputation that will equate to a minimum level for figuring out who is at least Reputation 30.\n",
    "\n",
    "Let's plug that back in."
   ]
  },
  {
   "cell_type": "code",
   "execution_count": 96,
   "metadata": {},
   "outputs": [],
   "source": [
    "# Init connection to database\n",
    "\n",
    "db = SteemData()"
   ]
  },
  {
   "cell_type": "code",
   "execution_count": 97,
   "metadata": {},
   "outputs": [],
   "source": [
    "minRep = int(3.593813663804627302188167229038422636504 * 10**9)"
   ]
  },
  {
   "cell_type": "code",
   "execution_count": 98,
   "metadata": {},
   "outputs": [
    {
     "data": {
      "text/plain": [
       "3593813663"
      ]
     },
     "execution_count": 98,
     "metadata": {},
     "output_type": "execute_result"
    }
   ],
   "source": [
    "minRep"
   ]
  },
  {
   "cell_type": "code",
   "execution_count": 99,
   "metadata": {},
   "outputs": [],
   "source": [
    "# Just a list of all accounts\n",
    "\n",
    "query = {}\n",
    "\n",
    "proj = {'name': 1,\n",
    "        'reputation': 1,\n",
    "        '_id': 0}"
   ]
  },
  {
   "cell_type": "code",
   "execution_count": 100,
   "metadata": {},
   "outputs": [
    {
     "name": "stdout",
     "output_type": "stream",
     "text": [
      "Wall time: 12.8 s\n"
     ]
    }
   ],
   "source": [
    "%%time\n",
    "\n",
    "result = list(db.Accounts.find(query,\n",
    "                               projection=proj,\n",
    "                               sort=[]))"
   ]
  },
  {
   "cell_type": "code",
   "execution_count": 101,
   "metadata": {},
   "outputs": [
    {
     "data": {
      "text/plain": [
       "788516"
      ]
     },
     "execution_count": 101,
     "metadata": {},
     "output_type": "execute_result"
    }
   ],
   "source": [
    "len(result)\n"
   ]
  },
  {
   "cell_type": "code",
   "execution_count": 102,
   "metadata": {},
   "outputs": [],
   "source": [
    "repCalc = [rep2Rep(int(e['reputation'])) for e in result]"
   ]
  },
  {
   "cell_type": "code",
   "execution_count": 103,
   "metadata": {},
   "outputs": [
    {
     "data": {
      "text/plain": [
       "788516"
      ]
     },
     "execution_count": 103,
     "metadata": {},
     "output_type": "execute_result"
    }
   ],
   "source": [
    "len(repCalc)"
   ]
  },
  {
   "cell_type": "code",
   "execution_count": 104,
   "metadata": {},
   "outputs": [],
   "source": [
    "Data = pd.DataFrame({'name': [e['name'] for e in result],\n",
    "                     'rep': [int(e['reputation']) for e in result],\n",
    "                     'calcRep': [e for e in repCalc]\n",
    "                    })"
   ]
  },
  {
   "cell_type": "code",
   "execution_count": 105,
   "metadata": {},
   "outputs": [
    {
     "data": {
      "text/html": [
       "<div>\n",
       "<style scoped>\n",
       "    .dataframe tbody tr th:only-of-type {\n",
       "        vertical-align: middle;\n",
       "    }\n",
       "\n",
       "    .dataframe tbody tr th {\n",
       "        vertical-align: top;\n",
       "    }\n",
       "\n",
       "    .dataframe thead th {\n",
       "        text-align: right;\n",
       "    }\n",
       "</style>\n",
       "<table border=\"1\" class=\"dataframe\">\n",
       "  <thead>\n",
       "    <tr style=\"text-align: right;\">\n",
       "      <th></th>\n",
       "      <th>calcRep</th>\n",
       "      <th>name</th>\n",
       "      <th>rep</th>\n",
       "    </tr>\n",
       "  </thead>\n",
       "  <tbody>\n",
       "    <tr>\n",
       "      <th>513965</th>\n",
       "      <td>78</td>\n",
       "      <td>steemsports</td>\n",
       "      <td>913296035791209</td>\n",
       "    </tr>\n",
       "    <tr>\n",
       "      <th>293626</th>\n",
       "      <td>77</td>\n",
       "      <td>knozaki2015</td>\n",
       "      <td>746658070499557</td>\n",
       "    </tr>\n",
       "    <tr>\n",
       "      <th>410136</th>\n",
       "      <td>77</td>\n",
       "      <td>papa-pepper</td>\n",
       "      <td>682990070870322</td>\n",
       "    </tr>\n",
       "  </tbody>\n",
       "</table>\n",
       "</div>"
      ],
      "text/plain": [
       "        calcRep         name              rep\n",
       "513965       78  steemsports  913296035791209\n",
       "293626       77  knozaki2015  746658070499557\n",
       "410136       77  papa-pepper  682990070870322"
      ]
     },
     "execution_count": 105,
     "metadata": {},
     "output_type": "execute_result"
    }
   ],
   "source": [
    "Data.sort_values('rep', ascending=False).head(3)"
   ]
  },
  {
   "cell_type": "code",
   "execution_count": 106,
   "metadata": {},
   "outputs": [
    {
     "data": {
      "text/html": [
       "<div>\n",
       "<style scoped>\n",
       "    .dataframe tbody tr th:only-of-type {\n",
       "        vertical-align: middle;\n",
       "    }\n",
       "\n",
       "    .dataframe tbody tr th {\n",
       "        vertical-align: top;\n",
       "    }\n",
       "\n",
       "    .dataframe thead th {\n",
       "        text-align: right;\n",
       "    }\n",
       "</style>\n",
       "<table border=\"1\" class=\"dataframe\">\n",
       "  <thead>\n",
       "    <tr style=\"text-align: right;\">\n",
       "      <th></th>\n",
       "      <th>calcRep</th>\n",
       "      <th>name</th>\n",
       "      <th>rep</th>\n",
       "    </tr>\n",
       "  </thead>\n",
       "  <tbody>\n",
       "    <tr>\n",
       "      <th>340682</th>\n",
       "      <td>-15</td>\n",
       "      <td>matrixdweller</td>\n",
       "      <td>-29377009310460</td>\n",
       "    </tr>\n",
       "    <tr>\n",
       "      <th>580751</th>\n",
       "      <td>-16</td>\n",
       "      <td>wang</td>\n",
       "      <td>-37765258368568</td>\n",
       "    </tr>\n",
       "    <tr>\n",
       "      <th>59937</th>\n",
       "      <td>-17</td>\n",
       "      <td>berniesanders</td>\n",
       "      <td>-53479962528315</td>\n",
       "    </tr>\n",
       "  </tbody>\n",
       "</table>\n",
       "</div>"
      ],
      "text/plain": [
       "        calcRep           name             rep\n",
       "340682      -15  matrixdweller -29377009310460\n",
       "580751      -16           wang -37765258368568\n",
       "59937       -17  berniesanders -53479962528315"
      ]
     },
     "execution_count": 106,
     "metadata": {},
     "output_type": "execute_result"
    }
   ],
   "source": [
    "Data.sort_values('rep', ascending=False).tail(3)"
   ]
  },
  {
   "cell_type": "markdown",
   "metadata": {},
   "source": [
    "Getting that list took a lot more gyration than expected – because the values for Reputation as stored in the database are so large, they change type at some point and stop being 64-bit integers and start being strings.\n",
    "\n",
    "@furion , if you're listening, they probably ought to be stored as *all* strings or an even bigger int if necessary. I would settle for strings, but one or the other should definitely happen. This mixed type solution is messy.\n",
    "\n",
    "Anyway, we have a list of all the accounts on the system sorted by reputation, and how we can actually do some stuff with it."
   ]
  },
  {
   "cell_type": "code",
   "execution_count": 107,
   "metadata": {},
   "outputs": [],
   "source": [
    "cData = Data[Data['calcRep'] >= 40].sort_values('calcRep', ascending=False)"
   ]
  },
  {
   "cell_type": "code",
   "execution_count": 108,
   "metadata": {},
   "outputs": [],
   "source": [
    "nData = cData.set_index('name')"
   ]
  },
  {
   "cell_type": "code",
   "execution_count": 109,
   "metadata": {},
   "outputs": [
    {
     "data": {
      "text/html": [
       "<div>\n",
       "<style scoped>\n",
       "    .dataframe tbody tr th:only-of-type {\n",
       "        vertical-align: middle;\n",
       "    }\n",
       "\n",
       "    .dataframe tbody tr th {\n",
       "        vertical-align: top;\n",
       "    }\n",
       "\n",
       "    .dataframe thead th {\n",
       "        text-align: right;\n",
       "    }\n",
       "</style>\n",
       "<table border=\"1\" class=\"dataframe\">\n",
       "  <thead>\n",
       "    <tr style=\"text-align: right;\">\n",
       "      <th></th>\n",
       "      <th>calcRep</th>\n",
       "      <th>rep</th>\n",
       "    </tr>\n",
       "    <tr>\n",
       "      <th>name</th>\n",
       "      <th></th>\n",
       "      <th></th>\n",
       "    </tr>\n",
       "  </thead>\n",
       "  <tbody>\n",
       "    <tr>\n",
       "      <th>steemsports</th>\n",
       "      <td>78</td>\n",
       "      <td>913296035791209</td>\n",
       "    </tr>\n",
       "    <tr>\n",
       "      <th>gavvet</th>\n",
       "      <td>77</td>\n",
       "      <td>660761030588799</td>\n",
       "    </tr>\n",
       "    <tr>\n",
       "      <th>knozaki2015</th>\n",
       "      <td>77</td>\n",
       "      <td>746658070499557</td>\n",
       "    </tr>\n",
       "    <tr>\n",
       "      <th>papa-pepper</th>\n",
       "      <td>77</td>\n",
       "      <td>682990070870322</td>\n",
       "    </tr>\n",
       "    <tr>\n",
       "      <th>ozchartart</th>\n",
       "      <td>76</td>\n",
       "      <td>467589219907553</td>\n",
       "    </tr>\n",
       "  </tbody>\n",
       "</table>\n",
       "</div>"
      ],
      "text/plain": [
       "             calcRep              rep\n",
       "name                                 \n",
       "steemsports       78  913296035791209\n",
       "gavvet            77  660761030588799\n",
       "knozaki2015       77  746658070499557\n",
       "papa-pepper       77  682990070870322\n",
       "ozchartart        76  467589219907553"
      ]
     },
     "execution_count": 109,
     "metadata": {},
     "output_type": "execute_result"
    }
   ],
   "source": [
    "nData.head()"
   ]
  },
  {
   "cell_type": "code",
   "execution_count": 110,
   "metadata": {},
   "outputs": [
    {
     "data": {
      "text/html": [
       "<div>\n",
       "<style scoped>\n",
       "    .dataframe tbody tr th:only-of-type {\n",
       "        vertical-align: middle;\n",
       "    }\n",
       "\n",
       "    .dataframe tbody tr th {\n",
       "        vertical-align: top;\n",
       "    }\n",
       "\n",
       "    .dataframe thead th {\n",
       "        text-align: right;\n",
       "    }\n",
       "</style>\n",
       "<table border=\"1\" class=\"dataframe\">\n",
       "  <thead>\n",
       "    <tr style=\"text-align: right;\">\n",
       "      <th></th>\n",
       "      <th>calcRep</th>\n",
       "      <th>rep</th>\n",
       "    </tr>\n",
       "    <tr>\n",
       "      <th>name</th>\n",
       "      <th></th>\n",
       "      <th></th>\n",
       "    </tr>\n",
       "  </thead>\n",
       "  <tbody>\n",
       "    <tr>\n",
       "      <th>chadwickthecrab</th>\n",
       "      <td>40</td>\n",
       "      <td>58978979429</td>\n",
       "    </tr>\n",
       "    <tr>\n",
       "      <th>yudiananda</th>\n",
       "      <td>40</td>\n",
       "      <td>50125948491</td>\n",
       "    </tr>\n",
       "    <tr>\n",
       "      <th>mahmut</th>\n",
       "      <td>40</td>\n",
       "      <td>47287237996</td>\n",
       "    </tr>\n",
       "    <tr>\n",
       "      <th>mahmoodhassan</th>\n",
       "      <td>40</td>\n",
       "      <td>56958995698</td>\n",
       "    </tr>\n",
       "    <tr>\n",
       "      <th>yohamartinez</th>\n",
       "      <td>40</td>\n",
       "      <td>48050862479</td>\n",
       "    </tr>\n",
       "  </tbody>\n",
       "</table>\n",
       "</div>"
      ],
      "text/plain": [
       "                 calcRep          rep\n",
       "name                                 \n",
       "chadwickthecrab       40  58978979429\n",
       "yudiananda            40  50125948491\n",
       "mahmut                40  47287237996\n",
       "mahmoodhassan         40  56958995698\n",
       "yohamartinez          40  48050862479"
      ]
     },
     "execution_count": 110,
     "metadata": {},
     "output_type": "execute_result"
    }
   ],
   "source": [
    "nData.tail()"
   ]
  },
  {
   "cell_type": "code",
   "execution_count": 111,
   "metadata": {},
   "outputs": [
    {
     "data": {
      "text/plain": [
       "55739"
      ]
     },
     "execution_count": 111,
     "metadata": {},
     "output_type": "execute_result"
    }
   ],
   "source": [
    "len(nData)"
   ]
  },
  {
   "cell_type": "markdown",
   "metadata": {},
   "source": [
    "That is a lot lower number than I expected to see. In fact, I'm starting to wonder if poking around in this part of the world doesn't invalidate a lot of the things we've been told about the amount of live accounts on the platform. It's under 55,000 accounts with a reputation of \"you've at least done something to create content\", covering the entire life of the platform. \n",
    "\n",
    "In fact, I'm starting to wonder if poking around in this part of the world doesn't invalidate a lot of the things we've been told about the amount of live accounts on the platform.\n",
    "\n",
    "That is not a great thing."
   ]
  },
  {
   "cell_type": "markdown",
   "metadata": {},
   "source": [
    "But before we go there, we need to talk about something you've already seen the evidence of up above…"
   ]
  },
  {
   "cell_type": "markdown",
   "metadata": {},
   "source": [
    "## Who th'Hell Wrote This Tripe?"
   ]
  },
  {
   "cell_type": "markdown",
   "metadata": {},
   "source": [
    "Look, I know it's been a long time since I had to maintain enterprise-class code. In the intervening years I may have become more cynical, more bitter, and even better at doing code analysis than I was in the heady years of my youth.\n",
    "\n",
    "Which I despised, for the record. Going through someone else's code is like going through their sewer pipe. It's not even as dignified as going through their garbage. I enjoy going through the garbage.\n",
    "\n",
    "Someone needs to find the people that wrote the connector and the JavaScript code originally for the steem blockchain, cut off their fingers, feed them their own fingers, and then possibly remove their ears and tongue so no one else has to listen to their insanity – because the actual code is actually bad.\n",
    "\n",
    "I invite you to go and look at the article I linked earlier. You'll notice that it lightly outlines the Reputation calculation and then cites a piece of code and shows a piece of code. There is some reference to \"details left out.\"\n",
    "\n",
    "I'm here to tell you that what was left out up there was grade-A stupid.\n",
    "\n",
    "Someone decided that the best way to implement a log base 10 algorithm was not to actually use floats or decent integer approximations, but instead to convert or use a string, snip off the first five characters of that string and convert it to an int, take the natural logarithm of that int and divide it by the natural logarithm of 10 (the only smart part of this algorithm), then crush those things back together, counting on the `parseInt` function in JavaScript to do the right thing and if they are slight offset in log calculation to effectively return the decimal portion of the base 10 logarithm of the overall request, and then pass it back.\n",
    "\n",
    "But the stupid doesn't stop there, because the actual Reputation calculation maintains some of the calculation in an integer state and some in a string state, mashes things together willy-nilly, and hopes to Hell that `parseInt` can save the day again when they go to return the ultimate value.\n",
    "\n",
    "This isn't just wrong. It's beyond wrong. Whoever wrote this code doesn't need to be allowed near keyboard for the safety of the entire application.\n",
    "\n",
    "I can almost, kind of, if I tilt my head to the side 90° and then squint really hard, see what they were trying to do. There is a really clumsy attempt to keep from passing around large integers, which some bright soul decided that at least part of the Reputation fields in the blockchain itself would be stored as strings. Rather than simply read the value and immediately convert it to something useful like a 64-bit integer and doing the calculations sensibly in that domain, they decided to write their own base 10 logarithm code which is effectively just \"tell me how long this string is -1\", pass around a whole pile of strings, build and deconstruct strings, parse strings multiple times, and hit the stack on top of all of that.\n",
    "\n",
    "Out of curiosity, pure curiosity, I decided to do a quick set of time comparisons of my proper version of the Reputation code, a pretty straightforward version of their Reputation code, and the dumbest possible implementation I could imagine which was just literally taking the length of an integer turned into a string and returning that as the base 10 logarithm.\n",
    "\n",
    "Here's what that looks like."
   ]
  },
  {
   "cell_type": "code",
   "execution_count": 112,
   "metadata": {},
   "outputs": [
    {
     "name": "stdout",
     "output_type": "stream",
     "text": [
      "75 ms ± 681 µs per loop (mean ± std. dev. of 7 runs, 10 loops each)\n"
     ]
    }
   ],
   "source": [
    "%timeit -n 10 [rep2Rep(i) for i in range(1, 100000)][:5]"
   ]
  },
  {
   "cell_type": "code",
   "execution_count": 113,
   "metadata": {},
   "outputs": [
    {
     "name": "stdout",
     "output_type": "stream",
     "text": [
      "209 ms ± 3.54 ms per loop (mean ± std. dev. of 7 runs, 10 loops each)\n"
     ]
    }
   ],
   "source": [
    "%timeit -n 10 [steemBullshitRep2Rep(i) for i in range(1, 100000)][:5]"
   ]
  },
  {
   "cell_type": "code",
   "execution_count": 114,
   "metadata": {},
   "outputs": [
    {
     "name": "stdout",
     "output_type": "stream",
     "text": [
      "34.6 ms ± 529 µs per loop (mean ± std. dev. of 7 runs, 10 loops each)\n"
     ]
    }
   ],
   "source": [
    "%timeit -n 10 [len(str(i)) - 1 + 25 for i in range(1, 100000)][:5]"
   ]
  },
  {
   "cell_type": "markdown",
   "metadata": {},
   "source": [
    "I was impressed; it turns out that they only ran *a third* the speed of properly designed code. Though I could double the speed of my own if I replaced it with a purely naïve implementation. I'm not sure we would actually lose much accuracy in the presentation as a result, and since nothing actually hinges on the short form Reputation presentation, maybe these really ridiculous blocks of code could be replaced with even stupider but at least coherent blocks of code.\n",
    "\n",
    "If you're curious where this stuff lives, be my guest and go gaze upon the horror with thine own eyes.\n",
    "\n",
    "https://github.com/steemit/steem-js/blob/master/src/formatter.js\n",
    "\n",
    "https://github.com/steemit/condenser/blob/ff705f7a413c64e513ecb7f1f6f66fee793a28c7/src/app/utils/ParsersAndFormatters.js"
   ]
  },
  {
   "cell_type": "markdown",
   "metadata": {},
   "source": [
    "Now that's out of the way, let's check out what the distribution of Reputation looks like."
   ]
  },
  {
   "cell_type": "markdown",
   "metadata": {},
   "source": [
    "## Eye on the Prize(s)"
   ]
  },
  {
   "cell_type": "markdown",
   "metadata": {},
   "source": [
    "At a certain point you just have to roll up your sleeves, flex your fingers, and get ready to get your hands dirty. I have a sneaking suspicion of what this is going to look like, right up front, but we'll take a look at how things actually shake out."
   ]
  },
  {
   "cell_type": "code",
   "execution_count": 115,
   "metadata": {},
   "outputs": [
    {
     "data": {
      "text/html": [
       "<div>\n",
       "<style scoped>\n",
       "    .dataframe tbody tr th:only-of-type {\n",
       "        vertical-align: middle;\n",
       "    }\n",
       "\n",
       "    .dataframe tbody tr th {\n",
       "        vertical-align: top;\n",
       "    }\n",
       "\n",
       "    .dataframe thead th {\n",
       "        text-align: right;\n",
       "    }\n",
       "</style>\n",
       "<table border=\"1\" class=\"dataframe\">\n",
       "  <thead>\n",
       "    <tr style=\"text-align: right;\">\n",
       "      <th></th>\n",
       "      <th>calcRep</th>\n",
       "      <th>rep</th>\n",
       "    </tr>\n",
       "    <tr>\n",
       "      <th>name</th>\n",
       "      <th></th>\n",
       "      <th></th>\n",
       "    </tr>\n",
       "  </thead>\n",
       "  <tbody>\n",
       "    <tr>\n",
       "      <th>steemsports</th>\n",
       "      <td>78</td>\n",
       "      <td>913296035791209</td>\n",
       "    </tr>\n",
       "    <tr>\n",
       "      <th>gavvet</th>\n",
       "      <td>77</td>\n",
       "      <td>660761030588799</td>\n",
       "    </tr>\n",
       "    <tr>\n",
       "      <th>knozaki2015</th>\n",
       "      <td>77</td>\n",
       "      <td>746658070499557</td>\n",
       "    </tr>\n",
       "    <tr>\n",
       "      <th>papa-pepper</th>\n",
       "      <td>77</td>\n",
       "      <td>682990070870322</td>\n",
       "    </tr>\n",
       "    <tr>\n",
       "      <th>ozchartart</th>\n",
       "      <td>76</td>\n",
       "      <td>467589219907553</td>\n",
       "    </tr>\n",
       "  </tbody>\n",
       "</table>\n",
       "</div>"
      ],
      "text/plain": [
       "             calcRep              rep\n",
       "name                                 \n",
       "steemsports       78  913296035791209\n",
       "gavvet            77  660761030588799\n",
       "knozaki2015       77  746658070499557\n",
       "papa-pepper       77  682990070870322\n",
       "ozchartart        76  467589219907553"
      ]
     },
     "execution_count": 115,
     "metadata": {},
     "output_type": "execute_result"
    }
   ],
   "source": [
    "nData.head()"
   ]
  },
  {
   "cell_type": "code",
   "execution_count": 116,
   "metadata": {},
   "outputs": [
    {
     "data": {
      "text/plain": [
       "array([<matplotlib.axes._subplots.AxesSubplot object at 0x000001220C3478D0>,\n",
       "       <matplotlib.axes._subplots.AxesSubplot object at 0x000001220C3A1358>],\n",
       "      dtype=object)"
      ]
     },
     "execution_count": 116,
     "metadata": {},
     "output_type": "execute_result"
    },
    {
     "data": {
      "image/png": "[encoded data removed]",
      "text/plain": [
       "<Figure size 1584x1296 with 2 Axes>"
      ]
     },
     "metadata": {},
     "output_type": "display_data"
    }
   ],
   "source": [
    "nData.plot(subplots=True, \n",
    "           figsize=(22, 18), \n",
    "           title='Reputation Ranks', \n",
    "           grid=True, \n",
    "          )"
   ]
  },
  {
   "cell_type": "markdown",
   "metadata": {},
   "source": [
    "Does this look familiar to you?\n",
    "\n",
    "If you've been reading any of the analysis that I've been doing over the last few weeks, it should. It looks like every other distribution curve on Steemit. Every single one. The difference between the top and bottom is that the top is taking the integer Reputation of all of the accounts with greater than 40 Rep, and the lower curve is those exact same accounts except with their raw reputation plotted.\n",
    "\n",
    "Can you tell the immediate difference between the two?\n",
    "\n",
    "If you've been following the functions I've been writing, you know – the calculated Reputation has an implicit logarithmic curve causing the vast slope of the actual underlying reputation to be somewhat masked. I've used logarithmic slopes before in showing SP distribution on the blockchain, and the results were exactly like this. It just lifted up the knee of the curve.\n",
    "\n",
    "Is Reputation 40 high enough to count as \"money,\" or should we take the limit even higher? Of course, as we raise our cutoff point, the population of people that we're talking about becomes very quickly much smaller. Let's redo this with Reputation 50+ and see where that puts us."
   ]
  },
  {
   "cell_type": "code",
   "execution_count": 117,
   "metadata": {},
   "outputs": [],
   "source": [
    "cData = Data[Data['calcRep'] >= 50].sort_values('calcRep', ascending=False)"
   ]
  },
  {
   "cell_type": "code",
   "execution_count": 118,
   "metadata": {},
   "outputs": [],
   "source": [
    "nData = cData.set_index('name')"
   ]
  },
  {
   "cell_type": "code",
   "execution_count": 119,
   "metadata": {},
   "outputs": [
    {
     "data": {
      "text/plain": [
       "19129"
      ]
     },
     "execution_count": 119,
     "metadata": {},
     "output_type": "execute_result"
    }
   ],
   "source": [
    "len(nData)"
   ]
  },
  {
   "cell_type": "code",
   "execution_count": 120,
   "metadata": {},
   "outputs": [
    {
     "data": {
      "text/html": [
       "<div>\n",
       "<style scoped>\n",
       "    .dataframe tbody tr th:only-of-type {\n",
       "        vertical-align: middle;\n",
       "    }\n",
       "\n",
       "    .dataframe tbody tr th {\n",
       "        vertical-align: top;\n",
       "    }\n",
       "\n",
       "    .dataframe thead th {\n",
       "        text-align: right;\n",
       "    }\n",
       "</style>\n",
       "<table border=\"1\" class=\"dataframe\">\n",
       "  <thead>\n",
       "    <tr style=\"text-align: right;\">\n",
       "      <th></th>\n",
       "      <th>calcRep</th>\n",
       "      <th>rep</th>\n",
       "    </tr>\n",
       "    <tr>\n",
       "      <th>name</th>\n",
       "      <th></th>\n",
       "      <th></th>\n",
       "    </tr>\n",
       "  </thead>\n",
       "  <tbody>\n",
       "    <tr>\n",
       "      <th>steemsports</th>\n",
       "      <td>78</td>\n",
       "      <td>913296035791209</td>\n",
       "    </tr>\n",
       "    <tr>\n",
       "      <th>papa-pepper</th>\n",
       "      <td>77</td>\n",
       "      <td>682990070870322</td>\n",
       "    </tr>\n",
       "    <tr>\n",
       "      <th>knozaki2015</th>\n",
       "      <td>77</td>\n",
       "      <td>746658070499557</td>\n",
       "    </tr>\n",
       "    <tr>\n",
       "      <th>gavvet</th>\n",
       "      <td>77</td>\n",
       "      <td>660761030588799</td>\n",
       "    </tr>\n",
       "    <tr>\n",
       "      <th>krnel</th>\n",
       "      <td>76</td>\n",
       "      <td>528772137201395</td>\n",
       "    </tr>\n",
       "  </tbody>\n",
       "</table>\n",
       "</div>"
      ],
      "text/plain": [
       "             calcRep              rep\n",
       "name                                 \n",
       "steemsports       78  913296035791209\n",
       "papa-pepper       77  682990070870322\n",
       "knozaki2015       77  746658070499557\n",
       "gavvet            77  660761030588799\n",
       "krnel             76  528772137201395"
      ]
     },
     "execution_count": 120,
     "metadata": {},
     "output_type": "execute_result"
    }
   ],
   "source": [
    "nData.head()"
   ]
  },
  {
   "cell_type": "code",
   "execution_count": 121,
   "metadata": {},
   "outputs": [
    {
     "data": {
      "text/html": [
       "<div>\n",
       "<style scoped>\n",
       "    .dataframe tbody tr th:only-of-type {\n",
       "        vertical-align: middle;\n",
       "    }\n",
       "\n",
       "    .dataframe tbody tr th {\n",
       "        vertical-align: top;\n",
       "    }\n",
       "\n",
       "    .dataframe thead th {\n",
       "        text-align: right;\n",
       "    }\n",
       "</style>\n",
       "<table border=\"1\" class=\"dataframe\">\n",
       "  <thead>\n",
       "    <tr style=\"text-align: right;\">\n",
       "      <th></th>\n",
       "      <th>calcRep</th>\n",
       "      <th>rep</th>\n",
       "    </tr>\n",
       "    <tr>\n",
       "      <th>name</th>\n",
       "      <th></th>\n",
       "      <th></th>\n",
       "    </tr>\n",
       "  </thead>\n",
       "  <tbody>\n",
       "    <tr>\n",
       "      <th>neesje</th>\n",
       "      <td>50</td>\n",
       "      <td>738360211524</td>\n",
       "    </tr>\n",
       "    <tr>\n",
       "      <th>ned-scott-videos</th>\n",
       "      <td>50</td>\n",
       "      <td>629802131081</td>\n",
       "    </tr>\n",
       "    <tr>\n",
       "      <th>tktk1023</th>\n",
       "      <td>50</td>\n",
       "      <td>732930735510</td>\n",
       "    </tr>\n",
       "    <tr>\n",
       "      <th>neclatenekeci</th>\n",
       "      <td>50</td>\n",
       "      <td>653698846700</td>\n",
       "    </tr>\n",
       "    <tr>\n",
       "      <th>wefund</th>\n",
       "      <td>50</td>\n",
       "      <td>680810981197</td>\n",
       "    </tr>\n",
       "  </tbody>\n",
       "</table>\n",
       "</div>"
      ],
      "text/plain": [
       "                  calcRep           rep\n",
       "name                                   \n",
       "neesje                 50  738360211524\n",
       "ned-scott-videos       50  629802131081\n",
       "tktk1023               50  732930735510\n",
       "neclatenekeci          50  653698846700\n",
       "wefund                 50  680810981197"
      ]
     },
     "execution_count": 121,
     "metadata": {},
     "output_type": "execute_result"
    }
   ],
   "source": [
    "nData.tail()"
   ]
  },
  {
   "cell_type": "markdown",
   "metadata": {},
   "source": [
    "That takes us down to only 20,000 of the users on the platform and probably puts us in the right place to start wondering if all of the votes for this group stay within the group or fall outside of it?\n",
    "\n",
    "Of course, we need to figure out what the scope of the votes we're interested in actually are. All votes on the platform would be far too much data to crunch and not very interesting. The last week might be acceptable, so let's target that first.\n",
    "\n",
    "Step one is querying the database for all of the votes which were done by any of the people in this list within the last week."
   ]
  },
  {
   "cell_type": "code",
   "execution_count": 122,
   "metadata": {},
   "outputs": [],
   "source": [
    "intL = nData.index.tolist()"
   ]
  },
  {
   "cell_type": "code",
   "execution_count": 123,
   "metadata": {},
   "outputs": [],
   "source": [
    "# Init connection to database\n",
    "\n",
    "db = SteemData()"
   ]
  },
  {
   "cell_type": "code",
   "execution_count": 124,
   "metadata": {},
   "outputs": [],
   "source": [
    "# Let's put our account on interest here in a list. One day\n",
    "#   we might want to generalize to more than one.\n",
    "\n",
    "intL = nData.index.tolist()"
   ]
  },
  {
   "cell_type": "code",
   "execution_count": 125,
   "metadata": {},
   "outputs": [],
   "source": [
    "# We want only the vote transactions which have happened\n",
    "#   in the last week AND involve only our accounts of interest. \n",
    "\n",
    "query = {\n",
    "    'type' : 'vote',\n",
    "    'timestamp' : {'$gte': dt.now() - datetime.timedelta(days=7)},\n",
    "    '$or': [{'voter': {'$in': intL}}\n",
    "           ]}\n",
    "\n",
    "proj = {'voter': 1, 'author': 1, 'weight': 1, 'permlink': 1,\n",
    "        '_id': 0}"
   ]
  },
  {
   "cell_type": "code",
   "execution_count": 126,
   "metadata": {},
   "outputs": [
    {
     "name": "stdout",
     "output_type": "stream",
     "text": [
      "Wall time: 1min 12s\n"
     ]
    }
   ],
   "source": [
    "%%time\n",
    "\n",
    "result = db.Operations.find(query,\n",
    "                            projection=proj)\n",
    "\n",
    "votes = list(result)"
   ]
  },
  {
   "cell_type": "code",
   "execution_count": 127,
   "metadata": {},
   "outputs": [
    {
     "data": {
      "text/plain": [
       "[{'author': 'appics',\n",
       "  'permlink': 're-claudiaz-re-appics-announcing-appics-or-the-next-generation-social-app-or-first-smart-media-token-20171018t233054132z',\n",
       "  'voter': 'sinner264',\n",
       "  'weight': 1000},\n",
       " {'author': 'simone88',\n",
       "  'permlink': 'colored-drawing-mayor-mccheese',\n",
       "  'voter': 'biglipsmama',\n",
       "  'weight': 300},\n",
       " {'author': 'novi',\n",
       "  'permlink': 'wanita-tangguh-b2e0e2732f87c',\n",
       "  'voter': 'good-karma',\n",
       "  'weight': 6},\n",
       " {'author': 'edwardbernays',\n",
       "  'permlink': 'basic-needs',\n",
       "  'voter': 'youareyourowngod',\n",
       "  'weight': 10},\n",
       " {'author': 'hninyu',\n",
       "  'permlink': 'grilled-shrimp-a3c0635fbd3cb',\n",
       "  'voter': 'cryptohustler',\n",
       "  'weight': 50}]"
      ]
     },
     "execution_count": 127,
     "metadata": {},
     "output_type": "execute_result"
    }
   ],
   "source": [
    "votes[:5]"
   ]
  },
  {
   "cell_type": "code",
   "execution_count": 128,
   "metadata": {},
   "outputs": [
    {
     "data": {
      "text/plain": [
       "1913625"
      ]
     },
     "execution_count": 128,
     "metadata": {},
     "output_type": "execute_result"
    }
   ],
   "source": [
    "len(votes)"
   ]
  },
  {
   "cell_type": "markdown",
   "metadata": {},
   "source": [
    "Almost 2 million votes in the last week from the accounts in this pile.\n",
    "\n",
    "That is a lot of voting.\n",
    "\n",
    "Worse, though – it's just too many edges to deal with. Though maybe once we get this data into some sort of table that we can work with, structuring the output with some summaries and counts certainly may cut down on things – especially if there are a lot of commonalities.\n",
    "\n",
    "What the Hell, let's give it a try."
   ]
  },
  {
   "cell_type": "code",
   "execution_count": 129,
   "metadata": {},
   "outputs": [],
   "source": [
    "vData = pd.DataFrame(votes)"
   ]
  },
  {
   "cell_type": "code",
   "execution_count": 130,
   "metadata": {},
   "outputs": [
    {
     "data": {
      "text/html": [
       "<div>\n",
       "<style scoped>\n",
       "    .dataframe tbody tr th:only-of-type {\n",
       "        vertical-align: middle;\n",
       "    }\n",
       "\n",
       "    .dataframe tbody tr th {\n",
       "        vertical-align: top;\n",
       "    }\n",
       "\n",
       "    .dataframe thead th {\n",
       "        text-align: right;\n",
       "    }\n",
       "</style>\n",
       "<table border=\"1\" class=\"dataframe\">\n",
       "  <thead>\n",
       "    <tr style=\"text-align: right;\">\n",
       "      <th></th>\n",
       "      <th>author</th>\n",
       "      <th>permlink</th>\n",
       "      <th>voter</th>\n",
       "      <th>weight</th>\n",
       "    </tr>\n",
       "  </thead>\n",
       "  <tbody>\n",
       "    <tr>\n",
       "      <th>0</th>\n",
       "      <td>appics</td>\n",
       "      <td>re-claudiaz-re-appics-announcing-appics-or-the...</td>\n",
       "      <td>sinner264</td>\n",
       "      <td>1000</td>\n",
       "    </tr>\n",
       "    <tr>\n",
       "      <th>1</th>\n",
       "      <td>simone88</td>\n",
       "      <td>colored-drawing-mayor-mccheese</td>\n",
       "      <td>biglipsmama</td>\n",
       "      <td>300</td>\n",
       "    </tr>\n",
       "    <tr>\n",
       "      <th>2</th>\n",
       "      <td>novi</td>\n",
       "      <td>wanita-tangguh-b2e0e2732f87c</td>\n",
       "      <td>good-karma</td>\n",
       "      <td>6</td>\n",
       "    </tr>\n",
       "    <tr>\n",
       "      <th>3</th>\n",
       "      <td>edwardbernays</td>\n",
       "      <td>basic-needs</td>\n",
       "      <td>youareyourowngod</td>\n",
       "      <td>10</td>\n",
       "    </tr>\n",
       "    <tr>\n",
       "      <th>4</th>\n",
       "      <td>hninyu</td>\n",
       "      <td>grilled-shrimp-a3c0635fbd3cb</td>\n",
       "      <td>cryptohustler</td>\n",
       "      <td>50</td>\n",
       "    </tr>\n",
       "  </tbody>\n",
       "</table>\n",
       "</div>"
      ],
      "text/plain": [
       "          author                                           permlink  \\\n",
       "0         appics  re-claudiaz-re-appics-announcing-appics-or-the...   \n",
       "1       simone88                     colored-drawing-mayor-mccheese   \n",
       "2           novi                       wanita-tangguh-b2e0e2732f87c   \n",
       "3  edwardbernays                                        basic-needs   \n",
       "4         hninyu                       grilled-shrimp-a3c0635fbd3cb   \n",
       "\n",
       "              voter  weight  \n",
       "0         sinner264    1000  \n",
       "1       biglipsmama     300  \n",
       "2        good-karma       6  \n",
       "3  youareyourowngod      10  \n",
       "4     cryptohustler      50  "
      ]
     },
     "execution_count": 130,
     "metadata": {},
     "output_type": "execute_result"
    }
   ],
   "source": [
    "vData.head()"
   ]
  },
  {
   "cell_type": "code",
   "execution_count": 131,
   "metadata": {},
   "outputs": [],
   "source": [
    "veData = vData[vData['author'].isin(intL)]"
   ]
  },
  {
   "cell_type": "code",
   "execution_count": 132,
   "metadata": {},
   "outputs": [
    {
     "data": {
      "text/plain": [
       "1147353"
      ]
     },
     "execution_count": 132,
     "metadata": {},
     "output_type": "execute_result"
    }
   ],
   "source": [
    "len(veData)"
   ]
  },
  {
   "cell_type": "code",
   "execution_count": 133,
   "metadata": {},
   "outputs": [
    {
     "data": {
      "text/plain": [
       "0.5995704487556339"
      ]
     },
     "execution_count": 133,
     "metadata": {},
     "output_type": "execute_result"
    }
   ],
   "source": [
    "len(veData) / len(vData)"
   ]
  },
  {
   "cell_type": "markdown",
   "metadata": {},
   "source": [
    "I suppose that we have an answer, really. Roughly 60% of the votes in the last week cast by accounts with Reputations greater than 50 went to other accounts with Reputations greater than 50.\n",
    "\n",
    "But maybe it's not as bad as it looks, right? I mean, maybe all of the votes going inside the group are tiny votes, and they tend to vote with heavier weight outside of the group. That should be relatively easy to find out. All we need to do is sum up the weights on all the votes inside and in total, and a quick divisor will let us know what the ratio is."
   ]
  },
  {
   "cell_type": "code",
   "execution_count": 134,
   "metadata": {},
   "outputs": [
    {
     "data": {
      "text/plain": [
       "7303280912"
      ]
     },
     "execution_count": 134,
     "metadata": {},
     "output_type": "execute_result"
    }
   ],
   "source": [
    "vSum = vData['weight'].sum()\n",
    "\n",
    "vSum"
   ]
  },
  {
   "cell_type": "code",
   "execution_count": 135,
   "metadata": {},
   "outputs": [
    {
     "data": {
      "text/plain": [
       "5232713161"
      ]
     },
     "execution_count": 135,
     "metadata": {},
     "output_type": "execute_result"
    }
   ],
   "source": [
    "veSum = veData['weight'].sum()\n",
    "\n",
    "veSum"
   ]
  },
  {
   "cell_type": "code",
   "execution_count": 136,
   "metadata": {},
   "outputs": [
    {
     "data": {
      "text/plain": [
       "0.7164880036864177"
      ]
     },
     "execution_count": 136,
     "metadata": {},
     "output_type": "execute_result"
    }
   ],
   "source": [
    "veSum / vSum"
   ]
  },
  {
   "cell_type": "markdown",
   "metadata": {},
   "source": [
    "Oh.\n",
    "\n",
    "71% by weight went to authors inside the group as opposed to merely 60% by count.\n",
    "\n",
    "At this point it's getting hard to avoid finding that money does, in fact, vote for money.\n",
    "\n",
    "But soft, what light through yonder window breaks?\n",
    "\n",
    "What percentage of these votes are actually self-votes? Those would count as votes which were cast for someone within the same group, right? What percentage of the total are simply not getting out of the group because they are going to the voter themselves?\n",
    "\n",
    "We can easily work this out."
   ]
  },
  {
   "cell_type": "code",
   "execution_count": 137,
   "metadata": {},
   "outputs": [],
   "source": [
    "vsData = vData[vData['author'] == vData['voter']]"
   ]
  },
  {
   "cell_type": "code",
   "execution_count": 138,
   "metadata": {},
   "outputs": [
    {
     "data": {
      "text/plain": [
       "90695"
      ]
     },
     "execution_count": 138,
     "metadata": {},
     "output_type": "execute_result"
    }
   ],
   "source": [
    "len(vsData)"
   ]
  },
  {
   "cell_type": "code",
   "execution_count": 139,
   "metadata": {},
   "outputs": [],
   "source": [
    "vsSum = vsData['weight'].sum()"
   ]
  },
  {
   "cell_type": "code",
   "execution_count": 140,
   "metadata": {},
   "outputs": [
    {
     "data": {
      "text/plain": [
       "835090614"
      ]
     },
     "execution_count": 140,
     "metadata": {},
     "output_type": "execute_result"
    }
   ],
   "source": [
    "vsSum"
   ]
  },
  {
   "cell_type": "code",
   "execution_count": 141,
   "metadata": {},
   "outputs": [
    {
     "data": {
      "text/plain": [
       "(0.047394343196812336, 0.11434458349094377)"
      ]
     },
     "execution_count": 141,
     "metadata": {},
     "output_type": "execute_result"
    }
   ],
   "source": [
    "len(vsData) / len(vData), vsSum / vSum"
   ]
  },
  {
   "cell_type": "markdown",
   "metadata": {},
   "source": [
    "Not *entirely* expected.\n",
    "\n",
    "Only 4.7% of the total number of votes cast by accounts with a Reputation of greater than 50 were self-votes, which is relatively reassuring, I suppose. However, 11.4% of the total weight in votes cast by accounts with Reputation 50 or more went to self-voting.\n",
    "\n",
    "I want to be clear at this point, I have no problem with people self-voting. I am a firm believer in \"code is law,\" and the steem blockchain goes out of its way to reinforce at every turn that voting your own goods up with your own SP is one of the most efficient and effective ways of increasing your holdings.\n",
    "\n",
    "You don't have to like it, but you do have to accept it.\n",
    "\n",
    "This paints a very strange picture, in that 60% of votes in general go inside of the high reputation group, while 71% of the total vote weight stayed in the group. Only 4.7% of those votes were self votes, but they made up 11.4% of the total weight of votes cast.\n",
    "\n",
    "Apparently, high Reputation accounts keep the SP in the family, with a tendency to vote other high Reputation accounts more aggressively, but of that 71% of vote power, roughly 11% were just voting for themselves.\n",
    "\n",
    "That's really, really interesting. Like most of my findings, I don't know what it actually means – but we found it.\n",
    "\n",
    "Out of curiosity, a truly perverse and probably self-destructive curiosity, what say we turn the breakpoint all the way up to Reputation 70 and see how the numbers fall out."
   ]
  },
  {
   "cell_type": "code",
   "execution_count": 142,
   "metadata": {},
   "outputs": [],
   "source": [
    "cData = Data[Data['calcRep'] >= 70].sort_values('calcRep', ascending=False)"
   ]
  },
  {
   "cell_type": "code",
   "execution_count": 143,
   "metadata": {},
   "outputs": [],
   "source": [
    "nData = cData.set_index('name')"
   ]
  },
  {
   "cell_type": "code",
   "execution_count": 144,
   "metadata": {},
   "outputs": [
    {
     "data": {
      "text/plain": [
       "224"
      ]
     },
     "execution_count": 144,
     "metadata": {},
     "output_type": "execute_result"
    }
   ],
   "source": [
    "len(nData)"
   ]
  },
  {
   "cell_type": "markdown",
   "metadata": {},
   "source": [
    "Only 224 accounts on the entire blockchain have a Reputation of over 70. I'm not sure if that's reassuring or terrifying. It is what it is."
   ]
  },
  {
   "cell_type": "code",
   "execution_count": 145,
   "metadata": {},
   "outputs": [
    {
     "data": {
      "text/html": [
       "<div>\n",
       "<style scoped>\n",
       "    .dataframe tbody tr th:only-of-type {\n",
       "        vertical-align: middle;\n",
       "    }\n",
       "\n",
       "    .dataframe tbody tr th {\n",
       "        vertical-align: top;\n",
       "    }\n",
       "\n",
       "    .dataframe thead th {\n",
       "        text-align: right;\n",
       "    }\n",
       "</style>\n",
       "<table border=\"1\" class=\"dataframe\">\n",
       "  <thead>\n",
       "    <tr style=\"text-align: right;\">\n",
       "      <th></th>\n",
       "      <th>calcRep</th>\n",
       "      <th>rep</th>\n",
       "    </tr>\n",
       "    <tr>\n",
       "      <th>name</th>\n",
       "      <th></th>\n",
       "      <th></th>\n",
       "    </tr>\n",
       "  </thead>\n",
       "  <tbody>\n",
       "    <tr>\n",
       "      <th>steemsports</th>\n",
       "      <td>78</td>\n",
       "      <td>913296035791209</td>\n",
       "    </tr>\n",
       "    <tr>\n",
       "      <th>gavvet</th>\n",
       "      <td>77</td>\n",
       "      <td>660761030588799</td>\n",
       "    </tr>\n",
       "    <tr>\n",
       "      <th>papa-pepper</th>\n",
       "      <td>77</td>\n",
       "      <td>682990070870322</td>\n",
       "    </tr>\n",
       "    <tr>\n",
       "      <th>knozaki2015</th>\n",
       "      <td>77</td>\n",
       "      <td>746658070499557</td>\n",
       "    </tr>\n",
       "    <tr>\n",
       "      <th>ozchartart</th>\n",
       "      <td>76</td>\n",
       "      <td>467589219907553</td>\n",
       "    </tr>\n",
       "  </tbody>\n",
       "</table>\n",
       "</div>"
      ],
      "text/plain": [
       "             calcRep              rep\n",
       "name                                 \n",
       "steemsports       78  913296035791209\n",
       "gavvet            77  660761030588799\n",
       "papa-pepper       77  682990070870322\n",
       "knozaki2015       77  746658070499557\n",
       "ozchartart        76  467589219907553"
      ]
     },
     "execution_count": 145,
     "metadata": {},
     "output_type": "execute_result"
    }
   ],
   "source": [
    "nData.head()"
   ]
  },
  {
   "cell_type": "code",
   "execution_count": 146,
   "metadata": {},
   "outputs": [
    {
     "data": {
      "text/html": [
       "<div>\n",
       "<style scoped>\n",
       "    .dataframe tbody tr th:only-of-type {\n",
       "        vertical-align: middle;\n",
       "    }\n",
       "\n",
       "    .dataframe tbody tr th {\n",
       "        vertical-align: top;\n",
       "    }\n",
       "\n",
       "    .dataframe thead th {\n",
       "        text-align: right;\n",
       "    }\n",
       "</style>\n",
       "<table border=\"1\" class=\"dataframe\">\n",
       "  <thead>\n",
       "    <tr style=\"text-align: right;\">\n",
       "      <th></th>\n",
       "      <th>calcRep</th>\n",
       "      <th>rep</th>\n",
       "    </tr>\n",
       "    <tr>\n",
       "      <th>name</th>\n",
       "      <th></th>\n",
       "      <th></th>\n",
       "    </tr>\n",
       "  </thead>\n",
       "  <tbody>\n",
       "    <tr>\n",
       "      <th>richman</th>\n",
       "      <td>70</td>\n",
       "      <td>114253548771732</td>\n",
       "    </tr>\n",
       "    <tr>\n",
       "      <th>reddust</th>\n",
       "      <td>70</td>\n",
       "      <td>100083302723374</td>\n",
       "    </tr>\n",
       "    <tr>\n",
       "      <th>rea</th>\n",
       "      <td>70</td>\n",
       "      <td>116140932922857</td>\n",
       "    </tr>\n",
       "    <tr>\n",
       "      <th>razvanelulmarin</th>\n",
       "      <td>70</td>\n",
       "      <td>108790190309091</td>\n",
       "    </tr>\n",
       "    <tr>\n",
       "      <th>fishingvideos</th>\n",
       "      <td>70</td>\n",
       "      <td>100154736138756</td>\n",
       "    </tr>\n",
       "  </tbody>\n",
       "</table>\n",
       "</div>"
      ],
      "text/plain": [
       "                 calcRep              rep\n",
       "name                                     \n",
       "richman               70  114253548771732\n",
       "reddust               70  100083302723374\n",
       "rea                   70  116140932922857\n",
       "razvanelulmarin       70  108790190309091\n",
       "fishingvideos         70  100154736138756"
      ]
     },
     "execution_count": 146,
     "metadata": {},
     "output_type": "execute_result"
    }
   ],
   "source": [
    "nData.tail()"
   ]
  },
  {
   "cell_type": "code",
   "execution_count": 147,
   "metadata": {},
   "outputs": [],
   "source": [
    "intL = nData.index.tolist()"
   ]
  },
  {
   "cell_type": "code",
   "execution_count": 148,
   "metadata": {},
   "outputs": [],
   "source": [
    "# Init connection to database\n",
    "\n",
    "db = SteemData()"
   ]
  },
  {
   "cell_type": "code",
   "execution_count": 149,
   "metadata": {},
   "outputs": [],
   "source": [
    "# Let's put our account on interest here in a list. One day\n",
    "#   we might want to generalize to more than one.\n",
    "\n",
    "intL = nData.index.tolist()"
   ]
  },
  {
   "cell_type": "code",
   "execution_count": 150,
   "metadata": {},
   "outputs": [],
   "source": [
    "# We want only the vote transactions which have happened\n",
    "#   in the last week AND involve only our accounts of interest. \n",
    "\n",
    "query = {\n",
    "    'type' : 'vote',\n",
    "    'timestamp' : {'$gte': dt.now() - datetime.timedelta(days=7)},\n",
    "    '$or': [{'voter': {'$in': intL}}\n",
    "           ]}\n",
    "\n",
    "proj = {'voter': 1, 'author': 1, 'weight': 1, 'permlink': 1,\n",
    "        '_id': 0}"
   ]
  },
  {
   "cell_type": "code",
   "execution_count": 151,
   "metadata": {},
   "outputs": [
    {
     "name": "stdout",
     "output_type": "stream",
     "text": [
      "Wall time: 16.5 s\n"
     ]
    }
   ],
   "source": [
    "%%time\n",
    "\n",
    "result = db.Operations.find(query,\n",
    "                            projection=proj)\n",
    "\n",
    "votes = list(result)"
   ]
  },
  {
   "cell_type": "code",
   "execution_count": 152,
   "metadata": {},
   "outputs": [
    {
     "data": {
      "text/plain": [
       "[{'author': 'walidelhaddad',\n",
       "  'permlink': 'binance-offers-usd250-000-bounty-for-arrest-of-hackers',\n",
       "  'voter': 'cheetah',\n",
       "  'weight': 8},\n",
       " {'author': 'carlitojoshua',\n",
       "  'permlink': 'march-fire-prevention-month',\n",
       "  'voter': 'juvyjabian',\n",
       "  'weight': 1000},\n",
       " {'author': 'smilebot',\n",
       "  'permlink': 'remember-to-smile-a2db16b93296a',\n",
       "  'voter': 'cheetah',\n",
       "  'weight': -8},\n",
       " {'author': 'wefund',\n",
       "  'permlink': 'wefund-ada-1-3',\n",
       "  'voter': 'krexchange',\n",
       "  'weight': 10000},\n",
       " {'author': 'gabbybear',\n",
       "  'permlink': 'international-women-s-day',\n",
       "  'voter': 'juvyjabian',\n",
       "  'weight': 1000}]"
      ]
     },
     "execution_count": 152,
     "metadata": {},
     "output_type": "execute_result"
    }
   ],
   "source": [
    "votes[:5]"
   ]
  },
  {
   "cell_type": "code",
   "execution_count": 153,
   "metadata": {},
   "outputs": [
    {
     "data": {
      "text/plain": [
       "91305"
      ]
     },
     "execution_count": 153,
     "metadata": {},
     "output_type": "execute_result"
    }
   ],
   "source": [
    "len(votes)"
   ]
  },
  {
   "cell_type": "markdown",
   "metadata": {},
   "source": [
    "91,000 total votes cast by accounts with Reputation 70 or greater. Compared to the number of votes that we been juggling along the way, this is very, very small. We are getting down into the realm of the graphable."
   ]
  },
  {
   "cell_type": "code",
   "execution_count": 164,
   "metadata": {},
   "outputs": [],
   "source": [
    "vData = pd.DataFrame(votes)"
   ]
  },
  {
   "cell_type": "code",
   "execution_count": 165,
   "metadata": {},
   "outputs": [
    {
     "data": {
      "text/html": [
       "<div>\n",
       "<style scoped>\n",
       "    .dataframe tbody tr th:only-of-type {\n",
       "        vertical-align: middle;\n",
       "    }\n",
       "\n",
       "    .dataframe tbody tr th {\n",
       "        vertical-align: top;\n",
       "    }\n",
       "\n",
       "    .dataframe thead th {\n",
       "        text-align: right;\n",
       "    }\n",
       "</style>\n",
       "<table border=\"1\" class=\"dataframe\">\n",
       "  <thead>\n",
       "    <tr style=\"text-align: right;\">\n",
       "      <th></th>\n",
       "      <th>author</th>\n",
       "      <th>permlink</th>\n",
       "      <th>voter</th>\n",
       "      <th>weight</th>\n",
       "    </tr>\n",
       "  </thead>\n",
       "  <tbody>\n",
       "    <tr>\n",
       "      <th>0</th>\n",
       "      <td>walidelhaddad</td>\n",
       "      <td>binance-offers-usd250-000-bounty-for-arrest-of...</td>\n",
       "      <td>cheetah</td>\n",
       "      <td>8</td>\n",
       "    </tr>\n",
       "    <tr>\n",
       "      <th>1</th>\n",
       "      <td>carlitojoshua</td>\n",
       "      <td>march-fire-prevention-month</td>\n",
       "      <td>juvyjabian</td>\n",
       "      <td>1000</td>\n",
       "    </tr>\n",
       "    <tr>\n",
       "      <th>2</th>\n",
       "      <td>smilebot</td>\n",
       "      <td>remember-to-smile-a2db16b93296a</td>\n",
       "      <td>cheetah</td>\n",
       "      <td>-8</td>\n",
       "    </tr>\n",
       "    <tr>\n",
       "      <th>3</th>\n",
       "      <td>wefund</td>\n",
       "      <td>wefund-ada-1-3</td>\n",
       "      <td>krexchange</td>\n",
       "      <td>10000</td>\n",
       "    </tr>\n",
       "    <tr>\n",
       "      <th>4</th>\n",
       "      <td>gabbybear</td>\n",
       "      <td>international-women-s-day</td>\n",
       "      <td>juvyjabian</td>\n",
       "      <td>1000</td>\n",
       "    </tr>\n",
       "  </tbody>\n",
       "</table>\n",
       "</div>"
      ],
      "text/plain": [
       "          author                                           permlink  \\\n",
       "0  walidelhaddad  binance-offers-usd250-000-bounty-for-arrest-of...   \n",
       "1  carlitojoshua                        march-fire-prevention-month   \n",
       "2       smilebot                    remember-to-smile-a2db16b93296a   \n",
       "3         wefund                                     wefund-ada-1-3   \n",
       "4      gabbybear                          international-women-s-day   \n",
       "\n",
       "        voter  weight  \n",
       "0     cheetah       8  \n",
       "1  juvyjabian    1000  \n",
       "2     cheetah      -8  \n",
       "3  krexchange   10000  \n",
       "4  juvyjabian    1000  "
      ]
     },
     "execution_count": 165,
     "metadata": {},
     "output_type": "execute_result"
    }
   ],
   "source": [
    "vData.head()"
   ]
  },
  {
   "cell_type": "code",
   "execution_count": 166,
   "metadata": {},
   "outputs": [],
   "source": [
    "veData = vData[vData['author'].isin(intL)]"
   ]
  },
  {
   "cell_type": "code",
   "execution_count": 167,
   "metadata": {},
   "outputs": [
    {
     "data": {
      "text/plain": [
       "12615"
      ]
     },
     "execution_count": 167,
     "metadata": {},
     "output_type": "execute_result"
    }
   ],
   "source": [
    "len(veData)"
   ]
  },
  {
   "cell_type": "code",
   "execution_count": 168,
   "metadata": {},
   "outputs": [
    {
     "data": {
      "text/plain": [
       "0.13816329883357975"
      ]
     },
     "execution_count": 168,
     "metadata": {},
     "output_type": "execute_result"
    }
   ],
   "source": [
    "len(veData) / len(vData)"
   ]
  },
  {
   "cell_type": "code",
   "execution_count": 169,
   "metadata": {},
   "outputs": [
    {
     "data": {
      "text/plain": [
       "161766147"
      ]
     },
     "execution_count": 169,
     "metadata": {},
     "output_type": "execute_result"
    }
   ],
   "source": [
    "vSum = vData['weight'].sum()\n",
    "\n",
    "vSum"
   ]
  },
  {
   "cell_type": "code",
   "execution_count": 170,
   "metadata": {},
   "outputs": [
    {
     "data": {
      "text/plain": [
       "54197247"
      ]
     },
     "execution_count": 170,
     "metadata": {},
     "output_type": "execute_result"
    }
   ],
   "source": [
    "veSum = veData['weight'].sum()\n",
    "\n",
    "veSum"
   ]
  },
  {
   "cell_type": "code",
   "execution_count": 171,
   "metadata": {},
   "outputs": [
    {
     "data": {
      "text/plain": [
       "0.3350345421777277"
      ]
     },
     "execution_count": 171,
     "metadata": {},
     "output_type": "execute_result"
    }
   ],
   "source": [
    "veSum / vSum"
   ]
  },
  {
   "cell_type": "code",
   "execution_count": 172,
   "metadata": {},
   "outputs": [],
   "source": [
    "vsData = vData[vData['author'] == vData['voter']]"
   ]
  },
  {
   "cell_type": "code",
   "execution_count": 173,
   "metadata": {},
   "outputs": [
    {
     "data": {
      "text/plain": [
       "2538"
      ]
     },
     "execution_count": 173,
     "metadata": {},
     "output_type": "execute_result"
    }
   ],
   "source": [
    "len(vsData)"
   ]
  },
  {
   "cell_type": "code",
   "execution_count": 174,
   "metadata": {},
   "outputs": [],
   "source": [
    "vsSum = vsData['weight'].sum()"
   ]
  },
  {
   "cell_type": "code",
   "execution_count": 175,
   "metadata": {},
   "outputs": [
    {
     "data": {
      "text/plain": [
       "22746035"
      ]
     },
     "execution_count": 175,
     "metadata": {},
     "output_type": "execute_result"
    }
   ],
   "source": [
    "vsSum"
   ]
  },
  {
   "cell_type": "code",
   "execution_count": 176,
   "metadata": {},
   "outputs": [
    {
     "data": {
      "text/plain": [
       "(0.02779694430754066, 0.14061060006578507)"
      ]
     },
     "execution_count": 176,
     "metadata": {},
     "output_type": "execute_result"
    }
   ],
   "source": [
    "len(vsData) / len(vData), vsSum / vSum"
   ]
  },
  {
   "cell_type": "markdown",
   "metadata": {},
   "source": [
    "So there we have it.\n",
    "\n",
    "Of accounts with Reputation 70+ who have voted in the last week:\n",
    "\n",
    "- Nearly 14% by count of those votes went to other accounts with Reputation 70+.\n",
    "\n",
    "- 33% by weight of those votes stayed with accounts with Reputation 70+.\n",
    "\n",
    "- Only 2.7% of those votes by count were self-votes.\n",
    "\n",
    "- But nearly 15% by weight of those votes were self-votes.\n",
    "\n",
    "Looking at the list of accounts in the Reputation 70+ category, this is not surprising news."
   ]
  },
  {
   "cell_type": "markdown",
   "metadata": {},
   "source": [
    "## *Epilogue*"
   ]
  },
  {
   "cell_type": "markdown",
   "metadata": {},
   "source": [
    "So what have we learned here, today?\n",
    "\n",
    "Money does, in fact, vote for money. Quite a lot of the time. Not only does it vote for money, it votes for itself quite often. The class of accounts with high Reputations focus on, whether intentionally or emergently, other accounts with high Reputations.\n",
    "\n",
    "The percentages by count decrease as the Reputation breakpoint increases, but not faster than the number of accounts involved decreases. And when talking about vote weight, which is purely about percentages, there seems to be an active centralization as you go up.\n",
    "\n",
    "Of accounts with Reputation 40+, it's not surprising that the vast bulk of their vote weight goes within the group. That includes moderately successful and established small bloggers with communities who have managed to tough it out and are still around.\n",
    "\n",
    "Once we start talking about 70+, however – it's an entirely different world. Keep in mind, 14% of their total votes for the week went to one of the other 224 accounts of comparable level.\n",
    "\n",
    "We haven't even dealt with the question of how many of these accounts are automated as opposed to manual, which is an entirely orthogonal question that probably deserves some kind of attention. Is it possible to gain an extremely high Reputation via automated means?\n",
    "\n",
    "There are definitely some bots in this group, particularly up voting bots. That means that they have not only been uploaded by new users, but have a long history of being up voted by higher Reputation accounts as well. It's not something that we can blame on uncouth newbies.\n",
    "\n",
    "This is interesting stuff. Hopefully someone else finds it as interesting as I do."
   ]
  },
  {
   "cell_type": "markdown",
   "metadata": {},
   "source": [
    "### Tools"
   ]
  },
  {
   "cell_type": "markdown",
   "metadata": {},
   "source": [
    "* [Python 3.6](https://www.python.org/)\n",
    "* [Jupyter Lab](https://github.com/jupyterlab/jupyterlab)\n",
    "* [SteemData](https://steemdata.com/) created by @furion\n",
    "* [MongoDB](https://www.mongodb.com/)\n",
    "* [Pandas](https://pandas.pydata.org/)\n",
    "\n",
    "**And the letter \"YYYYYYYYYYYYYYYYYYYYYYYYYYYYYYYYYYYYYY?!\"**"
   ]
  }
 ],
 "metadata": {
  "kernelspec": {
   "display_name": "Python 3",
   "language": "python",
   "name": "python3"
  },
  "language_info": {
   "codemirror_mode": {
    "name": "ipython",
    "version": 3
   },
   "file_extension": ".py",
   "mimetype": "text/x-python",
   "name": "python",
   "nbconvert_exporter": "python",
   "pygments_lexer": "ipython3",
   "version": "3.6.4"
  }
 },
 "nbformat": 4,
 "nbformat_minor": 2
}
